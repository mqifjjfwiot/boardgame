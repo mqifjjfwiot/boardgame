{
  "cells": [
    {
      "cell_type": "markdown",
      "metadata": {
        "id": "view-in-github",
        "colab_type": "text"
      },
      "source": [
        "<a href=\"https://colab.research.google.com/github/mqifjjfwiot/boardgame/blob/main/Untitled_v4.ipynb\" target=\"_parent\"><img src=\"https://colab.research.google.com/assets/colab-badge.svg\" alt=\"Open In Colab\"/></a>"
      ]
    },
    {
      "cell_type": "code",
      "execution_count": null,
      "id": "86248a8d-d4f6-4567-b25f-e8166265a5a5",
      "metadata": {
        "id": "86248a8d-d4f6-4567-b25f-e8166265a5a5"
      },
      "outputs": [],
      "source": [
        "# !pip install -r './requirements.txt'"
      ]
    },
    {
      "cell_type": "code",
      "source": [
        "from google.colab import drive\n",
        "drive.mount('/content/drive')"
      ],
      "metadata": {
        "colab": {
          "base_uri": "https://localhost:8080/"
        },
        "id": "QCD9Ccn65kPI",
        "outputId": "7a56b5b0-a9e3-49fa-a68f-55e8737b0b21"
      },
      "id": "QCD9Ccn65kPI",
      "execution_count": null,
      "outputs": [
        {
          "output_type": "stream",
          "name": "stdout",
          "text": [
            "Mounted at /content/drive\n"
          ]
        }
      ]
    },
    {
      "cell_type": "code",
      "execution_count": null,
      "id": "27bf9d97-c710-4981-941c-a3b88260b4af",
      "metadata": {
        "id": "27bf9d97-c710-4981-941c-a3b88260b4af"
      },
      "outputs": [],
      "source": [
        "import pandas as pd\n",
        "import os\n",
        "from pathlib import Path\n",
        "from matplotlib import pyplot as plt\n",
        "from PIL import Image\n",
        "import numpy as np\n",
        "#!pip install seaborn\n",
        "import seaborn as sns\n",
        "import shutil\n",
        "import torch\n",
        "import torchvision\n",
        "import torch.nn as nn\n",
        "import torch.optim as optim\n",
        "import torch.nn.functional as F\n",
        "from torchvision import transforms, utils\n",
        "from torch.utils.data import Dataset, DataLoader, random_split"
      ]
    },
    {
      "cell_type": "code",
      "source": [
        "!pwd"
      ],
      "metadata": {
        "colab": {
          "base_uri": "https://localhost:8080/"
        },
        "id": "LBUqz7g75sm_",
        "outputId": "75da737c-a90c-44f2-c5b1-c869f2ded454"
      },
      "id": "LBUqz7g75sm_",
      "execution_count": null,
      "outputs": [
        {
          "output_type": "stream",
          "name": "stdout",
          "text": [
            "/content\n"
          ]
        }
      ]
    },
    {
      "cell_type": "code",
      "source": [
        "mounted_path = \"/content/drive/MyDrive/Colab Notebooks/보드게임\""
      ],
      "metadata": {
        "id": "8BJpGjnR5zE6"
      },
      "id": "8BJpGjnR5zE6",
      "execution_count": null,
      "outputs": []
    },
    {
      "cell_type": "code",
      "execution_count": null,
      "id": "a3fe06f6",
      "metadata": {
        "id": "a3fe06f6"
      },
      "outputs": [],
      "source": [
        "data_dir= \"/content/drive/MyDrive/Colab Notebooks/Boardgame/data\"\n",
        "test_dir = \"/content/drive/MyDrive/Colab Notebooks/Boardgame/test\""
      ]
    },
    {
      "cell_type": "code",
      "source": [
        "data_list = os.listdir(data_dir)\n",
        "# data_list.remove(\"images\")\n",
        "data_list"
      ],
      "metadata": {
        "colab": {
          "base_uri": "https://localhost:8080/"
        },
        "id": "1RqAI3hqx-9l",
        "outputId": "76ce547f-7218-4841-adc5-0a5bc0e11c53"
      },
      "id": "1RqAI3hqx-9l",
      "execution_count": null,
      "outputs": [
        {
          "output_type": "execute_result",
          "data": {
            "text/plain": [
              "['병사들의 귀환', '포인트샐러드', '웰컴백투더던전']"
            ]
          },
          "metadata": {},
          "execution_count": 6
        }
      ]
    },
    {
      "cell_type": "code",
      "execution_count": null,
      "id": "b7b05b92",
      "metadata": {
        "id": "b7b05b92"
      },
      "outputs": [],
      "source": [
        "# for idx1, board_game in enumerate(data_list):\n",
        "#     if board_game == \"images\":\n",
        "#         continue\n",
        "#     for card_folder in os.listdir(os.path.join(data_dir, board_game)):\n",
        "#         for idx2, card in enumerate(os.listdir(os.path.join(data_dir, board_game, card_folder))):\n",
        "#             card_origin_path = os.path.join(data_dir, board_game, card_folder, card)\n",
        "#             card_new_path = os.path.join(data_dir, board_game, card_folder, f\"{board_game}_{card_folder}_{idx2}_label{idx1}.jpg\")\n",
        "#             os.rename(card_origin_path, card_new_path)"
      ]
    },
    {
      "cell_type": "code",
      "execution_count": null,
      "id": "0e94a384",
      "metadata": {
        "id": "0e94a384"
      },
      "outputs": [],
      "source": [
        "# for idx1, board_game in enumerate(data_list):\n",
        "#     if board_game == \"images\":\n",
        "#         continue\n",
        "#     for card_folder in os.listdir(os.path.join(data_dir, board_game)):\n",
        "#         for idx2, card in enumerate(os.listdir(os.path.join(data_dir, board_game, card_folder))):\n",
        "#             board_name, card_type, number, label = card.split(\"_\")\n",
        "#             card_origin_path = os.path.join(data_dir, board_game, card_folder, card)\n",
        "#             if number == \"0\" or number == \"7\":\n",
        "#                 card_new_path = os.path.join(test_dir, card)\n",
        "#                 shutil.move(card_origin_path, card_new_path)\n"
      ]
    },
    {
      "cell_type": "code",
      "execution_count": null,
      "id": "ad5969ee",
      "metadata": {
        "id": "ad5969ee"
      },
      "outputs": [],
      "source": [
        "# for idx1, card_name in enumerate(os.listdir(test_dir)):\n",
        "#     card_names = card_name.split(\".\")\n",
        "#     if card_names[-2] == \"jpg\":\n",
        "#         card_origin_path = os.path.join(test_dir, card_name)\n",
        "#         card_new_path = os.path.join(test_dir, \".\".join(card_names[:-1]))\n",
        "#         os.rename(card_origin_path, card_new_path)"
      ]
    },
    {
      "cell_type": "code",
      "execution_count": null,
      "id": "9ccddcd0",
      "metadata": {
        "id": "9ccddcd0"
      },
      "outputs": [],
      "source": [
        "# for idx1, board_game in enumerate(data_list):\n",
        "#     for card_folder in os.listdir(os.path.join(data_dir, board_game)):\n",
        "#         for idx2, card in enumerate(os.listdir(os.path.join(data_dir, board_game, card_folder))):\n",
        "#             card_origin_path = os.path.join(data_dir, board_game, card_folder, card)\n",
        "#             card_new_path = os.path.join(data_dir, \"images\", f\"{card}\")\n",
        "#             shutil.copy(card_origin_path, card_new_path)"
      ]
    },
    {
      "cell_type": "code",
      "execution_count": null,
      "id": "4b4b9a5a",
      "metadata": {
        "id": "4b4b9a5a"
      },
      "outputs": [],
      "source": [
        "data_dict = {}\n",
        "data_dict['name'] = []\n",
        "data_dict['board_game'] = []\n",
        "data_dict['card'] = []\n",
        "data_dict['label'] = []\n",
        "data_dict['path'] = []"
      ]
    },
    {
      "cell_type": "code",
      "execution_count": null,
      "id": "07d5b5e6",
      "metadata": {
        "id": "07d5b5e6"
      },
      "outputs": [],
      "source": [
        "for idx1, board_game in enumerate(data_list):\n",
        "    if board_game == \"images\":\n",
        "        continue\n",
        "    for card_folder in os.listdir(os.path.join(data_dir, board_game)):\n",
        "        for idx2, card in enumerate(os.listdir(os.path.join(data_dir, board_game, card_folder))):\n",
        "            card_path = os.path.join(data_dir, board_game, card_folder, card)\n",
        "\n",
        "            data_dict['name'].append(card)\n",
        "            data_dict['board_game'].append(board_game)\n",
        "            data_dict['card'].append(card_folder)\n",
        "            data_dict['label'].append(idx1)\n",
        "            data_dict['path'].append(card_path)\n",
        "            # card_new_path = os.path.join(data_dir, board_game, card_folder, f\"{board_game}_{card_folder}_{idx2}_label{idx1}.jpg\")"
      ]
    },
    {
      "cell_type": "code",
      "execution_count": null,
      "id": "2372ce0d",
      "metadata": {
        "id": "2372ce0d"
      },
      "outputs": [],
      "source": [
        "train_df = pd.DataFrame(data_dict, columns = ['name', 'board_game', 'card', 'label', 'path'])"
      ]
    },
    {
      "cell_type": "code",
      "execution_count": null,
      "id": "882df3f0",
      "metadata": {
        "colab": {
          "base_uri": "https://localhost:8080/",
          "height": 206
        },
        "id": "882df3f0",
        "outputId": "cce28b36-8686-45ca-a62c-c64d51a986e3"
      },
      "outputs": [
        {
          "output_type": "execute_result",
          "data": {
            "text/plain": [
              "                                          name           board_game    card  \\\n",
              "1168  웰컴백투더던전_카드10_15_label2.jpg  웰컴백투더던전  카드10   \n",
              "1169  웰컴백투더던전_카드10_16_label2.jpg  웰컴백투더던전  카드10   \n",
              "1170  웰컴백투더던전_카드10_17_label2.jpg  웰컴백투더던전  카드10   \n",
              "1171  웰컴백투더던전_카드10_18_label2.jpg  웰컴백투더던전  카드10   \n",
              "1172  웰컴백투더던전_카드10_19_label2.jpg  웰컴백투더던전  카드10   \n",
              "\n",
              "      label                                               path  \n",
              "1168      2  /content/drive/MyDrive/Colab Notebooks/Boardga...  \n",
              "1169      2  /content/drive/MyDrive/Colab Notebooks/Boardga...  \n",
              "1170      2  /content/drive/MyDrive/Colab Notebooks/Boardga...  \n",
              "1171      2  /content/drive/MyDrive/Colab Notebooks/Boardga...  \n",
              "1172      2  /content/drive/MyDrive/Colab Notebooks/Boardga...  "
            ],
            "text/html": [
              "\n",
              "  <div id=\"df-f5431a66-dc61-408a-96bf-70386ba32b48\">\n",
              "    <div class=\"colab-df-container\">\n",
              "      <div>\n",
              "<style scoped>\n",
              "    .dataframe tbody tr th:only-of-type {\n",
              "        vertical-align: middle;\n",
              "    }\n",
              "\n",
              "    .dataframe tbody tr th {\n",
              "        vertical-align: top;\n",
              "    }\n",
              "\n",
              "    .dataframe thead th {\n",
              "        text-align: right;\n",
              "    }\n",
              "</style>\n",
              "<table border=\"1\" class=\"dataframe\">\n",
              "  <thead>\n",
              "    <tr style=\"text-align: right;\">\n",
              "      <th></th>\n",
              "      <th>name</th>\n",
              "      <th>board_game</th>\n",
              "      <th>card</th>\n",
              "      <th>label</th>\n",
              "      <th>path</th>\n",
              "    </tr>\n",
              "  </thead>\n",
              "  <tbody>\n",
              "    <tr>\n",
              "      <th>1168</th>\n",
              "      <td>웰컴백투더던전_카드10_15_label2.jpg</td>\n",
              "      <td>웰컴백투더던전</td>\n",
              "      <td>카드10</td>\n",
              "      <td>2</td>\n",
              "      <td>/content/drive/MyDrive/Colab Notebooks/Boardga...</td>\n",
              "    </tr>\n",
              "    <tr>\n",
              "      <th>1169</th>\n",
              "      <td>웰컴백투더던전_카드10_16_label2.jpg</td>\n",
              "      <td>웰컴백투더던전</td>\n",
              "      <td>카드10</td>\n",
              "      <td>2</td>\n",
              "      <td>/content/drive/MyDrive/Colab Notebooks/Boardga...</td>\n",
              "    </tr>\n",
              "    <tr>\n",
              "      <th>1170</th>\n",
              "      <td>웰컴백투더던전_카드10_17_label2.jpg</td>\n",
              "      <td>웰컴백투더던전</td>\n",
              "      <td>카드10</td>\n",
              "      <td>2</td>\n",
              "      <td>/content/drive/MyDrive/Colab Notebooks/Boardga...</td>\n",
              "    </tr>\n",
              "    <tr>\n",
              "      <th>1171</th>\n",
              "      <td>웰컴백투더던전_카드10_18_label2.jpg</td>\n",
              "      <td>웰컴백투더던전</td>\n",
              "      <td>카드10</td>\n",
              "      <td>2</td>\n",
              "      <td>/content/drive/MyDrive/Colab Notebooks/Boardga...</td>\n",
              "    </tr>\n",
              "    <tr>\n",
              "      <th>1172</th>\n",
              "      <td>웰컴백투더던전_카드10_19_label2.jpg</td>\n",
              "      <td>웰컴백투더던전</td>\n",
              "      <td>카드10</td>\n",
              "      <td>2</td>\n",
              "      <td>/content/drive/MyDrive/Colab Notebooks/Boardga...</td>\n",
              "    </tr>\n",
              "  </tbody>\n",
              "</table>\n",
              "</div>\n",
              "      <button class=\"colab-df-convert\" onclick=\"convertToInteractive('df-f5431a66-dc61-408a-96bf-70386ba32b48')\"\n",
              "              title=\"Convert this dataframe to an interactive table.\"\n",
              "              style=\"display:none;\">\n",
              "        \n",
              "  <svg xmlns=\"http://www.w3.org/2000/svg\" height=\"24px\"viewBox=\"0 0 24 24\"\n",
              "       width=\"24px\">\n",
              "    <path d=\"M0 0h24v24H0V0z\" fill=\"none\"/>\n",
              "    <path d=\"M18.56 5.44l.94 2.06.94-2.06 2.06-.94-2.06-.94-.94-2.06-.94 2.06-2.06.94zm-11 1L8.5 8.5l.94-2.06 2.06-.94-2.06-.94L8.5 2.5l-.94 2.06-2.06.94zm10 10l.94 2.06.94-2.06 2.06-.94-2.06-.94-.94-2.06-.94 2.06-2.06.94z\"/><path d=\"M17.41 7.96l-1.37-1.37c-.4-.4-.92-.59-1.43-.59-.52 0-1.04.2-1.43.59L10.3 9.45l-7.72 7.72c-.78.78-.78 2.05 0 2.83L4 21.41c.39.39.9.59 1.41.59.51 0 1.02-.2 1.41-.59l7.78-7.78 2.81-2.81c.8-.78.8-2.07 0-2.86zM5.41 20L4 18.59l7.72-7.72 1.47 1.35L5.41 20z\"/>\n",
              "  </svg>\n",
              "      </button>\n",
              "      \n",
              "  <style>\n",
              "    .colab-df-container {\n",
              "      display:flex;\n",
              "      flex-wrap:wrap;\n",
              "      gap: 12px;\n",
              "    }\n",
              "\n",
              "    .colab-df-convert {\n",
              "      background-color: #E8F0FE;\n",
              "      border: none;\n",
              "      border-radius: 50%;\n",
              "      cursor: pointer;\n",
              "      display: none;\n",
              "      fill: #1967D2;\n",
              "      height: 32px;\n",
              "      padding: 0 0 0 0;\n",
              "      width: 32px;\n",
              "    }\n",
              "\n",
              "    .colab-df-convert:hover {\n",
              "      background-color: #E2EBFA;\n",
              "      box-shadow: 0px 1px 2px rgba(60, 64, 67, 0.3), 0px 1px 3px 1px rgba(60, 64, 67, 0.15);\n",
              "      fill: #174EA6;\n",
              "    }\n",
              "\n",
              "    [theme=dark] .colab-df-convert {\n",
              "      background-color: #3B4455;\n",
              "      fill: #D2E3FC;\n",
              "    }\n",
              "\n",
              "    [theme=dark] .colab-df-convert:hover {\n",
              "      background-color: #434B5C;\n",
              "      box-shadow: 0px 1px 3px 1px rgba(0, 0, 0, 0.15);\n",
              "      filter: drop-shadow(0px 1px 2px rgba(0, 0, 0, 0.3));\n",
              "      fill: #FFFFFF;\n",
              "    }\n",
              "  </style>\n",
              "\n",
              "      <script>\n",
              "        const buttonEl =\n",
              "          document.querySelector('#df-f5431a66-dc61-408a-96bf-70386ba32b48 button.colab-df-convert');\n",
              "        buttonEl.style.display =\n",
              "          google.colab.kernel.accessAllowed ? 'block' : 'none';\n",
              "\n",
              "        async function convertToInteractive(key) {\n",
              "          const element = document.querySelector('#df-f5431a66-dc61-408a-96bf-70386ba32b48');\n",
              "          const dataTable =\n",
              "            await google.colab.kernel.invokeFunction('convertToInteractive',\n",
              "                                                     [key], {});\n",
              "          if (!dataTable) return;\n",
              "\n",
              "          const docLinkHtml = 'Like what you see? Visit the ' +\n",
              "            '<a target=\"_blank\" href=https://colab.research.google.com/notebooks/data_table.ipynb>data table notebook</a>'\n",
              "            + ' to learn more about interactive tables.';\n",
              "          element.innerHTML = '';\n",
              "          dataTable['output_type'] = 'display_data';\n",
              "          await google.colab.output.renderOutput(dataTable, element);\n",
              "          const docLink = document.createElement('div');\n",
              "          docLink.innerHTML = docLinkHtml;\n",
              "          element.appendChild(docLink);\n",
              "        }\n",
              "      </script>\n",
              "    </div>\n",
              "  </div>\n",
              "  "
            ]
          },
          "metadata": {},
          "execution_count": 14
        }
      ],
      "source": [
        "train_df.tail()"
      ]
    },
    {
      "cell_type": "code",
      "execution_count": null,
      "id": "a85cbe87-6d58-4000-b33c-5144663bc03a",
      "metadata": {
        "colab": {
          "base_uri": "https://localhost:8080/"
        },
        "id": "a85cbe87-6d58-4000-b33c-5144663bc03a",
        "outputId": "8daddda0-9f99-4fb1-9e7e-0b0ffcbd2771"
      },
      "outputs": [
        {
          "output_type": "stream",
          "name": "stdout",
          "text": [
            "1173\n"
          ]
        }
      ],
      "source": [
        "print(len(train_df))"
      ]
    },
    {
      "cell_type": "code",
      "execution_count": null,
      "id": "0e90fdd2-6a8a-4926-a7fa-0dd2bd8ad2fe",
      "metadata": {
        "colab": {
          "base_uri": "https://localhost:8080/"
        },
        "id": "0e90fdd2-6a8a-4926-a7fa-0dd2bd8ad2fe",
        "outputId": "e2ea37b4-a77e-4462-e903-0cbd03fb9fc6"
      },
      "outputs": [
        {
          "output_type": "execute_result",
          "data": {
            "text/plain": [
              "name          0\n",
              "board_game    0\n",
              "card          0\n",
              "label         0\n",
              "path          0\n",
              "dtype: int64"
            ]
          },
          "metadata": {},
          "execution_count": 16
        }
      ],
      "source": [
        "train_df.isnull().sum()"
      ]
    },
    {
      "cell_type": "code",
      "execution_count": null,
      "id": "7e6f7534",
      "metadata": {
        "id": "7e6f7534"
      },
      "outputs": [],
      "source": [
        "train = train_df.copy()"
      ]
    },
    {
      "cell_type": "code",
      "execution_count": null,
      "id": "5c9dd029",
      "metadata": {
        "id": "5c9dd029"
      },
      "outputs": [],
      "source": [
        "train = train.drop(columns=[\"name\", \"board_game\", \"card\"])"
      ]
    },
    {
      "cell_type": "code",
      "execution_count": null,
      "id": "77e10e4f",
      "metadata": {
        "colab": {
          "base_uri": "https://localhost:8080/",
          "height": 206
        },
        "id": "77e10e4f",
        "outputId": "a3b80f78-4eb3-4187-db18-6878239decce"
      },
      "outputs": [
        {
          "output_type": "execute_result",
          "data": {
            "text/plain": [
              "   label                                               path\n",
              "0      0  /content/drive/MyDrive/Colab Notebooks/Boardga...\n",
              "1      0  /content/drive/MyDrive/Colab Notebooks/Boardga...\n",
              "2      0  /content/drive/MyDrive/Colab Notebooks/Boardga...\n",
              "3      0  /content/drive/MyDrive/Colab Notebooks/Boardga...\n",
              "4      0  /content/drive/MyDrive/Colab Notebooks/Boardga..."
            ],
            "text/html": [
              "\n",
              "  <div id=\"df-31d2f46f-838e-4aff-a433-85813d1422ad\">\n",
              "    <div class=\"colab-df-container\">\n",
              "      <div>\n",
              "<style scoped>\n",
              "    .dataframe tbody tr th:only-of-type {\n",
              "        vertical-align: middle;\n",
              "    }\n",
              "\n",
              "    .dataframe tbody tr th {\n",
              "        vertical-align: top;\n",
              "    }\n",
              "\n",
              "    .dataframe thead th {\n",
              "        text-align: right;\n",
              "    }\n",
              "</style>\n",
              "<table border=\"1\" class=\"dataframe\">\n",
              "  <thead>\n",
              "    <tr style=\"text-align: right;\">\n",
              "      <th></th>\n",
              "      <th>label</th>\n",
              "      <th>path</th>\n",
              "    </tr>\n",
              "  </thead>\n",
              "  <tbody>\n",
              "    <tr>\n",
              "      <th>0</th>\n",
              "      <td>0</td>\n",
              "      <td>/content/drive/MyDrive/Colab Notebooks/Boardga...</td>\n",
              "    </tr>\n",
              "    <tr>\n",
              "      <th>1</th>\n",
              "      <td>0</td>\n",
              "      <td>/content/drive/MyDrive/Colab Notebooks/Boardga...</td>\n",
              "    </tr>\n",
              "    <tr>\n",
              "      <th>2</th>\n",
              "      <td>0</td>\n",
              "      <td>/content/drive/MyDrive/Colab Notebooks/Boardga...</td>\n",
              "    </tr>\n",
              "    <tr>\n",
              "      <th>3</th>\n",
              "      <td>0</td>\n",
              "      <td>/content/drive/MyDrive/Colab Notebooks/Boardga...</td>\n",
              "    </tr>\n",
              "    <tr>\n",
              "      <th>4</th>\n",
              "      <td>0</td>\n",
              "      <td>/content/drive/MyDrive/Colab Notebooks/Boardga...</td>\n",
              "    </tr>\n",
              "  </tbody>\n",
              "</table>\n",
              "</div>\n",
              "      <button class=\"colab-df-convert\" onclick=\"convertToInteractive('df-31d2f46f-838e-4aff-a433-85813d1422ad')\"\n",
              "              title=\"Convert this dataframe to an interactive table.\"\n",
              "              style=\"display:none;\">\n",
              "        \n",
              "  <svg xmlns=\"http://www.w3.org/2000/svg\" height=\"24px\"viewBox=\"0 0 24 24\"\n",
              "       width=\"24px\">\n",
              "    <path d=\"M0 0h24v24H0V0z\" fill=\"none\"/>\n",
              "    <path d=\"M18.56 5.44l.94 2.06.94-2.06 2.06-.94-2.06-.94-.94-2.06-.94 2.06-2.06.94zm-11 1L8.5 8.5l.94-2.06 2.06-.94-2.06-.94L8.5 2.5l-.94 2.06-2.06.94zm10 10l.94 2.06.94-2.06 2.06-.94-2.06-.94-.94-2.06-.94 2.06-2.06.94z\"/><path d=\"M17.41 7.96l-1.37-1.37c-.4-.4-.92-.59-1.43-.59-.52 0-1.04.2-1.43.59L10.3 9.45l-7.72 7.72c-.78.78-.78 2.05 0 2.83L4 21.41c.39.39.9.59 1.41.59.51 0 1.02-.2 1.41-.59l7.78-7.78 2.81-2.81c.8-.78.8-2.07 0-2.86zM5.41 20L4 18.59l7.72-7.72 1.47 1.35L5.41 20z\"/>\n",
              "  </svg>\n",
              "      </button>\n",
              "      \n",
              "  <style>\n",
              "    .colab-df-container {\n",
              "      display:flex;\n",
              "      flex-wrap:wrap;\n",
              "      gap: 12px;\n",
              "    }\n",
              "\n",
              "    .colab-df-convert {\n",
              "      background-color: #E8F0FE;\n",
              "      border: none;\n",
              "      border-radius: 50%;\n",
              "      cursor: pointer;\n",
              "      display: none;\n",
              "      fill: #1967D2;\n",
              "      height: 32px;\n",
              "      padding: 0 0 0 0;\n",
              "      width: 32px;\n",
              "    }\n",
              "\n",
              "    .colab-df-convert:hover {\n",
              "      background-color: #E2EBFA;\n",
              "      box-shadow: 0px 1px 2px rgba(60, 64, 67, 0.3), 0px 1px 3px 1px rgba(60, 64, 67, 0.15);\n",
              "      fill: #174EA6;\n",
              "    }\n",
              "\n",
              "    [theme=dark] .colab-df-convert {\n",
              "      background-color: #3B4455;\n",
              "      fill: #D2E3FC;\n",
              "    }\n",
              "\n",
              "    [theme=dark] .colab-df-convert:hover {\n",
              "      background-color: #434B5C;\n",
              "      box-shadow: 0px 1px 3px 1px rgba(0, 0, 0, 0.15);\n",
              "      filter: drop-shadow(0px 1px 2px rgba(0, 0, 0, 0.3));\n",
              "      fill: #FFFFFF;\n",
              "    }\n",
              "  </style>\n",
              "\n",
              "      <script>\n",
              "        const buttonEl =\n",
              "          document.querySelector('#df-31d2f46f-838e-4aff-a433-85813d1422ad button.colab-df-convert');\n",
              "        buttonEl.style.display =\n",
              "          google.colab.kernel.accessAllowed ? 'block' : 'none';\n",
              "\n",
              "        async function convertToInteractive(key) {\n",
              "          const element = document.querySelector('#df-31d2f46f-838e-4aff-a433-85813d1422ad');\n",
              "          const dataTable =\n",
              "            await google.colab.kernel.invokeFunction('convertToInteractive',\n",
              "                                                     [key], {});\n",
              "          if (!dataTable) return;\n",
              "\n",
              "          const docLinkHtml = 'Like what you see? Visit the ' +\n",
              "            '<a target=\"_blank\" href=https://colab.research.google.com/notebooks/data_table.ipynb>data table notebook</a>'\n",
              "            + ' to learn more about interactive tables.';\n",
              "          element.innerHTML = '';\n",
              "          dataTable['output_type'] = 'display_data';\n",
              "          await google.colab.output.renderOutput(dataTable, element);\n",
              "          const docLink = document.createElement('div');\n",
              "          docLink.innerHTML = docLinkHtml;\n",
              "          element.appendChild(docLink);\n",
              "        }\n",
              "      </script>\n",
              "    </div>\n",
              "  </div>\n",
              "  "
            ]
          },
          "metadata": {},
          "execution_count": 19
        }
      ],
      "source": [
        "train.head()"
      ]
    },
    {
      "cell_type": "code",
      "execution_count": null,
      "id": "5cb29330-6e87-4633-b53b-ea6a6e499f35",
      "metadata": {
        "id": "5cb29330-6e87-4633-b53b-ea6a6e499f35"
      },
      "outputs": [],
      "source": [
        "class CustomDataset(Dataset):\n",
        "    def __init__(self, train, transform):\n",
        "        self.x = train['path']\n",
        "        self.y = train['label']\n",
        "        self.transform = transform\n",
        "        \n",
        "    def __getitem__(self, index):\n",
        "        image = Image.open(self.x.iloc[index])\n",
        "        label = self.y.iloc[index]\n",
        "        \n",
        "        if self.transform:\n",
        "            image = self.transform(image)\n",
        "        \n",
        "        return image, torch.tensor(label)\n",
        "        \n",
        "    def __len__(self):\n",
        "        return len(self.x)"
      ]
    },
    {
      "cell_type": "code",
      "execution_count": null,
      "id": "b7aad9ee-5c12-473f-831a-234013af2558",
      "metadata": {
        "id": "b7aad9ee-5c12-473f-831a-234013af2558"
      },
      "outputs": [],
      "source": [
        "class AddGaussianNoise(object):\n",
        "    \"\"\"\n",
        "        transform 에 없는 기능들은 이런식으로 __init__, __call__, __repr__ 부분을\n",
        "        직접 구현하여 사용할 수 있습니다.\n",
        "    \"\"\"\n",
        "\n",
        "    def __init__(self, mean=0., std=1.):\n",
        "        self.std = std\n",
        "        self.mean = mean\n",
        "\n",
        "    def __call__(self, tensor):\n",
        "        return tensor + torch.randn(tensor.size()) * self.std + self.mean\n",
        "\n",
        "    def __repr__(self):\n",
        "        return self.__class__.__name__ + '(mean={0}, std={1})'.format(self.mean, self.std)"
      ]
    },
    {
      "cell_type": "code",
      "execution_count": null,
      "id": "d2ae6fc7-487d-4238-a2b7-a758e13dc02e",
      "metadata": {
        "colab": {
          "base_uri": "https://localhost:8080/"
        },
        "id": "d2ae6fc7-487d-4238-a2b7-a758e13dc02e",
        "outputId": "c45a3b7a-2988-4137-f657-90f4d298ee37"
      },
      "outputs": [
        {
          "output_type": "stream",
          "name": "stderr",
          "text": [
            "/usr/local/lib/python3.9/dist-packages/torchvision/transforms/transforms.py:329: UserWarning: Argument 'interpolation' of type int is deprecated since 0.13 and will be removed in 0.15. Please use InterpolationMode enum.\n",
            "  warnings.warn(\n"
          ]
        }
      ],
      "source": [
        "transform = transforms.Compose([\n",
        "    # transforms.CenterCrop((320, 256)),\n",
        "    transforms.Resize((256, 256), Image.BILINEAR),\n",
        "    transforms.ToTensor(),\n",
        "    transforms.Normalize(mean=[0.485, 0.456, 0.406], std=[0.229, 0.224, 0.225]),\n",
        "])"
      ]
    },
    {
      "cell_type": "code",
      "execution_count": null,
      "id": "d21eb7d3-ef1d-44f1-b7f5-eacd12485001",
      "metadata": {
        "colab": {
          "base_uri": "https://localhost:8080/"
        },
        "id": "d21eb7d3-ef1d-44f1-b7f5-eacd12485001",
        "outputId": "6ff634db-532b-49e5-d9a3-755597760e6c"
      },
      "outputs": [
        {
          "output_type": "stream",
          "name": "stdout",
          "text": [
            "      label                                               path\n",
            "1096      2  /content/drive/MyDrive/Colab Notebooks/Boardga...\n",
            "756       1  /content/drive/MyDrive/Colab Notebooks/Boardga...\n",
            "167       0  /content/drive/MyDrive/Colab Notebooks/Boardga...\n",
            "256       0  /content/drive/MyDrive/Colab Notebooks/Boardga...\n",
            "603       1  /content/drive/MyDrive/Colab Notebooks/Boardga...\n",
            "...     ...                                                ...\n",
            "982       2  /content/drive/MyDrive/Colab Notebooks/Boardga...\n",
            "94        0  /content/drive/MyDrive/Colab Notebooks/Boardga...\n",
            "73        0  /content/drive/MyDrive/Colab Notebooks/Boardga...\n",
            "572       1  /content/drive/MyDrive/Colab Notebooks/Boardga...\n",
            "342       0  /content/drive/MyDrive/Colab Notebooks/Boardga...\n",
            "\n",
            "[938 rows x 2 columns]\n",
            "<class 'pandas.core.frame.DataFrame'>\n"
          ]
        }
      ],
      "source": [
        "from sklearn.model_selection import train_test_split, KFold, StratifiedKFold\n",
        "train_set, valid_set = train_test_split(train, test_size=0.2, shuffle=True, stratify=train['label'], random_state=42)\n",
        "print(train_set)\n",
        "print(type(train_set))"
      ]
    },
    {
      "cell_type": "code",
      "execution_count": null,
      "id": "d34c8f19-4e79-49ee-99e0-648f7eb2cfa6",
      "metadata": {
        "colab": {
          "base_uri": "https://localhost:8080/"
        },
        "id": "d34c8f19-4e79-49ee-99e0-648f7eb2cfa6",
        "outputId": "e0a76cc3-f3b7-411b-8eaf-7e747c26d5cb"
      },
      "outputs": [
        {
          "output_type": "execute_result",
          "data": {
            "text/plain": [
              "0       0\n",
              "1       0\n",
              "2       0\n",
              "3       0\n",
              "4       0\n",
              "       ..\n",
              "1168    2\n",
              "1169    2\n",
              "1170    2\n",
              "1171    2\n",
              "1172    2\n",
              "Name: label, Length: 1173, dtype: int64"
            ]
          },
          "metadata": {},
          "execution_count": 24
        }
      ],
      "source": [
        "train_path_label = pd.DataFrame(None, columns = ['path', 'label'])\n",
        "train_path_label['path'] = train['path']\n",
        "train_path_label['label'] = train['label']\n",
        "train_path_label['label']"
      ]
    },
    {
      "cell_type": "code",
      "execution_count": null,
      "id": "0466b98d-1013-4284-9c53-e6580f58d4c7",
      "metadata": {
        "id": "0466b98d-1013-4284-9c53-e6580f58d4c7"
      },
      "outputs": [],
      "source": [
        "# kf = KFold(n_splits=5, shuffle=False)\n",
        "\n",
        "# for train_index, test_index in kf.split(train_path_label):\n",
        "#     X_train, X_test = train['path'].loc[train_index], train['path'].loc[test_index]\n",
        "#     y_train, y_test = train['label'].loc[train_index], train['label'].loc[test_index]\n",
        "\n"
      ]
    },
    {
      "cell_type": "code",
      "source": [
        "train_set, valid_set = train_test_split(train, test_size=0.2, shuffle=True, stratify=train['label'], random_state=42)"
      ],
      "metadata": {
        "id": "ftQns1v64ud3"
      },
      "id": "ftQns1v64ud3",
      "execution_count": null,
      "outputs": []
    },
    {
      "cell_type": "code",
      "source": [
        "train_set.head()"
      ],
      "metadata": {
        "colab": {
          "base_uri": "https://localhost:8080/",
          "height": 206
        },
        "id": "H-F71AGy4zvg",
        "outputId": "9ebe99b2-ac82-4784-cb17-3935d1df2138"
      },
      "id": "H-F71AGy4zvg",
      "execution_count": null,
      "outputs": [
        {
          "output_type": "execute_result",
          "data": {
            "text/plain": [
              "      label                                               path\n",
              "1096      2  /content/drive/MyDrive/Colab Notebooks/Boardga...\n",
              "756       1  /content/drive/MyDrive/Colab Notebooks/Boardga...\n",
              "167       0  /content/drive/MyDrive/Colab Notebooks/Boardga...\n",
              "256       0  /content/drive/MyDrive/Colab Notebooks/Boardga...\n",
              "603       1  /content/drive/MyDrive/Colab Notebooks/Boardga..."
            ],
            "text/html": [
              "\n",
              "  <div id=\"df-5d1424dc-5254-4b87-90d1-73672fe1c61f\">\n",
              "    <div class=\"colab-df-container\">\n",
              "      <div>\n",
              "<style scoped>\n",
              "    .dataframe tbody tr th:only-of-type {\n",
              "        vertical-align: middle;\n",
              "    }\n",
              "\n",
              "    .dataframe tbody tr th {\n",
              "        vertical-align: top;\n",
              "    }\n",
              "\n",
              "    .dataframe thead th {\n",
              "        text-align: right;\n",
              "    }\n",
              "</style>\n",
              "<table border=\"1\" class=\"dataframe\">\n",
              "  <thead>\n",
              "    <tr style=\"text-align: right;\">\n",
              "      <th></th>\n",
              "      <th>label</th>\n",
              "      <th>path</th>\n",
              "    </tr>\n",
              "  </thead>\n",
              "  <tbody>\n",
              "    <tr>\n",
              "      <th>1096</th>\n",
              "      <td>2</td>\n",
              "      <td>/content/drive/MyDrive/Colab Notebooks/Boardga...</td>\n",
              "    </tr>\n",
              "    <tr>\n",
              "      <th>756</th>\n",
              "      <td>1</td>\n",
              "      <td>/content/drive/MyDrive/Colab Notebooks/Boardga...</td>\n",
              "    </tr>\n",
              "    <tr>\n",
              "      <th>167</th>\n",
              "      <td>0</td>\n",
              "      <td>/content/drive/MyDrive/Colab Notebooks/Boardga...</td>\n",
              "    </tr>\n",
              "    <tr>\n",
              "      <th>256</th>\n",
              "      <td>0</td>\n",
              "      <td>/content/drive/MyDrive/Colab Notebooks/Boardga...</td>\n",
              "    </tr>\n",
              "    <tr>\n",
              "      <th>603</th>\n",
              "      <td>1</td>\n",
              "      <td>/content/drive/MyDrive/Colab Notebooks/Boardga...</td>\n",
              "    </tr>\n",
              "  </tbody>\n",
              "</table>\n",
              "</div>\n",
              "      <button class=\"colab-df-convert\" onclick=\"convertToInteractive('df-5d1424dc-5254-4b87-90d1-73672fe1c61f')\"\n",
              "              title=\"Convert this dataframe to an interactive table.\"\n",
              "              style=\"display:none;\">\n",
              "        \n",
              "  <svg xmlns=\"http://www.w3.org/2000/svg\" height=\"24px\"viewBox=\"0 0 24 24\"\n",
              "       width=\"24px\">\n",
              "    <path d=\"M0 0h24v24H0V0z\" fill=\"none\"/>\n",
              "    <path d=\"M18.56 5.44l.94 2.06.94-2.06 2.06-.94-2.06-.94-.94-2.06-.94 2.06-2.06.94zm-11 1L8.5 8.5l.94-2.06 2.06-.94-2.06-.94L8.5 2.5l-.94 2.06-2.06.94zm10 10l.94 2.06.94-2.06 2.06-.94-2.06-.94-.94-2.06-.94 2.06-2.06.94z\"/><path d=\"M17.41 7.96l-1.37-1.37c-.4-.4-.92-.59-1.43-.59-.52 0-1.04.2-1.43.59L10.3 9.45l-7.72 7.72c-.78.78-.78 2.05 0 2.83L4 21.41c.39.39.9.59 1.41.59.51 0 1.02-.2 1.41-.59l7.78-7.78 2.81-2.81c.8-.78.8-2.07 0-2.86zM5.41 20L4 18.59l7.72-7.72 1.47 1.35L5.41 20z\"/>\n",
              "  </svg>\n",
              "      </button>\n",
              "      \n",
              "  <style>\n",
              "    .colab-df-container {\n",
              "      display:flex;\n",
              "      flex-wrap:wrap;\n",
              "      gap: 12px;\n",
              "    }\n",
              "\n",
              "    .colab-df-convert {\n",
              "      background-color: #E8F0FE;\n",
              "      border: none;\n",
              "      border-radius: 50%;\n",
              "      cursor: pointer;\n",
              "      display: none;\n",
              "      fill: #1967D2;\n",
              "      height: 32px;\n",
              "      padding: 0 0 0 0;\n",
              "      width: 32px;\n",
              "    }\n",
              "\n",
              "    .colab-df-convert:hover {\n",
              "      background-color: #E2EBFA;\n",
              "      box-shadow: 0px 1px 2px rgba(60, 64, 67, 0.3), 0px 1px 3px 1px rgba(60, 64, 67, 0.15);\n",
              "      fill: #174EA6;\n",
              "    }\n",
              "\n",
              "    [theme=dark] .colab-df-convert {\n",
              "      background-color: #3B4455;\n",
              "      fill: #D2E3FC;\n",
              "    }\n",
              "\n",
              "    [theme=dark] .colab-df-convert:hover {\n",
              "      background-color: #434B5C;\n",
              "      box-shadow: 0px 1px 3px 1px rgba(0, 0, 0, 0.15);\n",
              "      filter: drop-shadow(0px 1px 2px rgba(0, 0, 0, 0.3));\n",
              "      fill: #FFFFFF;\n",
              "    }\n",
              "  </style>\n",
              "\n",
              "      <script>\n",
              "        const buttonEl =\n",
              "          document.querySelector('#df-5d1424dc-5254-4b87-90d1-73672fe1c61f button.colab-df-convert');\n",
              "        buttonEl.style.display =\n",
              "          google.colab.kernel.accessAllowed ? 'block' : 'none';\n",
              "\n",
              "        async function convertToInteractive(key) {\n",
              "          const element = document.querySelector('#df-5d1424dc-5254-4b87-90d1-73672fe1c61f');\n",
              "          const dataTable =\n",
              "            await google.colab.kernel.invokeFunction('convertToInteractive',\n",
              "                                                     [key], {});\n",
              "          if (!dataTable) return;\n",
              "\n",
              "          const docLinkHtml = 'Like what you see? Visit the ' +\n",
              "            '<a target=\"_blank\" href=https://colab.research.google.com/notebooks/data_table.ipynb>data table notebook</a>'\n",
              "            + ' to learn more about interactive tables.';\n",
              "          element.innerHTML = '';\n",
              "          dataTable['output_type'] = 'display_data';\n",
              "          await google.colab.output.renderOutput(dataTable, element);\n",
              "          const docLink = document.createElement('div');\n",
              "          docLink.innerHTML = docLinkHtml;\n",
              "          element.appendChild(docLink);\n",
              "        }\n",
              "      </script>\n",
              "    </div>\n",
              "  </div>\n",
              "  "
            ]
          },
          "metadata": {},
          "execution_count": 27
        }
      ]
    },
    {
      "cell_type": "code",
      "source": [
        "valid_set.head()"
      ],
      "metadata": {
        "colab": {
          "base_uri": "https://localhost:8080/",
          "height": 206
        },
        "id": "5KEE1AKL429J",
        "outputId": "e448591d-f4ba-45d9-d07a-eab9557196af"
      },
      "id": "5KEE1AKL429J",
      "execution_count": null,
      "outputs": [
        {
          "output_type": "execute_result",
          "data": {
            "text/plain": [
              "      label                                               path\n",
              "1147      2  /content/drive/MyDrive/Colab Notebooks/Boardga...\n",
              "960       2  /content/drive/MyDrive/Colab Notebooks/Boardga...\n",
              "99        0  /content/drive/MyDrive/Colab Notebooks/Boardga...\n",
              "446       1  /content/drive/MyDrive/Colab Notebooks/Boardga...\n",
              "718       1  /content/drive/MyDrive/Colab Notebooks/Boardga..."
            ],
            "text/html": [
              "\n",
              "  <div id=\"df-dfbd749c-5dce-47bd-b270-efb7c27a3f37\">\n",
              "    <div class=\"colab-df-container\">\n",
              "      <div>\n",
              "<style scoped>\n",
              "    .dataframe tbody tr th:only-of-type {\n",
              "        vertical-align: middle;\n",
              "    }\n",
              "\n",
              "    .dataframe tbody tr th {\n",
              "        vertical-align: top;\n",
              "    }\n",
              "\n",
              "    .dataframe thead th {\n",
              "        text-align: right;\n",
              "    }\n",
              "</style>\n",
              "<table border=\"1\" class=\"dataframe\">\n",
              "  <thead>\n",
              "    <tr style=\"text-align: right;\">\n",
              "      <th></th>\n",
              "      <th>label</th>\n",
              "      <th>path</th>\n",
              "    </tr>\n",
              "  </thead>\n",
              "  <tbody>\n",
              "    <tr>\n",
              "      <th>1147</th>\n",
              "      <td>2</td>\n",
              "      <td>/content/drive/MyDrive/Colab Notebooks/Boardga...</td>\n",
              "    </tr>\n",
              "    <tr>\n",
              "      <th>960</th>\n",
              "      <td>2</td>\n",
              "      <td>/content/drive/MyDrive/Colab Notebooks/Boardga...</td>\n",
              "    </tr>\n",
              "    <tr>\n",
              "      <th>99</th>\n",
              "      <td>0</td>\n",
              "      <td>/content/drive/MyDrive/Colab Notebooks/Boardga...</td>\n",
              "    </tr>\n",
              "    <tr>\n",
              "      <th>446</th>\n",
              "      <td>1</td>\n",
              "      <td>/content/drive/MyDrive/Colab Notebooks/Boardga...</td>\n",
              "    </tr>\n",
              "    <tr>\n",
              "      <th>718</th>\n",
              "      <td>1</td>\n",
              "      <td>/content/drive/MyDrive/Colab Notebooks/Boardga...</td>\n",
              "    </tr>\n",
              "  </tbody>\n",
              "</table>\n",
              "</div>\n",
              "      <button class=\"colab-df-convert\" onclick=\"convertToInteractive('df-dfbd749c-5dce-47bd-b270-efb7c27a3f37')\"\n",
              "              title=\"Convert this dataframe to an interactive table.\"\n",
              "              style=\"display:none;\">\n",
              "        \n",
              "  <svg xmlns=\"http://www.w3.org/2000/svg\" height=\"24px\"viewBox=\"0 0 24 24\"\n",
              "       width=\"24px\">\n",
              "    <path d=\"M0 0h24v24H0V0z\" fill=\"none\"/>\n",
              "    <path d=\"M18.56 5.44l.94 2.06.94-2.06 2.06-.94-2.06-.94-.94-2.06-.94 2.06-2.06.94zm-11 1L8.5 8.5l.94-2.06 2.06-.94-2.06-.94L8.5 2.5l-.94 2.06-2.06.94zm10 10l.94 2.06.94-2.06 2.06-.94-2.06-.94-.94-2.06-.94 2.06-2.06.94z\"/><path d=\"M17.41 7.96l-1.37-1.37c-.4-.4-.92-.59-1.43-.59-.52 0-1.04.2-1.43.59L10.3 9.45l-7.72 7.72c-.78.78-.78 2.05 0 2.83L4 21.41c.39.39.9.59 1.41.59.51 0 1.02-.2 1.41-.59l7.78-7.78 2.81-2.81c.8-.78.8-2.07 0-2.86zM5.41 20L4 18.59l7.72-7.72 1.47 1.35L5.41 20z\"/>\n",
              "  </svg>\n",
              "      </button>\n",
              "      \n",
              "  <style>\n",
              "    .colab-df-container {\n",
              "      display:flex;\n",
              "      flex-wrap:wrap;\n",
              "      gap: 12px;\n",
              "    }\n",
              "\n",
              "    .colab-df-convert {\n",
              "      background-color: #E8F0FE;\n",
              "      border: none;\n",
              "      border-radius: 50%;\n",
              "      cursor: pointer;\n",
              "      display: none;\n",
              "      fill: #1967D2;\n",
              "      height: 32px;\n",
              "      padding: 0 0 0 0;\n",
              "      width: 32px;\n",
              "    }\n",
              "\n",
              "    .colab-df-convert:hover {\n",
              "      background-color: #E2EBFA;\n",
              "      box-shadow: 0px 1px 2px rgba(60, 64, 67, 0.3), 0px 1px 3px 1px rgba(60, 64, 67, 0.15);\n",
              "      fill: #174EA6;\n",
              "    }\n",
              "\n",
              "    [theme=dark] .colab-df-convert {\n",
              "      background-color: #3B4455;\n",
              "      fill: #D2E3FC;\n",
              "    }\n",
              "\n",
              "    [theme=dark] .colab-df-convert:hover {\n",
              "      background-color: #434B5C;\n",
              "      box-shadow: 0px 1px 3px 1px rgba(0, 0, 0, 0.15);\n",
              "      filter: drop-shadow(0px 1px 2px rgba(0, 0, 0, 0.3));\n",
              "      fill: #FFFFFF;\n",
              "    }\n",
              "  </style>\n",
              "\n",
              "      <script>\n",
              "        const buttonEl =\n",
              "          document.querySelector('#df-dfbd749c-5dce-47bd-b270-efb7c27a3f37 button.colab-df-convert');\n",
              "        buttonEl.style.display =\n",
              "          google.colab.kernel.accessAllowed ? 'block' : 'none';\n",
              "\n",
              "        async function convertToInteractive(key) {\n",
              "          const element = document.querySelector('#df-dfbd749c-5dce-47bd-b270-efb7c27a3f37');\n",
              "          const dataTable =\n",
              "            await google.colab.kernel.invokeFunction('convertToInteractive',\n",
              "                                                     [key], {});\n",
              "          if (!dataTable) return;\n",
              "\n",
              "          const docLinkHtml = 'Like what you see? Visit the ' +\n",
              "            '<a target=\"_blank\" href=https://colab.research.google.com/notebooks/data_table.ipynb>data table notebook</a>'\n",
              "            + ' to learn more about interactive tables.';\n",
              "          element.innerHTML = '';\n",
              "          dataTable['output_type'] = 'display_data';\n",
              "          await google.colab.output.renderOutput(dataTable, element);\n",
              "          const docLink = document.createElement('div');\n",
              "          docLink.innerHTML = docLinkHtml;\n",
              "          element.appendChild(docLink);\n",
              "        }\n",
              "      </script>\n",
              "    </div>\n",
              "  </div>\n",
              "  "
            ]
          },
          "metadata": {},
          "execution_count": 28
        }
      ]
    },
    {
      "cell_type": "code",
      "execution_count": null,
      "id": "a0cd5d70-ca73-467e-a42f-9c1afaadfaea",
      "metadata": {
        "colab": {
          "base_uri": "https://localhost:8080/"
        },
        "id": "a0cd5d70-ca73-467e-a42f-9c1afaadfaea",
        "outputId": "34f8d986-6469-4b42-c7aa-e306aec47202"
      },
      "outputs": [
        {
          "output_type": "execute_result",
          "data": {
            "text/plain": [
              "((938, 2), (235, 2))"
            ]
          },
          "metadata": {},
          "execution_count": 29
        }
      ],
      "source": [
        "train_set.shape, valid_set.shape"
      ]
    },
    {
      "cell_type": "code",
      "execution_count": null,
      "id": "bb7d2d1d-762e-4a5f-a0ec-ac8b60f9ed36",
      "metadata": {
        "colab": {
          "base_uri": "https://localhost:8080/",
          "height": 161,
          "referenced_widgets": [
            "53227f1fb18e40328180e97092695337",
            "38f7ffc456304ef79c7b6439c0d46b44",
            "e4ee1c7f76d54f6286a4e03798a72483",
            "dc7ac5000958469abdaf08af50a74d32",
            "f84abee7b95d4dfeb5f46519be47fb02",
            "defc7def09f64a43b0dfc88d9b91a7be",
            "88dd5dc1e1064d15965cd6fc7efac039",
            "351bad999a7947ff80afcac82a6ce841",
            "e2c70cab20c24196800fe25460a3c07c",
            "e9f6b2ec32d54d9bb618b87444fcd949",
            "1ef215e8cdf84de9950842c8a5694a81"
          ]
        },
        "id": "bb7d2d1d-762e-4a5f-a0ec-ac8b60f9ed36",
        "outputId": "6247abe6-ab1d-495b-f8f7-cddadba75d59"
      },
      "outputs": [
        {
          "output_type": "stream",
          "name": "stderr",
          "text": [
            "/usr/local/lib/python3.9/dist-packages/torchvision/models/_utils.py:208: UserWarning: The parameter 'pretrained' is deprecated since 0.13 and may be removed in the future, please use 'weights' instead.\n",
            "  warnings.warn(\n",
            "/usr/local/lib/python3.9/dist-packages/torchvision/models/_utils.py:223: UserWarning: Arguments other than a weight enum or `None` for 'weights' are deprecated since 0.13 and may be removed in the future. The current behavior is equivalent to passing `weights=ResNet18_Weights.IMAGENET1K_V1`. You can also use `weights=ResNet18_Weights.DEFAULT` to get the most up-to-date weights.\n",
            "  warnings.warn(msg)\n",
            "Downloading: \"https://download.pytorch.org/models/resnet18-f37072fd.pth\" to /root/.cache/torch/hub/checkpoints/resnet18-f37072fd.pth\n"
          ]
        },
        {
          "output_type": "display_data",
          "data": {
            "text/plain": [
              "  0%|          | 0.00/44.7M [00:00<?, ?B/s]"
            ],
            "application/vnd.jupyter.widget-view+json": {
              "version_major": 2,
              "version_minor": 0,
              "model_id": "53227f1fb18e40328180e97092695337"
            }
          },
          "metadata": {}
        }
      ],
      "source": [
        "model = torchvision.models.resnet18(pretrained=True)\n",
        "# model = torchvision.models.efficientnet_b0(pretrained=True)\n",
        "# print(resnet18)"
      ]
    },
    {
      "cell_type": "code",
      "execution_count": null,
      "id": "99e9efd1-b4a4-4798-ad39-4cb072184974",
      "metadata": {
        "colab": {
          "base_uri": "https://localhost:8080/"
        },
        "id": "99e9efd1-b4a4-4798-ad39-4cb072184974",
        "outputId": "e9103b75-2232-4fd8-af00-e2188ea38844"
      },
      "outputs": [
        {
          "output_type": "execute_result",
          "data": {
            "text/plain": [
              "3"
            ]
          },
          "metadata": {},
          "execution_count": 31
        }
      ],
      "source": [
        "import math\n",
        "OUTPUT = 3\n",
        "model.fc = torch.nn.Linear(in_features=512, out_features=OUTPUT, bias=True)\n",
        "torch.nn.init.xavier_uniform_(model.fc.weight)\n",
        "stdv = 1 / math.sqrt(model.fc.weight.size(1))\n",
        "model.fc.bias.data.uniform_(-stdv, stdv)\n",
        "\n",
        "model.fc.weight.shape[0]"
      ]
    },
    {
      "cell_type": "code",
      "execution_count": null,
      "id": "19e5bc47-50f2-46af-81b9-4f8dcfe78cae",
      "metadata": {
        "colab": {
          "base_uri": "https://localhost:8080/"
        },
        "id": "19e5bc47-50f2-46af-81b9-4f8dcfe78cae",
        "outputId": "fd9c151d-7ab0-467a-b537-0e12aea22dbc"
      },
      "outputs": [
        {
          "output_type": "execute_result",
          "data": {
            "text/plain": [
              "device(type='cuda', index=0)"
            ]
          },
          "metadata": {},
          "execution_count": 32
        }
      ],
      "source": [
        "device = torch.device(\"cuda:0\" if torch.cuda.is_available() else \"cpu\")\n",
        "device"
      ]
    },
    {
      "cell_type": "code",
      "execution_count": null,
      "id": "5c469696-dc57-42c6-bb59-d43f7682d66e",
      "metadata": {
        "id": "5c469696-dc57-42c6-bb59-d43f7682d66e"
      },
      "outputs": [],
      "source": [
        "BATCH_SIZE = 16"
      ]
    },
    {
      "cell_type": "code",
      "source": [
        "train_dataset = CustomDataset(train_set, transform)\n",
        "train_loader = DataLoader(train_dataset, batch_size=BATCH_SIZE, shuffle=True, num_workers=1)\n",
        "\n",
        "valid_dataset = CustomDataset(valid_set, transform)\n",
        "valid_loader = DataLoader(valid_dataset, batch_size=BATCH_SIZE, shuffle=True, num_workers=1)"
      ],
      "metadata": {
        "id": "_9GuP7vT1IuI"
      },
      "id": "_9GuP7vT1IuI",
      "execution_count": null,
      "outputs": []
    },
    {
      "cell_type": "code",
      "execution_count": null,
      "id": "b8e3fb72-9421-407a-92ac-645cf7c3c5f5",
      "metadata": {
        "id": "b8e3fb72-9421-407a-92ac-645cf7c3c5f5"
      },
      "outputs": [],
      "source": [
        "model.to(device)\n",
        "\n",
        "LEARNING_RATE = (1e-3)\n",
        "EPOCH = 5\n",
        "\n",
        "loss_func = torch.nn.CrossEntropyLoss()\n",
        "optimizer = optim.Adam(model.parameters(), lr=LEARNING_RATE)\n",
        "scheduler = optim.lr_scheduler.StepLR(optimizer, step_size=2, gamma=0.1)\n",
        "#scheduler = optim.lr_scheduler.CosineAnnealingLR(optimizer, T_max=10, eta_min=0)\n",
        "# scheduler = optim.lr_scheduler.ReduceLROnPlateau(optimizer, 'min')\n",
        "# scheduler.step() epoch 다 돌고 마지막에 넣어주면 댐\n",
        "\n",
        "dataloaders = {\n",
        "    'Train' : train_loader,\n",
        "    'Valid' : valid_loader\n",
        "}"
      ]
    },
    {
      "cell_type": "code",
      "execution_count": null,
      "id": "6bf67f9c-abae-47f7-b9f0-d6484e10d426",
      "metadata": {
        "id": "6bf67f9c-abae-47f7-b9f0-d6484e10d426"
      },
      "outputs": [],
      "source": [
        "from tqdm import tqdm\n",
        "torch.backends.cudnn.enabled = False"
      ]
    },
    {
      "cell_type": "code",
      "execution_count": null,
      "id": "ded18e30-95d1-4416-b199-f5e457fe2e4a",
      "metadata": {
        "colab": {
          "base_uri": "https://localhost:8080/"
        },
        "id": "ded18e30-95d1-4416-b199-f5e457fe2e4a",
        "outputId": "d5bf7d92-03eb-4f20-a9e0-25e32666bd30"
      },
      "outputs": [
        {
          "output_type": "stream",
          "name": "stderr",
          "text": [
            "100%|██████████| 59/59 [11:13<00:00, 11.42s/it]\n"
          ]
        },
        {
          "output_type": "stream",
          "name": "stdout",
          "text": [
            "[Epoch 1 | Train] 평균 loss: 0.791, 평균 acc: 0.820\n"
          ]
        },
        {
          "output_type": "stream",
          "name": "stderr",
          "text": [
            "100%|██████████| 15/15 [02:47<00:00, 11.14s/it]\n"
          ]
        },
        {
          "output_type": "stream",
          "name": "stdout",
          "text": [
            "[Epoch 1 | Valid] 평균 loss: 0.391, 평균 acc: 0.881\n"
          ]
        },
        {
          "output_type": "stream",
          "name": "stderr",
          "text": [
            "100%|██████████| 59/59 [04:18<00:00,  4.38s/it]\n"
          ]
        },
        {
          "output_type": "stream",
          "name": "stdout",
          "text": [
            "[Epoch 2 | Train] 평균 loss: 0.222, 평균 acc: 0.946\n"
          ]
        },
        {
          "output_type": "stream",
          "name": "stderr",
          "text": [
            "100%|██████████| 15/15 [01:04<00:00,  4.30s/it]\n"
          ]
        },
        {
          "output_type": "stream",
          "name": "stdout",
          "text": [
            "[Epoch 2 | Valid] 평균 loss: 1.258, 평균 acc: 0.681\n"
          ]
        },
        {
          "output_type": "stream",
          "name": "stderr",
          "text": [
            "100%|██████████| 59/59 [04:17<00:00,  4.37s/it]\n"
          ]
        },
        {
          "output_type": "stream",
          "name": "stdout",
          "text": [
            "[Epoch 3 | Train] 평균 loss: 0.122, 평균 acc: 0.962\n"
          ]
        },
        {
          "output_type": "stream",
          "name": "stderr",
          "text": [
            "100%|██████████| 15/15 [01:03<00:00,  4.25s/it]\n"
          ]
        },
        {
          "output_type": "stream",
          "name": "stdout",
          "text": [
            "[Epoch 3 | Valid] 평균 loss: 0.049, 평균 acc: 0.991\n"
          ]
        },
        {
          "output_type": "stream",
          "name": "stderr",
          "text": [
            "100%|██████████| 59/59 [04:24<00:00,  4.48s/it]\n"
          ]
        },
        {
          "output_type": "stream",
          "name": "stdout",
          "text": [
            "[Epoch 4 | Train] 평균 loss: 0.041, 평균 acc: 0.987\n"
          ]
        },
        {
          "output_type": "stream",
          "name": "stderr",
          "text": [
            "100%|██████████| 15/15 [01:05<00:00,  4.34s/it]\n"
          ]
        },
        {
          "output_type": "stream",
          "name": "stdout",
          "text": [
            "[Epoch 4 | Valid] 평균 loss: 0.029, 평균 acc: 0.991\n"
          ]
        },
        {
          "output_type": "stream",
          "name": "stderr",
          "text": [
            "100%|██████████| 59/59 [04:18<00:00,  4.38s/it]\n"
          ]
        },
        {
          "output_type": "stream",
          "name": "stdout",
          "text": [
            "[Epoch 5 | Train] 평균 loss: 0.047, 평균 acc: 0.987\n"
          ]
        },
        {
          "output_type": "stream",
          "name": "stderr",
          "text": [
            "100%|██████████| 15/15 [01:03<00:00,  4.23s/it]"
          ]
        },
        {
          "output_type": "stream",
          "name": "stdout",
          "text": [
            "[Epoch 5 | Valid] 평균 loss: 0.026, 평균 acc: 0.996\n",
            "끝\n"
          ]
        },
        {
          "output_type": "stream",
          "name": "stderr",
          "text": [
            "\n"
          ]
        }
      ],
      "source": [
        "for epoch in range(EPOCH):\n",
        "    for phase in ['Train', 'Valid']:\n",
        "        running_loss = 0\n",
        "        running_acc = 0\n",
        "        \n",
        "        if phase == 'Train':\n",
        "            model.train()\n",
        "        elif phase == 'Valid':\n",
        "            model.eval()\n",
        "            \n",
        "        for i, (image, label) in enumerate(tqdm(dataloaders[phase])):\n",
        "            image = image.to(device)\n",
        "            label = label.to(device)\n",
        "            \n",
        "            optimizer.zero_grad()\n",
        "            \n",
        "            with torch.set_grad_enabled(phase == 'Train'):\n",
        "                logits = model(image)\n",
        "                _, preds = torch.max(logits, 1)\n",
        "                loss = loss_func(logits, label)\n",
        "                \n",
        "                if phase == 'Train':\n",
        "                    loss.backward()\n",
        "                    optimizer.step()\n",
        "            running_loss += loss.item() * image.size(0)\n",
        "            running_acc += torch.sum(preds == label.data)\n",
        "            \n",
        "        epoch_loss = running_loss / len(dataloaders[phase].dataset)\n",
        "        epoch_acc = running_acc / len(dataloaders[phase].dataset) \n",
        "\n",
        "        print(f\"[Epoch {epoch+1} | {phase:5}] 평균 loss: {epoch_loss:.3f}, 평균 acc: {epoch_acc:.3f}\")\n",
        "    \n",
        "    scheduler.step()\n",
        "\n",
        "print('끝')"
      ]
    },
    {
      "cell_type": "code",
      "execution_count": null,
      "id": "cd929a92-4860-4be0-a8f9-0ee19a1fe3be",
      "metadata": {
        "id": "cd929a92-4860-4be0-a8f9-0ee19a1fe3be"
      },
      "outputs": [],
      "source": [
        "def check_eval(raw_data, dataloader, model, device):\n",
        "    result = []\n",
        "    with torch.no_grad():\n",
        "        model.eval()\n",
        "        for i, (X, y) in enumerate(dataloader):\n",
        "            model_pred = model.forward(X.to(device))\n",
        "            _, y_pred = torch.max(model_pred, 1)\n",
        "            \n",
        "            result.append([valid_set.iloc[i]['path'], y_pred.cpu().numpy()[0], y.cpu().numpy()[0]])\n",
        "        result = pd.DataFrame(result, columns=['path', 'pred', 'target'])\n",
        "        return result"
      ]
    },
    {
      "cell_type": "code",
      "execution_count": null,
      "id": "7c98f07a-9203-4a14-913c-85e56e044403",
      "metadata": {
        "id": "7c98f07a-9203-4a14-913c-85e56e044403",
        "colab": {
          "base_uri": "https://localhost:8080/",
          "height": 424
        },
        "outputId": "ef9c7686-68f2-4282-c425-7b8669bdca0b"
      },
      "outputs": [
        {
          "output_type": "execute_result",
          "data": {
            "text/plain": [
              "                                                  path  pred  target\n",
              "0    /content/drive/MyDrive/Colab Notebooks/Boardga...     2       2\n",
              "1    /content/drive/MyDrive/Colab Notebooks/Boardga...     2       2\n",
              "2    /content/drive/MyDrive/Colab Notebooks/Boardga...     0       0\n",
              "3    /content/drive/MyDrive/Colab Notebooks/Boardga...     1       1\n",
              "4    /content/drive/MyDrive/Colab Notebooks/Boardga...     1       1\n",
              "..                                                 ...   ...     ...\n",
              "230  /content/drive/MyDrive/Colab Notebooks/Boardga...     2       2\n",
              "231  /content/drive/MyDrive/Colab Notebooks/Boardga...     2       2\n",
              "232  /content/drive/MyDrive/Colab Notebooks/Boardga...     0       0\n",
              "233  /content/drive/MyDrive/Colab Notebooks/Boardga...     2       2\n",
              "234  /content/drive/MyDrive/Colab Notebooks/Boardga...     0       0\n",
              "\n",
              "[235 rows x 3 columns]"
            ],
            "text/html": [
              "\n",
              "  <div id=\"df-ed9cf81d-4e22-4ad9-8a60-0709c3b3da1c\">\n",
              "    <div class=\"colab-df-container\">\n",
              "      <div>\n",
              "<style scoped>\n",
              "    .dataframe tbody tr th:only-of-type {\n",
              "        vertical-align: middle;\n",
              "    }\n",
              "\n",
              "    .dataframe tbody tr th {\n",
              "        vertical-align: top;\n",
              "    }\n",
              "\n",
              "    .dataframe thead th {\n",
              "        text-align: right;\n",
              "    }\n",
              "</style>\n",
              "<table border=\"1\" class=\"dataframe\">\n",
              "  <thead>\n",
              "    <tr style=\"text-align: right;\">\n",
              "      <th></th>\n",
              "      <th>path</th>\n",
              "      <th>pred</th>\n",
              "      <th>target</th>\n",
              "    </tr>\n",
              "  </thead>\n",
              "  <tbody>\n",
              "    <tr>\n",
              "      <th>0</th>\n",
              "      <td>/content/drive/MyDrive/Colab Notebooks/Boardga...</td>\n",
              "      <td>2</td>\n",
              "      <td>2</td>\n",
              "    </tr>\n",
              "    <tr>\n",
              "      <th>1</th>\n",
              "      <td>/content/drive/MyDrive/Colab Notebooks/Boardga...</td>\n",
              "      <td>2</td>\n",
              "      <td>2</td>\n",
              "    </tr>\n",
              "    <tr>\n",
              "      <th>2</th>\n",
              "      <td>/content/drive/MyDrive/Colab Notebooks/Boardga...</td>\n",
              "      <td>0</td>\n",
              "      <td>0</td>\n",
              "    </tr>\n",
              "    <tr>\n",
              "      <th>3</th>\n",
              "      <td>/content/drive/MyDrive/Colab Notebooks/Boardga...</td>\n",
              "      <td>1</td>\n",
              "      <td>1</td>\n",
              "    </tr>\n",
              "    <tr>\n",
              "      <th>4</th>\n",
              "      <td>/content/drive/MyDrive/Colab Notebooks/Boardga...</td>\n",
              "      <td>1</td>\n",
              "      <td>1</td>\n",
              "    </tr>\n",
              "    <tr>\n",
              "      <th>...</th>\n",
              "      <td>...</td>\n",
              "      <td>...</td>\n",
              "      <td>...</td>\n",
              "    </tr>\n",
              "    <tr>\n",
              "      <th>230</th>\n",
              "      <td>/content/drive/MyDrive/Colab Notebooks/Boardga...</td>\n",
              "      <td>2</td>\n",
              "      <td>2</td>\n",
              "    </tr>\n",
              "    <tr>\n",
              "      <th>231</th>\n",
              "      <td>/content/drive/MyDrive/Colab Notebooks/Boardga...</td>\n",
              "      <td>2</td>\n",
              "      <td>2</td>\n",
              "    </tr>\n",
              "    <tr>\n",
              "      <th>232</th>\n",
              "      <td>/content/drive/MyDrive/Colab Notebooks/Boardga...</td>\n",
              "      <td>0</td>\n",
              "      <td>0</td>\n",
              "    </tr>\n",
              "    <tr>\n",
              "      <th>233</th>\n",
              "      <td>/content/drive/MyDrive/Colab Notebooks/Boardga...</td>\n",
              "      <td>2</td>\n",
              "      <td>2</td>\n",
              "    </tr>\n",
              "    <tr>\n",
              "      <th>234</th>\n",
              "      <td>/content/drive/MyDrive/Colab Notebooks/Boardga...</td>\n",
              "      <td>0</td>\n",
              "      <td>0</td>\n",
              "    </tr>\n",
              "  </tbody>\n",
              "</table>\n",
              "<p>235 rows × 3 columns</p>\n",
              "</div>\n",
              "      <button class=\"colab-df-convert\" onclick=\"convertToInteractive('df-ed9cf81d-4e22-4ad9-8a60-0709c3b3da1c')\"\n",
              "              title=\"Convert this dataframe to an interactive table.\"\n",
              "              style=\"display:none;\">\n",
              "        \n",
              "  <svg xmlns=\"http://www.w3.org/2000/svg\" height=\"24px\"viewBox=\"0 0 24 24\"\n",
              "       width=\"24px\">\n",
              "    <path d=\"M0 0h24v24H0V0z\" fill=\"none\"/>\n",
              "    <path d=\"M18.56 5.44l.94 2.06.94-2.06 2.06-.94-2.06-.94-.94-2.06-.94 2.06-2.06.94zm-11 1L8.5 8.5l.94-2.06 2.06-.94-2.06-.94L8.5 2.5l-.94 2.06-2.06.94zm10 10l.94 2.06.94-2.06 2.06-.94-2.06-.94-.94-2.06-.94 2.06-2.06.94z\"/><path d=\"M17.41 7.96l-1.37-1.37c-.4-.4-.92-.59-1.43-.59-.52 0-1.04.2-1.43.59L10.3 9.45l-7.72 7.72c-.78.78-.78 2.05 0 2.83L4 21.41c.39.39.9.59 1.41.59.51 0 1.02-.2 1.41-.59l7.78-7.78 2.81-2.81c.8-.78.8-2.07 0-2.86zM5.41 20L4 18.59l7.72-7.72 1.47 1.35L5.41 20z\"/>\n",
              "  </svg>\n",
              "      </button>\n",
              "      \n",
              "  <style>\n",
              "    .colab-df-container {\n",
              "      display:flex;\n",
              "      flex-wrap:wrap;\n",
              "      gap: 12px;\n",
              "    }\n",
              "\n",
              "    .colab-df-convert {\n",
              "      background-color: #E8F0FE;\n",
              "      border: none;\n",
              "      border-radius: 50%;\n",
              "      cursor: pointer;\n",
              "      display: none;\n",
              "      fill: #1967D2;\n",
              "      height: 32px;\n",
              "      padding: 0 0 0 0;\n",
              "      width: 32px;\n",
              "    }\n",
              "\n",
              "    .colab-df-convert:hover {\n",
              "      background-color: #E2EBFA;\n",
              "      box-shadow: 0px 1px 2px rgba(60, 64, 67, 0.3), 0px 1px 3px 1px rgba(60, 64, 67, 0.15);\n",
              "      fill: #174EA6;\n",
              "    }\n",
              "\n",
              "    [theme=dark] .colab-df-convert {\n",
              "      background-color: #3B4455;\n",
              "      fill: #D2E3FC;\n",
              "    }\n",
              "\n",
              "    [theme=dark] .colab-df-convert:hover {\n",
              "      background-color: #434B5C;\n",
              "      box-shadow: 0px 1px 3px 1px rgba(0, 0, 0, 0.15);\n",
              "      filter: drop-shadow(0px 1px 2px rgba(0, 0, 0, 0.3));\n",
              "      fill: #FFFFFF;\n",
              "    }\n",
              "  </style>\n",
              "\n",
              "      <script>\n",
              "        const buttonEl =\n",
              "          document.querySelector('#df-ed9cf81d-4e22-4ad9-8a60-0709c3b3da1c button.colab-df-convert');\n",
              "        buttonEl.style.display =\n",
              "          google.colab.kernel.accessAllowed ? 'block' : 'none';\n",
              "\n",
              "        async function convertToInteractive(key) {\n",
              "          const element = document.querySelector('#df-ed9cf81d-4e22-4ad9-8a60-0709c3b3da1c');\n",
              "          const dataTable =\n",
              "            await google.colab.kernel.invokeFunction('convertToInteractive',\n",
              "                                                     [key], {});\n",
              "          if (!dataTable) return;\n",
              "\n",
              "          const docLinkHtml = 'Like what you see? Visit the ' +\n",
              "            '<a target=\"_blank\" href=https://colab.research.google.com/notebooks/data_table.ipynb>data table notebook</a>'\n",
              "            + ' to learn more about interactive tables.';\n",
              "          element.innerHTML = '';\n",
              "          dataTable['output_type'] = 'display_data';\n",
              "          await google.colab.output.renderOutput(dataTable, element);\n",
              "          const docLink = document.createElement('div');\n",
              "          docLink.innerHTML = docLinkHtml;\n",
              "          element.appendChild(docLink);\n",
              "        }\n",
              "      </script>\n",
              "    </div>\n",
              "  </div>\n",
              "  "
            ]
          },
          "metadata": {},
          "execution_count": 39
        }
      ],
      "source": [
        "valid_testing_dataloader = DataLoader(valid_dataset, shuffle = False)\n",
        "check_eval_df = check_eval(valid_set, valid_testing_dataloader, model, device)\n",
        "check_eval_df"
      ]
    },
    {
      "cell_type": "code",
      "execution_count": null,
      "id": "8a75945f-96f5-4d20-a647-a6d3f206df8f",
      "metadata": {
        "id": "8a75945f-96f5-4d20-a647-a6d3f206df8f",
        "colab": {
          "base_uri": "https://localhost:8080/",
          "height": 128
        },
        "outputId": "9565c503-0f9b-41c6-ede2-47948a543596"
      },
      "outputs": [
        {
          "output_type": "execute_result",
          "data": {
            "text/plain": [
              "                                                path  pred  target\n",
              "0  /content/drive/MyDrive/Colab Notebooks/Boardga...     0       2"
            ],
            "text/html": [
              "\n",
              "  <div id=\"df-c7418abc-920a-4216-8556-82e985d681b6\">\n",
              "    <div class=\"colab-df-container\">\n",
              "      <div>\n",
              "<style scoped>\n",
              "    .dataframe tbody tr th:only-of-type {\n",
              "        vertical-align: middle;\n",
              "    }\n",
              "\n",
              "    .dataframe tbody tr th {\n",
              "        vertical-align: top;\n",
              "    }\n",
              "\n",
              "    .dataframe thead th {\n",
              "        text-align: right;\n",
              "    }\n",
              "</style>\n",
              "<table border=\"1\" class=\"dataframe\">\n",
              "  <thead>\n",
              "    <tr style=\"text-align: right;\">\n",
              "      <th></th>\n",
              "      <th>path</th>\n",
              "      <th>pred</th>\n",
              "      <th>target</th>\n",
              "    </tr>\n",
              "  </thead>\n",
              "  <tbody>\n",
              "    <tr>\n",
              "      <th>0</th>\n",
              "      <td>/content/drive/MyDrive/Colab Notebooks/Boardga...</td>\n",
              "      <td>0</td>\n",
              "      <td>2</td>\n",
              "    </tr>\n",
              "  </tbody>\n",
              "</table>\n",
              "</div>\n",
              "      <button class=\"colab-df-convert\" onclick=\"convertToInteractive('df-c7418abc-920a-4216-8556-82e985d681b6')\"\n",
              "              title=\"Convert this dataframe to an interactive table.\"\n",
              "              style=\"display:none;\">\n",
              "        \n",
              "  <svg xmlns=\"http://www.w3.org/2000/svg\" height=\"24px\"viewBox=\"0 0 24 24\"\n",
              "       width=\"24px\">\n",
              "    <path d=\"M0 0h24v24H0V0z\" fill=\"none\"/>\n",
              "    <path d=\"M18.56 5.44l.94 2.06.94-2.06 2.06-.94-2.06-.94-.94-2.06-.94 2.06-2.06.94zm-11 1L8.5 8.5l.94-2.06 2.06-.94-2.06-.94L8.5 2.5l-.94 2.06-2.06.94zm10 10l.94 2.06.94-2.06 2.06-.94-2.06-.94-.94-2.06-.94 2.06-2.06.94z\"/><path d=\"M17.41 7.96l-1.37-1.37c-.4-.4-.92-.59-1.43-.59-.52 0-1.04.2-1.43.59L10.3 9.45l-7.72 7.72c-.78.78-.78 2.05 0 2.83L4 21.41c.39.39.9.59 1.41.59.51 0 1.02-.2 1.41-.59l7.78-7.78 2.81-2.81c.8-.78.8-2.07 0-2.86zM5.41 20L4 18.59l7.72-7.72 1.47 1.35L5.41 20z\"/>\n",
              "  </svg>\n",
              "      </button>\n",
              "      \n",
              "  <style>\n",
              "    .colab-df-container {\n",
              "      display:flex;\n",
              "      flex-wrap:wrap;\n",
              "      gap: 12px;\n",
              "    }\n",
              "\n",
              "    .colab-df-convert {\n",
              "      background-color: #E8F0FE;\n",
              "      border: none;\n",
              "      border-radius: 50%;\n",
              "      cursor: pointer;\n",
              "      display: none;\n",
              "      fill: #1967D2;\n",
              "      height: 32px;\n",
              "      padding: 0 0 0 0;\n",
              "      width: 32px;\n",
              "    }\n",
              "\n",
              "    .colab-df-convert:hover {\n",
              "      background-color: #E2EBFA;\n",
              "      box-shadow: 0px 1px 2px rgba(60, 64, 67, 0.3), 0px 1px 3px 1px rgba(60, 64, 67, 0.15);\n",
              "      fill: #174EA6;\n",
              "    }\n",
              "\n",
              "    [theme=dark] .colab-df-convert {\n",
              "      background-color: #3B4455;\n",
              "      fill: #D2E3FC;\n",
              "    }\n",
              "\n",
              "    [theme=dark] .colab-df-convert:hover {\n",
              "      background-color: #434B5C;\n",
              "      box-shadow: 0px 1px 3px 1px rgba(0, 0, 0, 0.15);\n",
              "      filter: drop-shadow(0px 1px 2px rgba(0, 0, 0, 0.3));\n",
              "      fill: #FFFFFF;\n",
              "    }\n",
              "  </style>\n",
              "\n",
              "      <script>\n",
              "        const buttonEl =\n",
              "          document.querySelector('#df-c7418abc-920a-4216-8556-82e985d681b6 button.colab-df-convert');\n",
              "        buttonEl.style.display =\n",
              "          google.colab.kernel.accessAllowed ? 'block' : 'none';\n",
              "\n",
              "        async function convertToInteractive(key) {\n",
              "          const element = document.querySelector('#df-c7418abc-920a-4216-8556-82e985d681b6');\n",
              "          const dataTable =\n",
              "            await google.colab.kernel.invokeFunction('convertToInteractive',\n",
              "                                                     [key], {});\n",
              "          if (!dataTable) return;\n",
              "\n",
              "          const docLinkHtml = 'Like what you see? Visit the ' +\n",
              "            '<a target=\"_blank\" href=https://colab.research.google.com/notebooks/data_table.ipynb>data table notebook</a>'\n",
              "            + ' to learn more about interactive tables.';\n",
              "          element.innerHTML = '';\n",
              "          dataTable['output_type'] = 'display_data';\n",
              "          await google.colab.output.renderOutput(dataTable, element);\n",
              "          const docLink = document.createElement('div');\n",
              "          docLink.innerHTML = docLinkHtml;\n",
              "          element.appendChild(docLink);\n",
              "        }\n",
              "      </script>\n",
              "    </div>\n",
              "  </div>\n",
              "  "
            ]
          },
          "metadata": {},
          "execution_count": 40
        }
      ],
      "source": [
        "wrong_df = check_eval_df[check_eval_df['pred'] != check_eval_df['target']]\n",
        "wrong_df = wrong_df.reset_index(drop=True)\n",
        "wrong_df"
      ]
    },
    {
      "cell_type": "code",
      "source": [
        "wrong_df.shape"
      ],
      "metadata": {
        "id": "yGAC64jn_N18",
        "colab": {
          "base_uri": "https://localhost:8080/"
        },
        "outputId": "1dad1071-4daa-47d5-d6a1-ad76d37e175b"
      },
      "id": "yGAC64jn_N18",
      "execution_count": null,
      "outputs": [
        {
          "output_type": "execute_result",
          "data": {
            "text/plain": [
              "(1, 3)"
            ]
          },
          "metadata": {},
          "execution_count": 41
        }
      ]
    },
    {
      "cell_type": "code",
      "execution_count": null,
      "id": "b7d8c1d3-43bd-4da6-a0f1-b9e1f69d669f",
      "metadata": {
        "id": "b7d8c1d3-43bd-4da6-a0f1-b9e1f69d669f"
      },
      "outputs": [],
      "source": [
        "def draw(df):\n",
        "    plt.figure(figsize = (15, 30))\n",
        "    row = 3\n",
        "    show_num_in_a_row = 10\n",
        "    for i in range(show_num_in_a_row):\n",
        "        plt.subplot(row+1, show_num_in_a_row//row, i+1)\n",
        "        plt.imshow(Image.open(df['path'][i]))\n",
        "        pathes = df['path'][i].split('_')\n",
        "\n",
        "        result = 'pred:' + str(df['pred'][i]) + ' ans: ' + str(df['target'][i])\n",
        "        plt.title(result)\n",
        "        plt.axis('off')\n",
        "    plt.tight_layout()\n",
        "    plt.show()"
      ]
    },
    {
      "cell_type": "code",
      "execution_count": null,
      "id": "4a3d943b-f774-4b76-9b86-30595ead7833",
      "metadata": {
        "id": "4a3d943b-f774-4b76-9b86-30595ead7833",
        "colab": {
          "base_uri": "https://localhost:8080/",
          "height": 844
        },
        "outputId": "62124f94-8705-4998-98c1-a4d0815ddc03"
      },
      "outputs": [
        {
          "output_type": "error",
          "ename": "KeyError",
          "evalue": "ignored",
          "traceback": [
            "\u001b[0;31m---------------------------------------------------------------------------\u001b[0m",
            "\u001b[0;31mValueError\u001b[0m                                Traceback (most recent call last)",
            "\u001b[0;32m/usr/local/lib/python3.9/dist-packages/pandas/core/indexes/range.py\u001b[0m in \u001b[0;36mget_loc\u001b[0;34m(self, key, method, tolerance)\u001b[0m\n\u001b[1;32m    384\u001b[0m                 \u001b[0;32mtry\u001b[0m\u001b[0;34m:\u001b[0m\u001b[0;34m\u001b[0m\u001b[0;34m\u001b[0m\u001b[0m\n\u001b[0;32m--> 385\u001b[0;31m                     \u001b[0;32mreturn\u001b[0m \u001b[0mself\u001b[0m\u001b[0;34m.\u001b[0m\u001b[0m_range\u001b[0m\u001b[0;34m.\u001b[0m\u001b[0mindex\u001b[0m\u001b[0;34m(\u001b[0m\u001b[0mnew_key\u001b[0m\u001b[0;34m)\u001b[0m\u001b[0;34m\u001b[0m\u001b[0;34m\u001b[0m\u001b[0m\n\u001b[0m\u001b[1;32m    386\u001b[0m                 \u001b[0;32mexcept\u001b[0m \u001b[0mValueError\u001b[0m \u001b[0;32mas\u001b[0m \u001b[0merr\u001b[0m\u001b[0;34m:\u001b[0m\u001b[0;34m\u001b[0m\u001b[0;34m\u001b[0m\u001b[0m\n",
            "\u001b[0;31mValueError\u001b[0m: 1 is not in range",
            "\nThe above exception was the direct cause of the following exception:\n",
            "\u001b[0;31mKeyError\u001b[0m                                  Traceback (most recent call last)",
            "\u001b[0;32m<ipython-input-43-88aeb9fdf69c>\u001b[0m in \u001b[0;36m<module>\u001b[0;34m\u001b[0m\n\u001b[0;32m----> 1\u001b[0;31m \u001b[0mdraw\u001b[0m\u001b[0;34m(\u001b[0m\u001b[0mwrong_df\u001b[0m\u001b[0;34m)\u001b[0m\u001b[0;34m\u001b[0m\u001b[0;34m\u001b[0m\u001b[0m\n\u001b[0m",
            "\u001b[0;32m<ipython-input-42-61e6ce54903f>\u001b[0m in \u001b[0;36mdraw\u001b[0;34m(df)\u001b[0m\n\u001b[1;32m      5\u001b[0m     \u001b[0;32mfor\u001b[0m \u001b[0mi\u001b[0m \u001b[0;32min\u001b[0m \u001b[0mrange\u001b[0m\u001b[0;34m(\u001b[0m\u001b[0mshow_num_in_a_row\u001b[0m\u001b[0;34m)\u001b[0m\u001b[0;34m:\u001b[0m\u001b[0;34m\u001b[0m\u001b[0;34m\u001b[0m\u001b[0m\n\u001b[1;32m      6\u001b[0m         \u001b[0mplt\u001b[0m\u001b[0;34m.\u001b[0m\u001b[0msubplot\u001b[0m\u001b[0;34m(\u001b[0m\u001b[0mrow\u001b[0m\u001b[0;34m+\u001b[0m\u001b[0;36m1\u001b[0m\u001b[0;34m,\u001b[0m \u001b[0mshow_num_in_a_row\u001b[0m\u001b[0;34m//\u001b[0m\u001b[0mrow\u001b[0m\u001b[0;34m,\u001b[0m \u001b[0mi\u001b[0m\u001b[0;34m+\u001b[0m\u001b[0;36m1\u001b[0m\u001b[0;34m)\u001b[0m\u001b[0;34m\u001b[0m\u001b[0;34m\u001b[0m\u001b[0m\n\u001b[0;32m----> 7\u001b[0;31m         \u001b[0mplt\u001b[0m\u001b[0;34m.\u001b[0m\u001b[0mimshow\u001b[0m\u001b[0;34m(\u001b[0m\u001b[0mImage\u001b[0m\u001b[0;34m.\u001b[0m\u001b[0mopen\u001b[0m\u001b[0;34m(\u001b[0m\u001b[0mdf\u001b[0m\u001b[0;34m[\u001b[0m\u001b[0;34m'path'\u001b[0m\u001b[0;34m]\u001b[0m\u001b[0;34m[\u001b[0m\u001b[0mi\u001b[0m\u001b[0;34m]\u001b[0m\u001b[0;34m)\u001b[0m\u001b[0;34m)\u001b[0m\u001b[0;34m\u001b[0m\u001b[0;34m\u001b[0m\u001b[0m\n\u001b[0m\u001b[1;32m      8\u001b[0m         \u001b[0mpathes\u001b[0m \u001b[0;34m=\u001b[0m \u001b[0mdf\u001b[0m\u001b[0;34m[\u001b[0m\u001b[0;34m'path'\u001b[0m\u001b[0;34m]\u001b[0m\u001b[0;34m[\u001b[0m\u001b[0mi\u001b[0m\u001b[0;34m]\u001b[0m\u001b[0;34m.\u001b[0m\u001b[0msplit\u001b[0m\u001b[0;34m(\u001b[0m\u001b[0;34m'_'\u001b[0m\u001b[0;34m)\u001b[0m\u001b[0;34m\u001b[0m\u001b[0;34m\u001b[0m\u001b[0m\n\u001b[1;32m      9\u001b[0m \u001b[0;34m\u001b[0m\u001b[0m\n",
            "\u001b[0;32m/usr/local/lib/python3.9/dist-packages/pandas/core/series.py\u001b[0m in \u001b[0;36m__getitem__\u001b[0;34m(self, key)\u001b[0m\n\u001b[1;32m    940\u001b[0m \u001b[0;34m\u001b[0m\u001b[0m\n\u001b[1;32m    941\u001b[0m         \u001b[0;32melif\u001b[0m \u001b[0mkey_is_scalar\u001b[0m\u001b[0;34m:\u001b[0m\u001b[0;34m\u001b[0m\u001b[0;34m\u001b[0m\u001b[0m\n\u001b[0;32m--> 942\u001b[0;31m             \u001b[0;32mreturn\u001b[0m \u001b[0mself\u001b[0m\u001b[0;34m.\u001b[0m\u001b[0m_get_value\u001b[0m\u001b[0;34m(\u001b[0m\u001b[0mkey\u001b[0m\u001b[0;34m)\u001b[0m\u001b[0;34m\u001b[0m\u001b[0;34m\u001b[0m\u001b[0m\n\u001b[0m\u001b[1;32m    943\u001b[0m \u001b[0;34m\u001b[0m\u001b[0m\n\u001b[1;32m    944\u001b[0m         \u001b[0;32mif\u001b[0m \u001b[0mis_hashable\u001b[0m\u001b[0;34m(\u001b[0m\u001b[0mkey\u001b[0m\u001b[0;34m)\u001b[0m\u001b[0;34m:\u001b[0m\u001b[0;34m\u001b[0m\u001b[0;34m\u001b[0m\u001b[0m\n",
            "\u001b[0;32m/usr/local/lib/python3.9/dist-packages/pandas/core/series.py\u001b[0m in \u001b[0;36m_get_value\u001b[0;34m(self, label, takeable)\u001b[0m\n\u001b[1;32m   1049\u001b[0m \u001b[0;34m\u001b[0m\u001b[0m\n\u001b[1;32m   1050\u001b[0m         \u001b[0;31m# Similar to Index.get_value, but we do not fall back to positional\u001b[0m\u001b[0;34m\u001b[0m\u001b[0;34m\u001b[0m\u001b[0m\n\u001b[0;32m-> 1051\u001b[0;31m         \u001b[0mloc\u001b[0m \u001b[0;34m=\u001b[0m \u001b[0mself\u001b[0m\u001b[0;34m.\u001b[0m\u001b[0mindex\u001b[0m\u001b[0;34m.\u001b[0m\u001b[0mget_loc\u001b[0m\u001b[0;34m(\u001b[0m\u001b[0mlabel\u001b[0m\u001b[0;34m)\u001b[0m\u001b[0;34m\u001b[0m\u001b[0;34m\u001b[0m\u001b[0m\n\u001b[0m\u001b[1;32m   1052\u001b[0m         \u001b[0;32mreturn\u001b[0m \u001b[0mself\u001b[0m\u001b[0;34m.\u001b[0m\u001b[0mindex\u001b[0m\u001b[0;34m.\u001b[0m\u001b[0m_get_values_for_loc\u001b[0m\u001b[0;34m(\u001b[0m\u001b[0mself\u001b[0m\u001b[0;34m,\u001b[0m \u001b[0mloc\u001b[0m\u001b[0;34m,\u001b[0m \u001b[0mlabel\u001b[0m\u001b[0;34m)\u001b[0m\u001b[0;34m\u001b[0m\u001b[0;34m\u001b[0m\u001b[0m\n\u001b[1;32m   1053\u001b[0m \u001b[0;34m\u001b[0m\u001b[0m\n",
            "\u001b[0;32m/usr/local/lib/python3.9/dist-packages/pandas/core/indexes/range.py\u001b[0m in \u001b[0;36mget_loc\u001b[0;34m(self, key, method, tolerance)\u001b[0m\n\u001b[1;32m    385\u001b[0m                     \u001b[0;32mreturn\u001b[0m \u001b[0mself\u001b[0m\u001b[0;34m.\u001b[0m\u001b[0m_range\u001b[0m\u001b[0;34m.\u001b[0m\u001b[0mindex\u001b[0m\u001b[0;34m(\u001b[0m\u001b[0mnew_key\u001b[0m\u001b[0;34m)\u001b[0m\u001b[0;34m\u001b[0m\u001b[0;34m\u001b[0m\u001b[0m\n\u001b[1;32m    386\u001b[0m                 \u001b[0;32mexcept\u001b[0m \u001b[0mValueError\u001b[0m \u001b[0;32mas\u001b[0m \u001b[0merr\u001b[0m\u001b[0;34m:\u001b[0m\u001b[0;34m\u001b[0m\u001b[0;34m\u001b[0m\u001b[0m\n\u001b[0;32m--> 387\u001b[0;31m                     \u001b[0;32mraise\u001b[0m \u001b[0mKeyError\u001b[0m\u001b[0;34m(\u001b[0m\u001b[0mkey\u001b[0m\u001b[0;34m)\u001b[0m \u001b[0;32mfrom\u001b[0m \u001b[0merr\u001b[0m\u001b[0;34m\u001b[0m\u001b[0;34m\u001b[0m\u001b[0m\n\u001b[0m\u001b[1;32m    388\u001b[0m             \u001b[0;32mraise\u001b[0m \u001b[0mKeyError\u001b[0m\u001b[0;34m(\u001b[0m\u001b[0mkey\u001b[0m\u001b[0;34m)\u001b[0m\u001b[0;34m\u001b[0m\u001b[0;34m\u001b[0m\u001b[0m\n\u001b[1;32m    389\u001b[0m         \u001b[0;32mreturn\u001b[0m \u001b[0msuper\u001b[0m\u001b[0;34m(\u001b[0m\u001b[0;34m)\u001b[0m\u001b[0;34m.\u001b[0m\u001b[0mget_loc\u001b[0m\u001b[0;34m(\u001b[0m\u001b[0mkey\u001b[0m\u001b[0;34m,\u001b[0m \u001b[0mmethod\u001b[0m\u001b[0;34m=\u001b[0m\u001b[0mmethod\u001b[0m\u001b[0;34m,\u001b[0m \u001b[0mtolerance\u001b[0m\u001b[0;34m=\u001b[0m\u001b[0mtolerance\u001b[0m\u001b[0;34m)\u001b[0m\u001b[0;34m\u001b[0m\u001b[0;34m\u001b[0m\u001b[0m\n",
            "\u001b[0;31mKeyError\u001b[0m: 1"
          ]
        },
        {
          "output_type": "display_data",
          "data": {
            "text/plain": [
              "<Figure size 1080x2160 with 2 Axes>"
            ],
            "image/png": "[encoded data removed]"
          },
          "metadata": {
            "needs_background": "light"
          }
        }
      ],
      "source": [
        "draw(wrong_df)"
      ]
    },
    {
      "cell_type": "code",
      "execution_count": null,
      "id": "7bf0b3d5-07fb-4f98-aa02-7b7c0d5d4a51",
      "metadata": {
        "id": "7bf0b3d5-07fb-4f98-aa02-7b7c0d5d4a51",
        "colab": {
          "base_uri": "https://localhost:8080/"
        },
        "outputId": "cc7b41a5-596a-441b-9290-863d71c90d6c"
      },
      "outputs": [
        {
          "output_type": "execute_result",
          "data": {
            "text/plain": [
              "0.9959720958447074"
            ]
          },
          "metadata": {},
          "execution_count": 44
        }
      ],
      "source": [
        "from sklearn.metrics import accuracy_score, recall_score, precision_score, f1_score\n",
        "f1_score(check_eval_df['target'], check_eval_df['pred'], average = 'macro')"
      ]
    },
    {
      "cell_type": "code",
      "execution_count": null,
      "id": "593ca90f-d258-41f1-a835-0eb7cb6ef70c",
      "metadata": {
        "id": "593ca90f-d258-41f1-a835-0eb7cb6ef70c"
      },
      "outputs": [],
      "source": [
        "# 테스트 데이터셋 폴더 경로를 지정해주세요.\n",
        "test_dir = \"/content/drive/MyDrive/Colab Notebooks/보드게임/test\""
      ]
    },
    {
      "cell_type": "code",
      "source": [
        "test_dir = \"/content/drive/MyDrive/Colab Notebooks/Boardgame/test\""
      ],
      "metadata": {
        "id": "2alqzq50gufR"
      },
      "id": "2alqzq50gufR",
      "execution_count": null,
      "outputs": []
    },
    {
      "cell_type": "code",
      "execution_count": null,
      "id": "46a45d4d-3dd3-4f44-a698-e1544b34ccb1",
      "metadata": {
        "id": "46a45d4d-3dd3-4f44-a698-e1544b34ccb1"
      },
      "outputs": [],
      "source": [
        "class TestDataset(Dataset):\n",
        "    def __init__(self, img_paths, transform):\n",
        "        self.img_paths = img_paths\n",
        "        self.transform = transform\n",
        "\n",
        "    def __getitem__(self, index):\n",
        "        image = Image.open(self.img_paths[index])\n",
        "\n",
        "        if self.transform:\n",
        "            image = self.transform(image)\n",
        "        return image\n",
        "\n",
        "    def __len__(self):\n",
        "        return len(self.img_paths)"
      ]
    },
    {
      "cell_type": "code",
      "source": [
        "test_dict = {}\n",
        "test_dict['path'] = []\n",
        "test_dict['label'] = []\n",
        "test_dict['predict'] = []"
      ],
      "metadata": {
        "id": "6DIfUIFzBNWa"
      },
      "id": "6DIfUIFzBNWa",
      "execution_count": null,
      "outputs": []
    },
    {
      "cell_type": "code",
      "source": [
        "for idx, card in enumerate(os.listdir(test_dir)):\n",
        "    card_path = os.path.join(test_dir, card)\n",
        "    data_dict['path'].append(card_path)\n",
        "    data_dict['label'].append(idx1)"
      ],
      "metadata": {
        "id": "4OUfmDhtBUoA"
      },
      "id": "4OUfmDhtBUoA",
      "execution_count": null,
      "outputs": []
    },
    {
      "cell_type": "code",
      "source": [
        "test_df = pd.DataFrame(test_dict, columns=[\"path\", \"label\", \"predict\"])"
      ],
      "metadata": {
        "id": "sMOqwyA6BXfd"
      },
      "id": "sMOqwyA6BXfd",
      "execution_count": null,
      "outputs": []
    },
    {
      "cell_type": "code",
      "execution_count": null,
      "id": "6a2c1ad7-3dd4-480c-8aaf-a85cde2769a6",
      "metadata": {
        "id": "6a2c1ad7-3dd4-480c-8aaf-a85cde2769a6",
        "colab": {
          "base_uri": "https://localhost:8080/",
          "height": 376
        },
        "outputId": "a6a294a0-058d-4c4a-9542-74b61769c175"
      },
      "outputs": [
        {
          "output_type": "error",
          "ename": "AttributeError",
          "evalue": "ignored",
          "traceback": [
            "\u001b[0;31m---------------------------------------------------------------------------\u001b[0m",
            "\u001b[0;31mAttributeError\u001b[0m                            Traceback (most recent call last)",
            "\u001b[0;32m<ipython-input-51-b810a7e08475>\u001b[0m in \u001b[0;36m<module>\u001b[0;34m\u001b[0m\n\u001b[1;32m      4\u001b[0m \u001b[0;34m\u001b[0m\u001b[0m\n\u001b[1;32m      5\u001b[0m \u001b[0;31m# Test Dataset 클래스 객체를 생성하고 DataLoader를 만듭니다.\u001b[0m\u001b[0;34m\u001b[0m\u001b[0;34m\u001b[0m\u001b[0m\n\u001b[0;32m----> 6\u001b[0;31m \u001b[0mimage_paths\u001b[0m \u001b[0;34m=\u001b[0m \u001b[0;34m[\u001b[0m\u001b[0mos\u001b[0m\u001b[0;34m.\u001b[0m\u001b[0mpath\u001b[0m\u001b[0;34m.\u001b[0m\u001b[0mjoin\u001b[0m\u001b[0;34m(\u001b[0m\u001b[0mimage_dir\u001b[0m\u001b[0;34m,\u001b[0m \u001b[0mimg_id\u001b[0m\u001b[0;34m)\u001b[0m \u001b[0;32mfor\u001b[0m \u001b[0mimg_id\u001b[0m \u001b[0;32min\u001b[0m \u001b[0msubmission\u001b[0m\u001b[0;34m.\u001b[0m\u001b[0mImageID\u001b[0m\u001b[0;34m]\u001b[0m\u001b[0;34m\u001b[0m\u001b[0;34m\u001b[0m\u001b[0m\n\u001b[0m\u001b[1;32m      7\u001b[0m transform = transforms.Compose([\n\u001b[1;32m      8\u001b[0m     \u001b[0;31m# transforms.CenterCrop((320, 320)),\u001b[0m\u001b[0;34m\u001b[0m\u001b[0;34m\u001b[0m\u001b[0m\n",
            "\u001b[0;32m/usr/local/lib/python3.9/dist-packages/pandas/core/generic.py\u001b[0m in \u001b[0;36m__getattr__\u001b[0;34m(self, name)\u001b[0m\n\u001b[1;32m   5485\u001b[0m         ):\n\u001b[1;32m   5486\u001b[0m             \u001b[0;32mreturn\u001b[0m \u001b[0mself\u001b[0m\u001b[0;34m[\u001b[0m\u001b[0mname\u001b[0m\u001b[0;34m]\u001b[0m\u001b[0;34m\u001b[0m\u001b[0;34m\u001b[0m\u001b[0m\n\u001b[0;32m-> 5487\u001b[0;31m         \u001b[0;32mreturn\u001b[0m \u001b[0mobject\u001b[0m\u001b[0;34m.\u001b[0m\u001b[0m__getattribute__\u001b[0m\u001b[0;34m(\u001b[0m\u001b[0mself\u001b[0m\u001b[0;34m,\u001b[0m \u001b[0mname\u001b[0m\u001b[0;34m)\u001b[0m\u001b[0;34m\u001b[0m\u001b[0;34m\u001b[0m\u001b[0m\n\u001b[0m\u001b[1;32m   5488\u001b[0m \u001b[0;34m\u001b[0m\u001b[0m\n\u001b[1;32m   5489\u001b[0m     \u001b[0;32mdef\u001b[0m \u001b[0m__setattr__\u001b[0m\u001b[0;34m(\u001b[0m\u001b[0mself\u001b[0m\u001b[0;34m,\u001b[0m \u001b[0mname\u001b[0m\u001b[0;34m:\u001b[0m \u001b[0mstr\u001b[0m\u001b[0;34m,\u001b[0m \u001b[0mvalue\u001b[0m\u001b[0;34m)\u001b[0m \u001b[0;34m->\u001b[0m \u001b[0;32mNone\u001b[0m\u001b[0;34m:\u001b[0m\u001b[0;34m\u001b[0m\u001b[0;34m\u001b[0m\u001b[0m\n",
            "\u001b[0;31mAttributeError\u001b[0m: 'DataFrame' object has no attribute 'ImageID'"
          ]
        }
      ],
      "source": [
        "submission = test_df\n",
        "# image_dir = os.path.join(test_dir, 'images')\n",
        "image_dir = test_dir\n",
        "\n",
        "# Test Dataset 클래스 객체를 생성하고 DataLoader를 만듭니다.\n",
        "image_paths = [os.path.join(image_dir, img_id) for img_id in submission.ImageID]\n",
        "transform = transforms.Compose([\n",
        "    # transforms.CenterCrop((320, 320)),\n",
        "    transforms.Resize((256, 256), Image.BILINEAR),\n",
        "    transforms.ToTensor(),\n",
        "    transforms.Normalize(mean=(0.5, 0.5, 0.5), std=(0.2, 0.2, 0.2)),\n",
        "])\n",
        "dataset = TestDataset(image_paths, transform)\n",
        "\n",
        "loader = DataLoader(\n",
        "    dataset,\n",
        "    shuffle=False,\n",
        "    num_workers=1\n",
        ")\n",
        "\n",
        "# # 모델을 정의합니다. (학습한 모델이 있다면 torch.load로 모델을 불러주세요!)\n",
        "# device = torch.device('cuda')\n",
        "# model = MyModel(num_classes=18).to(device)\n",
        "# model.eval()\n",
        "\n",
        "# 모델이 테스트 데이터셋을 예측하고 결과를 저장합니다.\n",
        "all_predictions = []\n",
        "for images in loader:\n",
        "    with torch.no_grad():\n",
        "        images = images.to(device)\n",
        "        pred = model(images)\n",
        "        pred = pred.argmax(dim=-1)\n",
        "        all_predictions.extend(pred.cpu().numpy())\n",
        "submission['predict'] = all_predictions\n",
        "\n",
        "# 제출할 파일을 저장합니다.\n",
        "submission.to_csv(os.path.join(test_dir, 'submission.csv'), index=False)\n",
        "print('test inference is done!')"
      ]
    },
    {
      "cell_type": "code",
      "source": [],
      "metadata": {
        "id": "cVQaesizPUg1"
      },
      "id": "cVQaesizPUg1",
      "execution_count": null,
      "outputs": []
    }
  ],
  "metadata": {
    "kernelspec": {
      "display_name": "Python 3",
      "language": "python",
      "name": "python3"
    },
    "language_info": {
      "codemirror_mode": {
        "name": "ipython",
        "version": 3
      },
      "file_extension": ".py",
      "mimetype": "text/x-python",
      "name": "python",
      "nbconvert_exporter": "python",
      "pygments_lexer": "ipython3",
      "version": "3.9.7"
    },
    "vscode": {
      "interpreter": {
        "hash": "10e9d502117b1f72db133d4d6a83a031aab29fc749fbc2a93fa748c0eaca5401"
      }
    },
    "colab": {
      "provenance": [],
      "include_colab_link": true
    },
    "accelerator": "GPU",
    "gpuClass": "standard",
    "widgets": {
      "application/vnd.jupyter.widget-state+json": {
        "53227f1fb18e40328180e97092695337": {
          "model_module": "@jupyter-widgets/controls",
          "model_name": "HBoxModel",
          "model_module_version": "1.5.0",
          "state": {
            "_dom_classes": [],
            "_model_module": "@jupyter-widgets/controls",
            "_model_module_version": "1.5.0",
            "_model_name": "HBoxModel",
            "_view_count": null,
            "_view_module": "@jupyter-widgets/controls",
            "_view_module_version": "1.5.0",
            "_view_name": "HBoxView",
            "box_style": "",
            "children": [
              "IPY_MODEL_38f7ffc456304ef79c7b6439c0d46b44",
              "IPY_MODEL_e4ee1c7f76d54f6286a4e03798a72483",
              "IPY_MODEL_dc7ac5000958469abdaf08af50a74d32"
            ],
            "layout": "IPY_MODEL_f84abee7b95d4dfeb5f46519be47fb02"
          }
        },
        "38f7ffc456304ef79c7b6439c0d46b44": {
          "model_module": "@jupyter-widgets/controls",
          "model_name": "HTMLModel",
          "model_module_version": "1.5.0",
          "state": {
            "_dom_classes": [],
            "_model_module": "@jupyter-widgets/controls",
            "_model_module_version": "1.5.0",
            "_model_name": "HTMLModel",
            "_view_count": null,
            "_view_module": "@jupyter-widgets/controls",
            "_view_module_version": "1.5.0",
            "_view_name": "HTMLView",
            "description": "",
            "description_tooltip": null,
            "layout": "IPY_MODEL_defc7def09f64a43b0dfc88d9b91a7be",
            "placeholder": "​",
            "style": "IPY_MODEL_88dd5dc1e1064d15965cd6fc7efac039",
            "value": "100%"
          }
        },
        "e4ee1c7f76d54f6286a4e03798a72483": {
          "model_module": "@jupyter-widgets/controls",
          "model_name": "FloatProgressModel",
          "model_module_version": "1.5.0",
          "state": {
            "_dom_classes": [],
            "_model_module": "@jupyter-widgets/controls",
            "_model_module_version": "1.5.0",
            "_model_name": "FloatProgressModel",
            "_view_count": null,
            "_view_module": "@jupyter-widgets/controls",
            "_view_module_version": "1.5.0",
            "_view_name": "ProgressView",
            "bar_style": "success",
            "description": "",
            "description_tooltip": null,
            "layout": "IPY_MODEL_351bad999a7947ff80afcac82a6ce841",
            "max": 46830571,
            "min": 0,
            "orientation": "horizontal",
            "style": "IPY_MODEL_e2c70cab20c24196800fe25460a3c07c",
            "value": 46830571
          }
        },
        "dc7ac5000958469abdaf08af50a74d32": {
          "model_module": "@jupyter-widgets/controls",
          "model_name": "HTMLModel",
          "model_module_version": "1.5.0",
          "state": {
            "_dom_classes": [],
            "_model_module": "@jupyter-widgets/controls",
            "_model_module_version": "1.5.0",
            "_model_name": "HTMLModel",
            "_view_count": null,
            "_view_module": "@jupyter-widgets/controls",
            "_view_module_version": "1.5.0",
            "_view_name": "HTMLView",
            "description": "",
            "description_tooltip": null,
            "layout": "IPY_MODEL_e9f6b2ec32d54d9bb618b87444fcd949",
            "placeholder": "​",
            "style": "IPY_MODEL_1ef215e8cdf84de9950842c8a5694a81",
            "value": " 44.7M/44.7M [00:00&lt;00:00, 203MB/s]"
          }
        },
        "f84abee7b95d4dfeb5f46519be47fb02": {
          "model_module": "@jupyter-widgets/base",
          "model_name": "LayoutModel",
          "model_module_version": "1.2.0",
          "state": {
            "_model_module": "@jupyter-widgets/base",
            "_model_module_version": "1.2.0",
            "_model_name": "LayoutModel",
            "_view_count": null,
            "_view_module": "@jupyter-widgets/base",
            "_view_module_version": "1.2.0",
            "_view_name": "LayoutView",
            "align_content": null,
            "align_items": null,
            "align_self": null,
            "border": null,
            "bottom": null,
            "display": null,
            "flex": null,
            "flex_flow": null,
            "grid_area": null,
            "grid_auto_columns": null,
            "grid_auto_flow": null,
            "grid_auto_rows": null,
            "grid_column": null,
            "grid_gap": null,
            "grid_row": null,
            "grid_template_areas": null,
            "grid_template_columns": null,
            "grid_template_rows": null,
            "height": null,
            "justify_content": null,
            "justify_items": null,
            "left": null,
            "margin": null,
            "max_height": null,
            "max_width": null,
            "min_height": null,
            "min_width": null,
            "object_fit": null,
            "object_position": null,
            "order": null,
            "overflow": null,
            "overflow_x": null,
            "overflow_y": null,
            "padding": null,
            "right": null,
            "top": null,
            "visibility": null,
            "width": null
          }
        },
        "defc7def09f64a43b0dfc88d9b91a7be": {
          "model_module": "@jupyter-widgets/base",
          "model_name": "LayoutModel",
          "model_module_version": "1.2.0",
          "state": {
            "_model_module": "@jupyter-widgets/base",
            "_model_module_version": "1.2.0",
            "_model_name": "LayoutModel",
            "_view_count": null,
            "_view_module": "@jupyter-widgets/base",
            "_view_module_version": "1.2.0",
            "_view_name": "LayoutView",
            "align_content": null,
            "align_items": null,
            "align_self": null,
            "border": null,
            "bottom": null,
            "display": null,
            "flex": null,
            "flex_flow": null,
            "grid_area": null,
            "grid_auto_columns": null,
            "grid_auto_flow": null,
            "grid_auto_rows": null,
            "grid_column": null,
            "grid_gap": null,
            "grid_row": null,
            "grid_template_areas": null,
            "grid_template_columns": null,
            "grid_template_rows": null,
            "height": null,
            "justify_content": null,
            "justify_items": null,
            "left": null,
            "margin": null,
            "max_height": null,
            "max_width": null,
            "min_height": null,
            "min_width": null,
            "object_fit": null,
            "object_position": null,
            "order": null,
            "overflow": null,
            "overflow_x": null,
            "overflow_y": null,
            "padding": null,
            "right": null,
            "top": null,
            "visibility": null,
            "width": null
          }
        },
        "88dd5dc1e1064d15965cd6fc7efac039": {
          "model_module": "@jupyter-widgets/controls",
          "model_name": "DescriptionStyleModel",
          "model_module_version": "1.5.0",
          "state": {
            "_model_module": "@jupyter-widgets/controls",
            "_model_module_version": "1.5.0",
            "_model_name": "DescriptionStyleModel",
            "_view_count": null,
            "_view_module": "@jupyter-widgets/base",
            "_view_module_version": "1.2.0",
            "_view_name": "StyleView",
            "description_width": ""
          }
        },
        "351bad999a7947ff80afcac82a6ce841": {
          "model_module": "@jupyter-widgets/base",
          "model_name": "LayoutModel",
          "model_module_version": "1.2.0",
          "state": {
            "_model_module": "@jupyter-widgets/base",
            "_model_module_version": "1.2.0",
            "_model_name": "LayoutModel",
            "_view_count": null,
            "_view_module": "@jupyter-widgets/base",
            "_view_module_version": "1.2.0",
            "_view_name": "LayoutView",
            "align_content": null,
            "align_items": null,
            "align_self": null,
            "border": null,
            "bottom": null,
            "display": null,
            "flex": null,
            "flex_flow": null,
            "grid_area": null,
            "grid_auto_columns": null,
            "grid_auto_flow": null,
            "grid_auto_rows": null,
            "grid_column": null,
            "grid_gap": null,
            "grid_row": null,
            "grid_template_areas": null,
            "grid_template_columns": null,
            "grid_template_rows": null,
            "height": null,
            "justify_content": null,
            "justify_items": null,
            "left": null,
            "margin": null,
            "max_height": null,
            "max_width": null,
            "min_height": null,
            "min_width": null,
            "object_fit": null,
            "object_position": null,
            "order": null,
            "overflow": null,
            "overflow_x": null,
            "overflow_y": null,
            "padding": null,
            "right": null,
            "top": null,
            "visibility": null,
            "width": null
          }
        },
        "e2c70cab20c24196800fe25460a3c07c": {
          "model_module": "@jupyter-widgets/controls",
          "model_name": "ProgressStyleModel",
          "model_module_version": "1.5.0",
          "state": {
            "_model_module": "@jupyter-widgets/controls",
            "_model_module_version": "1.5.0",
            "_model_name": "ProgressStyleModel",
            "_view_count": null,
            "_view_module": "@jupyter-widgets/base",
            "_view_module_version": "1.2.0",
            "_view_name": "StyleView",
            "bar_color": null,
            "description_width": ""
          }
        },
        "e9f6b2ec32d54d9bb618b87444fcd949": {
          "model_module": "@jupyter-widgets/base",
          "model_name": "LayoutModel",
          "model_module_version": "1.2.0",
          "state": {
            "_model_module": "@jupyter-widgets/base",
            "_model_module_version": "1.2.0",
            "_model_name": "LayoutModel",
            "_view_count": null,
            "_view_module": "@jupyter-widgets/base",
            "_view_module_version": "1.2.0",
            "_view_name": "LayoutView",
            "align_content": null,
            "align_items": null,
            "align_self": null,
            "border": null,
            "bottom": null,
            "display": null,
            "flex": null,
            "flex_flow": null,
            "grid_area": null,
            "grid_auto_columns": null,
            "grid_auto_flow": null,
            "grid_auto_rows": null,
            "grid_column": null,
            "grid_gap": null,
            "grid_row": null,
            "grid_template_areas": null,
            "grid_template_columns": null,
            "grid_template_rows": null,
            "height": null,
            "justify_content": null,
            "justify_items": null,
            "left": null,
            "margin": null,
            "max_height": null,
            "max_width": null,
            "min_height": null,
            "min_width": null,
            "object_fit": null,
            "object_position": null,
            "order": null,
            "overflow": null,
            "overflow_x": null,
            "overflow_y": null,
            "padding": null,
            "right": null,
            "top": null,
            "visibility": null,
            "width": null
          }
        },
        "1ef215e8cdf84de9950842c8a5694a81": {
          "model_module": "@jupyter-widgets/controls",
          "model_name": "DescriptionStyleModel",
          "model_module_version": "1.5.0",
          "state": {
            "_model_module": "@jupyter-widgets/controls",
            "_model_module_version": "1.5.0",
            "_model_name": "DescriptionStyleModel",
            "_view_count": null,
            "_view_module": "@jupyter-widgets/base",
            "_view_module_version": "1.2.0",
            "_view_name": "StyleView",
            "description_width": ""
          }
        }
      }
    }
  },
  "nbformat": 4,
  "nbformat_minor": 5
}