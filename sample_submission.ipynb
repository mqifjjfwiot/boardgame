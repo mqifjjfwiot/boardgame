{
  "cells": [
    {
      "cell_type": "markdown",
      "metadata": {
        "id": "view-in-github",
        "colab_type": "text"
      },
      "source": [
        "<a href=\"https://colab.research.google.com/github/mqifjjfwiot/boardgame/blob/main/sample_submission.ipynb\" target=\"_parent\"><img src=\"https://colab.research.google.com/assets/colab-badge.svg\" alt=\"Open In Colab\"/></a>"
      ]
    },
    {
      "cell_type": "markdown",
      "id": "about-heavy",
      "metadata": {
        "id": "about-heavy"
      },
      "source": [
        "## 0. Libarary 불러오기 및 경로설정"
      ]
    },
    {
      "cell_type": "code",
      "execution_count": null,
      "id": "tZeU4W1J1Uzu",
      "metadata": {
        "id": "tZeU4W1J1Uzu"
      },
      "outputs": [],
      "source": [
        "from google.colab import drive\n",
        "drive.mount('/content/drive')"
      ]
    },
    {
      "cell_type": "code",
      "execution_count": null,
      "id": "cubic-scoop",
      "metadata": {
        "id": "cubic-scoop"
      },
      "outputs": [],
      "source": [
        "import os\n",
        "import pandas as pd\n",
        "from PIL import Image\n",
        "\n",
        "import torch\n",
        "import torch.nn as nn\n",
        "import torch.nn.functional as F\n",
        "from torch.utils.data import Dataset, DataLoader\n",
        "\n",
        "from torchvision import transforms\n",
        "from torchvision.transforms import Resize, ToTensor, Normalize\n",
        "\n",
        "from tqdm import tqdm\n",
        "import torchvision"
      ]
    },
    {
      "cell_type": "code",
      "execution_count": null,
      "id": "built-elevation",
      "metadata": {
        "id": "built-elevation"
      },
      "outputs": [],
      "source": [
        "# 테스트 데이터셋 폴더 경로를 지정해주세요.\n",
        "model_save_path = \"/content/drive/MyDrive/Colab Notebooks/보드게임/model\"\n",
        "test_dir = \"/content/drive/MyDrive/Colab Notebooks/보드게임/test\"\n",
        "save_dir = \"/content/drive/MyDrive/Colab Notebooks/보드게임\"\n",
        "os.makedirs(model_save_path, exist_ok=True)\n",
        "os.makedirs(test_dir, exist_ok=True)\n",
        "os.makedirs(save_dir, exist_ok=True)"
      ]
    },
    {
      "cell_type": "markdown",
      "id": "quiet-organizer",
      "metadata": {
        "id": "quiet-organizer"
      },
      "source": [
        "## 1. Model 정의"
      ]
    },
    {
      "cell_type": "markdown",
      "id": "domestic-channels",
      "metadata": {
        "id": "domestic-channels"
      },
      "source": [
        "## 2. Test Dataset 정의"
      ]
    },
    {
      "cell_type": "code",
      "execution_count": null,
      "id": "extensive-north",
      "metadata": {
        "id": "extensive-north"
      },
      "outputs": [],
      "source": [
        "class TestDataset(Dataset):\n",
        "    def __init__(self, img_paths, transform):\n",
        "        self.img_paths = img_paths\n",
        "        self.transform = transform\n",
        "\n",
        "    def __getitem__(self, index):\n",
        "        image = Image.open(self.img_paths[index])\n",
        "\n",
        "        if self.transform:\n",
        "            image = self.transform(image)\n",
        "        return image\n",
        "\n",
        "    def __len__(self):\n",
        "        return len(self.img_paths)"
      ]
    },
    {
      "cell_type": "code",
      "execution_count": null,
      "id": "NcxuJnUq1g9_",
      "metadata": {
        "id": "NcxuJnUq1g9_"
      },
      "outputs": [],
      "source": [
        "def make_test_with_label(test_dir, predict_col=True):\n",
        "  test_dict = {}\n",
        "  test_dict['path'] = []\n",
        "  test_dict['label'] = []\n",
        "  columns = [\"path\", \"label\"]\n",
        "  if predict_col:\n",
        "    test_dict['predict'] = []\n",
        "    columns.append(\"predict\")\n",
        "\n",
        "  for idx, card in enumerate(os.listdir(test_dir)):\n",
        "    card_names = card.split(\".\")\n",
        "    if card_names[-1] != 'jpg':\n",
        "      continue\n",
        "    label = card_names[-2].split(\"label\")[-1]\n",
        "    card_path = os.path.join(test_dir, card)\n",
        "    test_dict['path'].append(card_path)\n",
        "    test_dict['label'].append(int(label))\n",
        "    if predict_col:\n",
        "      test_dict['predict'].append(\"\")\n",
        "\n",
        "  return test_dict, columns"
      ]
    },
    {
      "cell_type": "code",
      "execution_count": null,
      "id": "_ptuJNB01hAX",
      "metadata": {
        "id": "_ptuJNB01hAX"
      },
      "outputs": [],
      "source": [
        "def make_test_without_label(test_dir, predict_col=True):\n",
        "  test_dict = {}\n",
        "  test_dict['path'] = []\n",
        "  columns = [\"path\"]\n",
        "  if predict_col:\n",
        "    test_dict['predict'] = []\n",
        "    columns.append(\"predict\")\n",
        "\n",
        "  for idx, card in enumerate(os.listdir(test_dir)):\n",
        "    card_names = card.split(\".\")\n",
        "    if card_names[-1] != 'jpg':\n",
        "      continue\n",
        "    card_path = os.path.join(test_dir, card)\n",
        "    test_dict['path'].append(card_path)\n",
        "    if predict_col:\n",
        "      test_dict['predict'].append(\"\")\n",
        "\n",
        "  return test_dict, columns\n"
      ]
    },
    {
      "cell_type": "code",
      "execution_count": null,
      "id": "b6RwbOEV1iQ1",
      "metadata": {
        "id": "b6RwbOEV1iQ1"
      },
      "outputs": [],
      "source": [
        "test_dict, test_columns = make_test_with_label(test_dir)\n",
        "print(len(test_dict[\"path\"]), len(test_dict[\"label\"]))"
      ]
    },
    {
      "cell_type": "code",
      "execution_count": null,
      "id": "T7XU3gOA1lan",
      "metadata": {
        "id": "T7XU3gOA1lan"
      },
      "outputs": [],
      "source": [
        "test_df = pd.DataFrame(test_dict, columns=test_columns)"
      ]
    },
    {
      "cell_type": "code",
      "execution_count": null,
      "id": "rQxxxW9p1lcb",
      "metadata": {
        "id": "rQxxxW9p1lcb"
      },
      "outputs": [],
      "source": [
        "test_df.head()"
      ]
    },
    {
      "cell_type": "code",
      "execution_count": null,
      "id": "_Hc_szxw1lfC",
      "metadata": {
        "id": "_Hc_szxw1lfC"
      },
      "outputs": [],
      "source": [
        "submission = test_df.copy()\n",
        "transform = transforms.Compose([\n",
        "    # transforms.CenterCrop((320, 256)),\n",
        "    transforms.Resize((256, 256), Image.BILINEAR),\n",
        "    transforms.ToTensor(),\n",
        "    transforms.Normalize(mean=[0.485, 0.456, 0.406], std=[0.229, 0.224, 0.225]),\n",
        "])"
      ]
    },
    {
      "cell_type": "code",
      "execution_count": null,
      "id": "xeUXD0OB1py6",
      "metadata": {
        "id": "xeUXD0OB1py6"
      },
      "outputs": [],
      "source": [
        "BATCH_SIZE = 16"
      ]
    },
    {
      "cell_type": "code",
      "execution_count": null,
      "id": "--Zbot3d1q-K",
      "metadata": {
        "id": "--Zbot3d1q-K"
      },
      "outputs": [],
      "source": [
        "dataset = TestDataset(test_df, transform)\n",
        "\n",
        "loader = DataLoader(\n",
        "    dataset,\n",
        "    shuffle=False,\n",
        "    batch_size=BATCH_SIZE, \n",
        "    num_workers=1\n",
        ")"
      ]
    },
    {
      "cell_type": "code",
      "execution_count": null,
      "id": "UEDog6nU1thi",
      "metadata": {
        "id": "UEDog6nU1thi"
      },
      "outputs": [],
      "source": [
        "device = torch.device(\"cuda:0\" if torch.cuda.is_available() else \"cpu\")\n",
        "device"
      ]
    },
    {
      "cell_type": "code",
      "execution_count": null,
      "id": "fn_MS6eU1uxW",
      "metadata": {
        "id": "fn_MS6eU1uxW"
      },
      "outputs": [],
      "source": [
        "OUTPUT = 3\n",
        "model = torchvision.models.resnet18()\n",
        "model.fc = torch.nn.Linear(in_features=512, out_features=OUTPUT, bias=True)\n",
        "model.load_state_dict(torch.load(os.path.join(model_save_path, f\"5.pt\")))"
      ]
    },
    {
      "cell_type": "code",
      "execution_count": null,
      "id": "WMzNIhO71uzf",
      "metadata": {
        "id": "WMzNIhO71uzf"
      },
      "outputs": [],
      "source": [
        "model.eval()\n",
        "\n",
        "# 모델이 테스트 데이터셋을 예측하고 결과를 저장\n",
        "all_predictions = []\n",
        "for (images, label) in tqdm(loader):\n",
        "    with torch.no_grad():\n",
        "        # pred = model.forward(images.to(device))\n",
        "        # _, y_pred = torch.max(pred, 1)\n",
        "        # all_predictions.extend(y_pred.cpu().numpy())\n",
        "        \n",
        "        images = images.to(device)\n",
        "        pred = model(images)\n",
        "        pred = pred.argmax(dim=-1)\n",
        "        all_predictions.extend(pred.cpu().numpy())"
      ]
    },
    {
      "cell_type": "markdown",
      "id": "continued-feelings",
      "metadata": {
        "id": "continued-feelings"
      },
      "source": [
        "## 3. Inference"
      ]
    },
    {
      "cell_type": "code",
      "execution_count": null,
      "id": "coral-shade",
      "metadata": {
        "id": "coral-shade",
        "outputId": "d7dfb231-8251-4106-e8e8-508e699dd97c"
      },
      "outputs": [
        {
          "name": "stdout",
          "output_type": "stream",
          "text": [
            "test inference is done!\n"
          ]
        }
      ],
      "source": [
        "print(len(all_predictions))"
      ]
    },
    {
      "cell_type": "code",
      "execution_count": null,
      "id": "verbal-sample",
      "metadata": {
        "id": "verbal-sample"
      },
      "outputs": [],
      "source": [
        "submission['predict'] = all_predictions\n",
        "\n",
        "# 예측 결과 파일 저장\n",
        "submission.to_csv(os.path.join(save_dir, 'submission.csv'), index=False, encoding=\"utf-8-sig\")\n",
        "print('test inference is done!')"
      ]
    },
    {
      "cell_type": "code",
      "execution_count": null,
      "id": "zmq99RQY14el",
      "metadata": {
        "id": "zmq99RQY14el"
      },
      "outputs": [],
      "source": [
        "submission.head()"
      ]
    }
  ],
  "metadata": {
    "colab": {
      "provenance": [],
      "include_colab_link": true
    },
    "kernelspec": {
      "display_name": "Python 3",
      "language": "python",
      "name": "python3"
    },
    "language_info": {
      "codemirror_mode": {
        "name": "ipython",
        "version": 3
      },
      "file_extension": ".py",
      "mimetype": "text/x-python",
      "name": "python",
      "nbconvert_exporter": "python",
      "pygments_lexer": "ipython3",
      "version": "3.8.5"
    }
  },
  "nbformat": 4,
  "nbformat_minor": 5
}