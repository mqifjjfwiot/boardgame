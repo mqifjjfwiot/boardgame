{
  "cells": [
    {
      "cell_type": "markdown",
      "metadata": {
        "id": "view-in-github",
        "colab_type": "text"
      },
      "source": [
        "<a href=\"https://colab.research.google.com/github/mqifjjfwiot/boardgame/blob/main/Untitled_v2.ipynb\" target=\"_parent\"><img src=\"https://colab.research.google.com/assets/colab-badge.svg\" alt=\"Open In Colab\"/></a>"
      ]
    },
    {
      "cell_type": "code",
      "execution_count": null,
      "id": "86248a8d-d4f6-4567-b25f-e8166265a5a5",
      "metadata": {
        "id": "86248a8d-d4f6-4567-b25f-e8166265a5a5"
      },
      "outputs": [],
      "source": [
        "# !pip install -r './requirements.txt'"
      ]
    },
    {
      "cell_type": "code",
      "source": [
        "from google.colab import drive\n",
        "drive.mount('/content/drive')"
      ],
      "metadata": {
        "colab": {
          "base_uri": "https://localhost:8080/"
        },
        "id": "a5y0xB3IS7nY",
        "outputId": "925c78f8-eb2e-40cd-b13f-950b7bfc5b04"
      },
      "id": "a5y0xB3IS7nY",
      "execution_count": null,
      "outputs": [
        {
          "output_type": "stream",
          "name": "stdout",
          "text": [
            "Mounted at /content/drive\n"
          ]
        }
      ]
    },
    {
      "cell_type": "code",
      "execution_count": null,
      "id": "27bf9d97-c710-4981-941c-a3b88260b4af",
      "metadata": {
        "id": "27bf9d97-c710-4981-941c-a3b88260b4af"
      },
      "outputs": [],
      "source": [
        "import pandas as pd\n",
        "import os\n",
        "from pathlib import Path\n",
        "# from matplotlib import pyplot as plt\n",
        "from PIL import Image\n",
        "import numpy as np\n",
        "#!pip install seaborn\n",
        "import seaborn as sns\n",
        "import shutil\n",
        "import torch\n",
        "import torchvision\n",
        "import torch.nn as nn\n",
        "import torch.optim as optim\n",
        "import torch.nn.functional as F\n",
        "from torchvision import transforms, utils\n",
        "from torch.utils.data import Dataset, DataLoader, random_split"
      ]
    },
    {
      "cell_type": "code",
      "execution_count": null,
      "id": "1762727e",
      "metadata": {
        "colab": {
          "base_uri": "https://localhost:8080/"
        },
        "id": "1762727e",
        "outputId": "cc344659-7ff2-4ba5-f98e-0fc606ee75e2"
      },
      "outputs": [
        {
          "output_type": "stream",
          "name": "stdout",
          "text": [
            "/content\n"
          ]
        }
      ],
      "source": [
        "!pwd"
      ]
    },
    {
      "cell_type": "code",
      "execution_count": null,
      "id": "a3fe06f6",
      "metadata": {
        "id": "a3fe06f6"
      },
      "outputs": [],
      "source": [
        "data_dir= \"/content/drive/MyDrive/Colab Notebooks/Boardgame/data\"\n",
        "test_dir = \"/content/drive/MyDrive/Colab Notebooks/Boardgame/test\""
      ]
    },
    {
      "cell_type": "code",
      "execution_count": null,
      "id": "a5989580",
      "metadata": {
        "colab": {
          "base_uri": "https://localhost:8080/"
        },
        "id": "a5989580",
        "outputId": "059ba3c0-9f8a-4e7e-a4fe-d315e99e826c"
      },
      "outputs": [
        {
          "output_type": "execute_result",
          "data": {
            "text/plain": [
              "['병사들의 귀환', '포인트샐러드', '웰컴백투더던전']"
            ]
          },
          "metadata": {},
          "execution_count": 66
        }
      ],
      "source": [
        "data_list = os.listdir(data_dir)\n",
        "data_list"
      ]
    },
    {
      "cell_type": "code",
      "execution_count": null,
      "id": "b7b05b92",
      "metadata": {
        "id": "b7b05b92"
      },
      "outputs": [],
      "source": [
        "# for idx1, board_game in enumerate(os.listdir(data_dir)):\n",
        "#     if board_game == \"images\":\n",
        "#         continue\n",
        "#     for card_folder in os.listdir(os.path.join(data_dir, board_game)):\n",
        "#         for idx2, card in enumerate(os.listdir(os.path.join(data_dir, board_game, card_folder))):\n",
        "#             card_origin_path = os.path.join(data_dir, board_game, card_folder, card)\n",
        "#             card_new_path = os.path.join(data_dir, board_game, card_folder, f\"{board_game}_{card_folder}_{idx2}_label{idx1}.jpg\")\n",
        "#             os.rename(card_origin_path, card_new_path)"
      ]
    },
    {
      "cell_type": "code",
      "execution_count": null,
      "id": "0e94a384",
      "metadata": {
        "id": "0e94a384"
      },
      "outputs": [],
      "source": [
        "# for idx1, board_game in enumerate(os.listdir(data_dir)):\n",
        "#     if board_game == \"images\":\n",
        "#         continue\n",
        "#     for card_folder in os.listdir(os.path.join(data_dir, board_game)):\n",
        "#         for idx2, card in enumerate(os.listdir(os.path.join(data_dir, board_game, card_folder))):\n",
        "#             board_name, card_type, number, label = card.split(\"_\")\n",
        "#             card_origin_path = os.path.join(data_dir, board_game, card_folder, card)\n",
        "#             if number == \"0\" or number == \"7\":\n",
        "#                 card_new_path = os.path.join(test_dir, card)\n",
        "#                 shutil.move(card_origin_path, card_new_path)\n"
      ]
    },
    {
      "cell_type": "code",
      "execution_count": null,
      "id": "ad5969ee",
      "metadata": {
        "id": "ad5969ee"
      },
      "outputs": [],
      "source": [
        "# for idx1, card_name in enumerate(os.listdir(test_dir)):\n",
        "#     card_names = card_name.split(\".\")\n",
        "#     if card_names[-2] == \"jpg\":\n",
        "#         card_origin_path = os.path.join(test_dir, card_name)\n",
        "#         card_new_path = os.path.join(test_dir, \".\".join(card_names[:-1]))\n",
        "#         os.rename(card_origin_path, card_new_path)"
      ]
    },
    {
      "cell_type": "code",
      "execution_count": null,
      "id": "9ccddcd0",
      "metadata": {
        "id": "9ccddcd0"
      },
      "outputs": [],
      "source": [
        "# for idx1, board_game in enumerate(os.listdir(data_dir)):\n",
        "#     for card_folder in os.listdir(os.path.join(data_dir, board_game)):\n",
        "#         for idx2, card in enumerate(os.listdir(os.path.join(data_dir, board_game, card_folder))):\n",
        "#             card_origin_path = os.path.join(data_dir, board_game, card_folder, card)\n",
        "#             card_new_path = os.path.join(data_dir, \"images\", f\"{card}\")\n",
        "#             shutil.copy(card_origin_path, card_new_path)"
      ]
    },
    {
      "cell_type": "code",
      "execution_count": null,
      "id": "4b4b9a5a",
      "metadata": {
        "id": "4b4b9a5a"
      },
      "outputs": [],
      "source": [
        "data_dict = {}\n",
        "data_dict['name'] = []\n",
        "data_dict['board_game'] = []\n",
        "data_dict['card'] = []\n",
        "data_dict['label'] = []\n",
        "data_dict['path'] = []"
      ]
    },
    {
      "cell_type": "code",
      "execution_count": null,
      "id": "07d5b5e6",
      "metadata": {
        "id": "07d5b5e6"
      },
      "outputs": [],
      "source": [
        "for idx1, board_game in enumerate(os.listdir(data_dir)):\n",
        "    if board_game == \"images\":\n",
        "        continue\n",
        "    for card_folder in os.listdir(os.path.join(data_dir, board_game)):\n",
        "        for idx2, card in enumerate(os.listdir(os.path.join(data_dir, board_game, card_folder))):\n",
        "            card_path = os.path.join(data_dir, board_game, card_folder, card)\n",
        "\n",
        "            data_dict['name'].append(card)\n",
        "            data_dict['board_game'].append(board_game)\n",
        "            data_dict['card'].append(card_folder)\n",
        "            data_dict['label'].append(idx1)\n",
        "            data_dict['path'].append(card_path)\n",
        "            # card_new_path = os.path.join(data_dir, board_game, card_folder, f\"{board_game}_{card_folder}_{idx2}_label{idx1}.jpg\")"
      ]
    },
    {
      "cell_type": "code",
      "execution_count": null,
      "id": "2372ce0d",
      "metadata": {
        "id": "2372ce0d"
      },
      "outputs": [],
      "source": [
        "train_df = pd.DataFrame(data_dict, columns = ['name', 'board_game', 'card', 'label', 'path'])"
      ]
    },
    {
      "cell_type": "code",
      "execution_count": null,
      "id": "882df3f0",
      "metadata": {
        "colab": {
          "base_uri": "https://localhost:8080/",
          "height": 424
        },
        "id": "882df3f0",
        "outputId": "1735e1c4-2959-4b88-89bf-dd986ded1e33"
      },
      "outputs": [
        {
          "output_type": "execute_result",
          "data": {
            "text/plain": [
              "                                          name           board_game  \\\n",
              "0      병사들의 귀환_말풍선_1_label0.jpg     병사들의 귀환   \n",
              "1      병사들의 귀환_말풍선_2_label0.jpg     병사들의 귀환   \n",
              "2      병사들의 귀환_말풍선_3_label0.jpg     병사들의 귀환   \n",
              "3      병사들의 귀환_말풍선_4_label0.jpg     병사들의 귀환   \n",
              "4      병사들의 귀환_말풍선_5_label0.jpg     병사들의 귀환   \n",
              "...                                        ...                  ...   \n",
              "1168  웰컴백투더던전_카드10_15_label2.jpg  웰컴백투더던전   \n",
              "1169  웰컴백투더던전_카드10_16_label2.jpg  웰컴백투더던전   \n",
              "1170  웰컴백투더던전_카드10_17_label2.jpg  웰컴백투더던전   \n",
              "1171  웰컴백투더던전_카드10_18_label2.jpg  웰컴백투더던전   \n",
              "1172  웰컴백투더던전_카드10_19_label2.jpg  웰컴백투더던전   \n",
              "\n",
              "           card  label                                               path  \n",
              "0     말풍선      0  /content/drive/MyDrive/Colab Notebooks/Boardga...  \n",
              "1     말풍선      0  /content/drive/MyDrive/Colab Notebooks/Boardga...  \n",
              "2     말풍선      0  /content/drive/MyDrive/Colab Notebooks/Boardga...  \n",
              "3     말풍선      0  /content/drive/MyDrive/Colab Notebooks/Boardga...  \n",
              "4     말풍선      0  /content/drive/MyDrive/Colab Notebooks/Boardga...  \n",
              "...         ...    ...                                                ...  \n",
              "1168     카드10      2  /content/drive/MyDrive/Colab Notebooks/Boardga...  \n",
              "1169     카드10      2  /content/drive/MyDrive/Colab Notebooks/Boardga...  \n",
              "1170     카드10      2  /content/drive/MyDrive/Colab Notebooks/Boardga...  \n",
              "1171     카드10      2  /content/drive/MyDrive/Colab Notebooks/Boardga...  \n",
              "1172     카드10      2  /content/drive/MyDrive/Colab Notebooks/Boardga...  \n",
              "\n",
              "[1173 rows x 5 columns]"
            ],
            "text/html": [
              "\n",
              "  <div id=\"df-2f572a0c-9476-41ee-9325-bac2e85f3173\">\n",
              "    <div class=\"colab-df-container\">\n",
              "      <div>\n",
              "<style scoped>\n",
              "    .dataframe tbody tr th:only-of-type {\n",
              "        vertical-align: middle;\n",
              "    }\n",
              "\n",
              "    .dataframe tbody tr th {\n",
              "        vertical-align: top;\n",
              "    }\n",
              "\n",
              "    .dataframe thead th {\n",
              "        text-align: right;\n",
              "    }\n",
              "</style>\n",
              "<table border=\"1\" class=\"dataframe\">\n",
              "  <thead>\n",
              "    <tr style=\"text-align: right;\">\n",
              "      <th></th>\n",
              "      <th>name</th>\n",
              "      <th>board_game</th>\n",
              "      <th>card</th>\n",
              "      <th>label</th>\n",
              "      <th>path</th>\n",
              "    </tr>\n",
              "  </thead>\n",
              "  <tbody>\n",
              "    <tr>\n",
              "      <th>0</th>\n",
              "      <td>병사들의 귀환_말풍선_1_label0.jpg</td>\n",
              "      <td>병사들의 귀환</td>\n",
              "      <td>말풍선</td>\n",
              "      <td>0</td>\n",
              "      <td>/content/drive/MyDrive/Colab Notebooks/Boardga...</td>\n",
              "    </tr>\n",
              "    <tr>\n",
              "      <th>1</th>\n",
              "      <td>병사들의 귀환_말풍선_2_label0.jpg</td>\n",
              "      <td>병사들의 귀환</td>\n",
              "      <td>말풍선</td>\n",
              "      <td>0</td>\n",
              "      <td>/content/drive/MyDrive/Colab Notebooks/Boardga...</td>\n",
              "    </tr>\n",
              "    <tr>\n",
              "      <th>2</th>\n",
              "      <td>병사들의 귀환_말풍선_3_label0.jpg</td>\n",
              "      <td>병사들의 귀환</td>\n",
              "      <td>말풍선</td>\n",
              "      <td>0</td>\n",
              "      <td>/content/drive/MyDrive/Colab Notebooks/Boardga...</td>\n",
              "    </tr>\n",
              "    <tr>\n",
              "      <th>3</th>\n",
              "      <td>병사들의 귀환_말풍선_4_label0.jpg</td>\n",
              "      <td>병사들의 귀환</td>\n",
              "      <td>말풍선</td>\n",
              "      <td>0</td>\n",
              "      <td>/content/drive/MyDrive/Colab Notebooks/Boardga...</td>\n",
              "    </tr>\n",
              "    <tr>\n",
              "      <th>4</th>\n",
              "      <td>병사들의 귀환_말풍선_5_label0.jpg</td>\n",
              "      <td>병사들의 귀환</td>\n",
              "      <td>말풍선</td>\n",
              "      <td>0</td>\n",
              "      <td>/content/drive/MyDrive/Colab Notebooks/Boardga...</td>\n",
              "    </tr>\n",
              "    <tr>\n",
              "      <th>...</th>\n",
              "      <td>...</td>\n",
              "      <td>...</td>\n",
              "      <td>...</td>\n",
              "      <td>...</td>\n",
              "      <td>...</td>\n",
              "    </tr>\n",
              "    <tr>\n",
              "      <th>1168</th>\n",
              "      <td>웰컴백투더던전_카드10_15_label2.jpg</td>\n",
              "      <td>웰컴백투더던전</td>\n",
              "      <td>카드10</td>\n",
              "      <td>2</td>\n",
              "      <td>/content/drive/MyDrive/Colab Notebooks/Boardga...</td>\n",
              "    </tr>\n",
              "    <tr>\n",
              "      <th>1169</th>\n",
              "      <td>웰컴백투더던전_카드10_16_label2.jpg</td>\n",
              "      <td>웰컴백투더던전</td>\n",
              "      <td>카드10</td>\n",
              "      <td>2</td>\n",
              "      <td>/content/drive/MyDrive/Colab Notebooks/Boardga...</td>\n",
              "    </tr>\n",
              "    <tr>\n",
              "      <th>1170</th>\n",
              "      <td>웰컴백투더던전_카드10_17_label2.jpg</td>\n",
              "      <td>웰컴백투더던전</td>\n",
              "      <td>카드10</td>\n",
              "      <td>2</td>\n",
              "      <td>/content/drive/MyDrive/Colab Notebooks/Boardga...</td>\n",
              "    </tr>\n",
              "    <tr>\n",
              "      <th>1171</th>\n",
              "      <td>웰컴백투더던전_카드10_18_label2.jpg</td>\n",
              "      <td>웰컴백투더던전</td>\n",
              "      <td>카드10</td>\n",
              "      <td>2</td>\n",
              "      <td>/content/drive/MyDrive/Colab Notebooks/Boardga...</td>\n",
              "    </tr>\n",
              "    <tr>\n",
              "      <th>1172</th>\n",
              "      <td>웰컴백투더던전_카드10_19_label2.jpg</td>\n",
              "      <td>웰컴백투더던전</td>\n",
              "      <td>카드10</td>\n",
              "      <td>2</td>\n",
              "      <td>/content/drive/MyDrive/Colab Notebooks/Boardga...</td>\n",
              "    </tr>\n",
              "  </tbody>\n",
              "</table>\n",
              "<p>1173 rows × 5 columns</p>\n",
              "</div>\n",
              "      <button class=\"colab-df-convert\" onclick=\"convertToInteractive('df-2f572a0c-9476-41ee-9325-bac2e85f3173')\"\n",
              "              title=\"Convert this dataframe to an interactive table.\"\n",
              "              style=\"display:none;\">\n",
              "        \n",
              "  <svg xmlns=\"http://www.w3.org/2000/svg\" height=\"24px\"viewBox=\"0 0 24 24\"\n",
              "       width=\"24px\">\n",
              "    <path d=\"M0 0h24v24H0V0z\" fill=\"none\"/>\n",
              "    <path d=\"M18.56 5.44l.94 2.06.94-2.06 2.06-.94-2.06-.94-.94-2.06-.94 2.06-2.06.94zm-11 1L8.5 8.5l.94-2.06 2.06-.94-2.06-.94L8.5 2.5l-.94 2.06-2.06.94zm10 10l.94 2.06.94-2.06 2.06-.94-2.06-.94-.94-2.06-.94 2.06-2.06.94z\"/><path d=\"M17.41 7.96l-1.37-1.37c-.4-.4-.92-.59-1.43-.59-.52 0-1.04.2-1.43.59L10.3 9.45l-7.72 7.72c-.78.78-.78 2.05 0 2.83L4 21.41c.39.39.9.59 1.41.59.51 0 1.02-.2 1.41-.59l7.78-7.78 2.81-2.81c.8-.78.8-2.07 0-2.86zM5.41 20L4 18.59l7.72-7.72 1.47 1.35L5.41 20z\"/>\n",
              "  </svg>\n",
              "      </button>\n",
              "      \n",
              "  <style>\n",
              "    .colab-df-container {\n",
              "      display:flex;\n",
              "      flex-wrap:wrap;\n",
              "      gap: 12px;\n",
              "    }\n",
              "\n",
              "    .colab-df-convert {\n",
              "      background-color: #E8F0FE;\n",
              "      border: none;\n",
              "      border-radius: 50%;\n",
              "      cursor: pointer;\n",
              "      display: none;\n",
              "      fill: #1967D2;\n",
              "      height: 32px;\n",
              "      padding: 0 0 0 0;\n",
              "      width: 32px;\n",
              "    }\n",
              "\n",
              "    .colab-df-convert:hover {\n",
              "      background-color: #E2EBFA;\n",
              "      box-shadow: 0px 1px 2px rgba(60, 64, 67, 0.3), 0px 1px 3px 1px rgba(60, 64, 67, 0.15);\n",
              "      fill: #174EA6;\n",
              "    }\n",
              "\n",
              "    [theme=dark] .colab-df-convert {\n",
              "      background-color: #3B4455;\n",
              "      fill: #D2E3FC;\n",
              "    }\n",
              "\n",
              "    [theme=dark] .colab-df-convert:hover {\n",
              "      background-color: #434B5C;\n",
              "      box-shadow: 0px 1px 3px 1px rgba(0, 0, 0, 0.15);\n",
              "      filter: drop-shadow(0px 1px 2px rgba(0, 0, 0, 0.3));\n",
              "      fill: #FFFFFF;\n",
              "    }\n",
              "  </style>\n",
              "\n",
              "      <script>\n",
              "        const buttonEl =\n",
              "          document.querySelector('#df-2f572a0c-9476-41ee-9325-bac2e85f3173 button.colab-df-convert');\n",
              "        buttonEl.style.display =\n",
              "          google.colab.kernel.accessAllowed ? 'block' : 'none';\n",
              "\n",
              "        async function convertToInteractive(key) {\n",
              "          const element = document.querySelector('#df-2f572a0c-9476-41ee-9325-bac2e85f3173');\n",
              "          const dataTable =\n",
              "            await google.colab.kernel.invokeFunction('convertToInteractive',\n",
              "                                                     [key], {});\n",
              "          if (!dataTable) return;\n",
              "\n",
              "          const docLinkHtml = 'Like what you see? Visit the ' +\n",
              "            '<a target=\"_blank\" href=https://colab.research.google.com/notebooks/data_table.ipynb>data table notebook</a>'\n",
              "            + ' to learn more about interactive tables.';\n",
              "          element.innerHTML = '';\n",
              "          dataTable['output_type'] = 'display_data';\n",
              "          await google.colab.output.renderOutput(dataTable, element);\n",
              "          const docLink = document.createElement('div');\n",
              "          docLink.innerHTML = docLinkHtml;\n",
              "          element.appendChild(docLink);\n",
              "        }\n",
              "      </script>\n",
              "    </div>\n",
              "  </div>\n",
              "  "
            ]
          },
          "metadata": {},
          "execution_count": 16
        }
      ],
      "source": [
        "train_df"
      ]
    },
    {
      "cell_type": "code",
      "execution_count": null,
      "id": "a85cbe87-6d58-4000-b33c-5144663bc03a",
      "metadata": {
        "colab": {
          "base_uri": "https://localhost:8080/"
        },
        "id": "a85cbe87-6d58-4000-b33c-5144663bc03a",
        "outputId": "eee96a95-9467-4dd2-df1f-1593a1e84a23"
      },
      "outputs": [
        {
          "output_type": "stream",
          "name": "stdout",
          "text": [
            "1173\n"
          ]
        }
      ],
      "source": [
        "print(len(train_df))"
      ]
    },
    {
      "cell_type": "code",
      "execution_count": null,
      "id": "0e90fdd2-6a8a-4926-a7fa-0dd2bd8ad2fe",
      "metadata": {
        "colab": {
          "base_uri": "https://localhost:8080/"
        },
        "id": "0e90fdd2-6a8a-4926-a7fa-0dd2bd8ad2fe",
        "outputId": "a002b689-300e-4274-fc56-d1d55ac73f71"
      },
      "outputs": [
        {
          "output_type": "execute_result",
          "data": {
            "text/plain": [
              "name          0\n",
              "board_game    0\n",
              "card          0\n",
              "label         0\n",
              "path          0\n",
              "dtype: int64"
            ]
          },
          "metadata": {},
          "execution_count": 18
        }
      ],
      "source": [
        "train_df.isnull().sum()"
      ]
    },
    {
      "cell_type": "code",
      "execution_count": null,
      "id": "7e6f7534",
      "metadata": {
        "id": "7e6f7534"
      },
      "outputs": [],
      "source": [
        "train = train_df.copy()"
      ]
    },
    {
      "cell_type": "code",
      "execution_count": null,
      "id": "5c9dd029",
      "metadata": {
        "id": "5c9dd029"
      },
      "outputs": [],
      "source": [
        "train = train.drop(columns=[\"name\", \"board_game\", \"card\"])"
      ]
    },
    {
      "cell_type": "code",
      "execution_count": null,
      "id": "77e10e4f",
      "metadata": {
        "colab": {
          "base_uri": "https://localhost:8080/",
          "height": 206
        },
        "id": "77e10e4f",
        "outputId": "8d4d066f-9dea-4290-f706-98b6e9df6a78"
      },
      "outputs": [
        {
          "output_type": "execute_result",
          "data": {
            "text/plain": [
              "   label                                               path\n",
              "0      0  /content/drive/MyDrive/Colab Notebooks/Boardga...\n",
              "1      0  /content/drive/MyDrive/Colab Notebooks/Boardga...\n",
              "2      0  /content/drive/MyDrive/Colab Notebooks/Boardga...\n",
              "3      0  /content/drive/MyDrive/Colab Notebooks/Boardga...\n",
              "4      0  /content/drive/MyDrive/Colab Notebooks/Boardga..."
            ],
            "text/html": [
              "\n",
              "  <div id=\"df-c4caec30-536f-4789-80a3-55e39562dfde\">\n",
              "    <div class=\"colab-df-container\">\n",
              "      <div>\n",
              "<style scoped>\n",
              "    .dataframe tbody tr th:only-of-type {\n",
              "        vertical-align: middle;\n",
              "    }\n",
              "\n",
              "    .dataframe tbody tr th {\n",
              "        vertical-align: top;\n",
              "    }\n",
              "\n",
              "    .dataframe thead th {\n",
              "        text-align: right;\n",
              "    }\n",
              "</style>\n",
              "<table border=\"1\" class=\"dataframe\">\n",
              "  <thead>\n",
              "    <tr style=\"text-align: right;\">\n",
              "      <th></th>\n",
              "      <th>label</th>\n",
              "      <th>path</th>\n",
              "    </tr>\n",
              "  </thead>\n",
              "  <tbody>\n",
              "    <tr>\n",
              "      <th>0</th>\n",
              "      <td>0</td>\n",
              "      <td>/content/drive/MyDrive/Colab Notebooks/Boardga...</td>\n",
              "    </tr>\n",
              "    <tr>\n",
              "      <th>1</th>\n",
              "      <td>0</td>\n",
              "      <td>/content/drive/MyDrive/Colab Notebooks/Boardga...</td>\n",
              "    </tr>\n",
              "    <tr>\n",
              "      <th>2</th>\n",
              "      <td>0</td>\n",
              "      <td>/content/drive/MyDrive/Colab Notebooks/Boardga...</td>\n",
              "    </tr>\n",
              "    <tr>\n",
              "      <th>3</th>\n",
              "      <td>0</td>\n",
              "      <td>/content/drive/MyDrive/Colab Notebooks/Boardga...</td>\n",
              "    </tr>\n",
              "    <tr>\n",
              "      <th>4</th>\n",
              "      <td>0</td>\n",
              "      <td>/content/drive/MyDrive/Colab Notebooks/Boardga...</td>\n",
              "    </tr>\n",
              "  </tbody>\n",
              "</table>\n",
              "</div>\n",
              "      <button class=\"colab-df-convert\" onclick=\"convertToInteractive('df-c4caec30-536f-4789-80a3-55e39562dfde')\"\n",
              "              title=\"Convert this dataframe to an interactive table.\"\n",
              "              style=\"display:none;\">\n",
              "        \n",
              "  <svg xmlns=\"http://www.w3.org/2000/svg\" height=\"24px\"viewBox=\"0 0 24 24\"\n",
              "       width=\"24px\">\n",
              "    <path d=\"M0 0h24v24H0V0z\" fill=\"none\"/>\n",
              "    <path d=\"M18.56 5.44l.94 2.06.94-2.06 2.06-.94-2.06-.94-.94-2.06-.94 2.06-2.06.94zm-11 1L8.5 8.5l.94-2.06 2.06-.94-2.06-.94L8.5 2.5l-.94 2.06-2.06.94zm10 10l.94 2.06.94-2.06 2.06-.94-2.06-.94-.94-2.06-.94 2.06-2.06.94z\"/><path d=\"M17.41 7.96l-1.37-1.37c-.4-.4-.92-.59-1.43-.59-.52 0-1.04.2-1.43.59L10.3 9.45l-7.72 7.72c-.78.78-.78 2.05 0 2.83L4 21.41c.39.39.9.59 1.41.59.51 0 1.02-.2 1.41-.59l7.78-7.78 2.81-2.81c.8-.78.8-2.07 0-2.86zM5.41 20L4 18.59l7.72-7.72 1.47 1.35L5.41 20z\"/>\n",
              "  </svg>\n",
              "      </button>\n",
              "      \n",
              "  <style>\n",
              "    .colab-df-container {\n",
              "      display:flex;\n",
              "      flex-wrap:wrap;\n",
              "      gap: 12px;\n",
              "    }\n",
              "\n",
              "    .colab-df-convert {\n",
              "      background-color: #E8F0FE;\n",
              "      border: none;\n",
              "      border-radius: 50%;\n",
              "      cursor: pointer;\n",
              "      display: none;\n",
              "      fill: #1967D2;\n",
              "      height: 32px;\n",
              "      padding: 0 0 0 0;\n",
              "      width: 32px;\n",
              "    }\n",
              "\n",
              "    .colab-df-convert:hover {\n",
              "      background-color: #E2EBFA;\n",
              "      box-shadow: 0px 1px 2px rgba(60, 64, 67, 0.3), 0px 1px 3px 1px rgba(60, 64, 67, 0.15);\n",
              "      fill: #174EA6;\n",
              "    }\n",
              "\n",
              "    [theme=dark] .colab-df-convert {\n",
              "      background-color: #3B4455;\n",
              "      fill: #D2E3FC;\n",
              "    }\n",
              "\n",
              "    [theme=dark] .colab-df-convert:hover {\n",
              "      background-color: #434B5C;\n",
              "      box-shadow: 0px 1px 3px 1px rgba(0, 0, 0, 0.15);\n",
              "      filter: drop-shadow(0px 1px 2px rgba(0, 0, 0, 0.3));\n",
              "      fill: #FFFFFF;\n",
              "    }\n",
              "  </style>\n",
              "\n",
              "      <script>\n",
              "        const buttonEl =\n",
              "          document.querySelector('#df-c4caec30-536f-4789-80a3-55e39562dfde button.colab-df-convert');\n",
              "        buttonEl.style.display =\n",
              "          google.colab.kernel.accessAllowed ? 'block' : 'none';\n",
              "\n",
              "        async function convertToInteractive(key) {\n",
              "          const element = document.querySelector('#df-c4caec30-536f-4789-80a3-55e39562dfde');\n",
              "          const dataTable =\n",
              "            await google.colab.kernel.invokeFunction('convertToInteractive',\n",
              "                                                     [key], {});\n",
              "          if (!dataTable) return;\n",
              "\n",
              "          const docLinkHtml = 'Like what you see? Visit the ' +\n",
              "            '<a target=\"_blank\" href=https://colab.research.google.com/notebooks/data_table.ipynb>data table notebook</a>'\n",
              "            + ' to learn more about interactive tables.';\n",
              "          element.innerHTML = '';\n",
              "          dataTable['output_type'] = 'display_data';\n",
              "          await google.colab.output.renderOutput(dataTable, element);\n",
              "          const docLink = document.createElement('div');\n",
              "          docLink.innerHTML = docLinkHtml;\n",
              "          element.appendChild(docLink);\n",
              "        }\n",
              "      </script>\n",
              "    </div>\n",
              "  </div>\n",
              "  "
            ]
          },
          "metadata": {},
          "execution_count": 21
        }
      ],
      "source": [
        "train.head()"
      ]
    },
    {
      "cell_type": "code",
      "execution_count": null,
      "id": "0c0280bc-d12f-4561-a3dd-f8017b53941a",
      "metadata": {
        "id": "0c0280bc-d12f-4561-a3dd-f8017b53941a"
      },
      "outputs": [],
      "source": [
        "train_path = './train'\n",
        "train_image_dir_path = os.path.join(train_path, 'images')"
      ]
    },
    {
      "cell_type": "code",
      "execution_count": null,
      "id": "5cb29330-6e87-4633-b53b-ea6a6e499f35",
      "metadata": {
        "id": "5cb29330-6e87-4633-b53b-ea6a6e499f35"
      },
      "outputs": [],
      "source": [
        "class CustomDataset(Dataset):\n",
        "    def __init__(self, train, transform, transform2, transform3):\n",
        "        self.x = train['path']\n",
        "        self.y = train['label']\n",
        "        self.transform = transform\n",
        "        self.transform2 = transform2\n",
        "        self.transform3 = transform3\n",
        "        \n",
        "    def __getitem__(self, index):\n",
        "        image = Image.open(self.x.iloc[index])\n",
        "        label = self.y.iloc[index]\n",
        "        \n",
        "        if self.transform:\n",
        "            image = self.transform(image)\n",
        "        \n",
        "        return image, torch.tensor(label)\n",
        "        \n",
        "    def __len__(self):\n",
        "        return len(self.x)"
      ]
    },
    {
      "cell_type": "code",
      "execution_count": null,
      "id": "b7aad9ee-5c12-473f-831a-234013af2558",
      "metadata": {
        "id": "b7aad9ee-5c12-473f-831a-234013af2558"
      },
      "outputs": [],
      "source": [
        "class AddGaussianNoise(object):\n",
        "    \"\"\"\n",
        "        transform 에 없는 기능들은 이런식으로 __init__, __call__, __repr__ 부분을\n",
        "        직접 구현하여 사용할 수 있습니다.\n",
        "    \"\"\"\n",
        "\n",
        "    def __init__(self, mean=0., std=1.):\n",
        "        self.std = std\n",
        "        self.mean = mean\n",
        "\n",
        "    def __call__(self, tensor):\n",
        "        return tensor + torch.randn(tensor.size()) * self.std + self.mean\n",
        "\n",
        "    def __repr__(self):\n",
        "        return self.__class__.__name__ + '(mean={0}, std={1})'.format(self.mean, self.std)"
      ]
    },
    {
      "cell_type": "code",
      "execution_count": null,
      "id": "d2ae6fc7-487d-4238-a2b7-a758e13dc02e",
      "metadata": {
        "colab": {
          "base_uri": "https://localhost:8080/"
        },
        "id": "d2ae6fc7-487d-4238-a2b7-a758e13dc02e",
        "outputId": "108ea0e2-2d08-4873-b902-73298b977933"
      },
      "outputs": [
        {
          "output_type": "stream",
          "name": "stderr",
          "text": [
            "/usr/local/lib/python3.9/dist-packages/torchvision/transforms/transforms.py:329: UserWarning: Argument 'interpolation' of type int is deprecated since 0.13 and will be removed in 0.15. Please use InterpolationMode enum.\n",
            "  warnings.warn(\n"
          ]
        }
      ],
      "source": [
        "transform = transforms.Compose([\n",
        "    transforms.CenterCrop((320, 256)),\n",
        "    transforms.Resize((512, 384), Image.BILINEAR),\n",
        "    #transforms.ColorJitter(0.1, 0.1, 0.1, 0.1),\n",
        "    transforms.ToTensor(),\n",
        "    transforms.Normalize(mean=[0.485, 0.456, 0.406], std=[0.229, 0.224, 0.225]),\n",
        "    #AddGaussianNoise(),\n",
        "])"
      ]
    },
    {
      "cell_type": "code",
      "execution_count": null,
      "id": "b219b757-cf0a-4d17-8b57-fdf481074646",
      "metadata": {
        "id": "b219b757-cf0a-4d17-8b57-fdf481074646"
      },
      "outputs": [],
      "source": [
        "transform2 = transforms.Compose([\n",
        "    transforms.CenterCrop((320, 256)),\n",
        "    transforms.Resize((512, 384), Image.BILINEAR),\n",
        "    #transforms.ColorJitter(0.1, 0.1, 0.1, 0.1),\n",
        "    transforms.ToTensor(),\n",
        "    transforms.RandomHorizontalFlip(p=1),\n",
        "    transforms.RandomRotation(20),\n",
        "    transforms.Normalize(mean=[0.485, 0.456, 0.406], std=[0.229, 0.224, 0.225]), #mean=(0.5, 0.5, 0.5), std=(0.2, 0.2, 0.2),\n",
        "    #AddGaussianNoise(),\n",
        "])"
      ]
    },
    {
      "cell_type": "code",
      "execution_count": null,
      "id": "4ce9caac-3a7b-43b6-98e3-0fac527dde8c",
      "metadata": {
        "id": "4ce9caac-3a7b-43b6-98e3-0fac527dde8c"
      },
      "outputs": [],
      "source": [
        "transform3 = transforms.Compose([\n",
        "    transforms.CenterCrop((320, 256)),\n",
        "    transforms.Resize((512, 384), Image.BILINEAR),\n",
        "    #transforms.ColorJitter(0.1, 0.1, 0.1, 0.1),\n",
        "    transforms.ToTensor(),\n",
        "    transforms.RandomHorizontalFlip(p=1),\n",
        "    transforms.RandomRotation(10),\n",
        "    transforms.Normalize(mean=[0.485, 0.456, 0.406], std=[0.229, 0.224, 0.225]),\n",
        "    #AddGaussianNoise(),\n",
        "])"
      ]
    },
    {
      "cell_type": "code",
      "execution_count": null,
      "id": "d21eb7d3-ef1d-44f1-b7f5-eacd12485001",
      "metadata": {
        "colab": {
          "base_uri": "https://localhost:8080/"
        },
        "id": "d21eb7d3-ef1d-44f1-b7f5-eacd12485001",
        "outputId": "b4ad1d50-2253-4052-bfe8-3d3b3f26b627"
      },
      "outputs": [
        {
          "output_type": "stream",
          "name": "stdout",
          "text": [
            "      label                                               path\n",
            "1096      2  /content/drive/MyDrive/Colab Notebooks/Boardga...\n",
            "756       1  /content/drive/MyDrive/Colab Notebooks/Boardga...\n",
            "167       0  /content/drive/MyDrive/Colab Notebooks/Boardga...\n",
            "256       0  /content/drive/MyDrive/Colab Notebooks/Boardga...\n",
            "603       1  /content/drive/MyDrive/Colab Notebooks/Boardga...\n",
            "...     ...                                                ...\n",
            "982       2  /content/drive/MyDrive/Colab Notebooks/Boardga...\n",
            "94        0  /content/drive/MyDrive/Colab Notebooks/Boardga...\n",
            "73        0  /content/drive/MyDrive/Colab Notebooks/Boardga...\n",
            "572       1  /content/drive/MyDrive/Colab Notebooks/Boardga...\n",
            "342       0  /content/drive/MyDrive/Colab Notebooks/Boardga...\n",
            "\n",
            "[938 rows x 2 columns]\n",
            "<class 'pandas.core.frame.DataFrame'>\n"
          ]
        }
      ],
      "source": [
        "from sklearn.model_selection import train_test_split, KFold, StratifiedKFold\n",
        "train_set, valid_set = train_test_split(train, test_size=0.2, shuffle=True, stratify=train['label'], random_state=42)\n",
        "print(train_set)\n",
        "print(type(train_set))"
      ]
    },
    {
      "cell_type": "code",
      "execution_count": null,
      "id": "d34c8f19-4e79-49ee-99e0-648f7eb2cfa6",
      "metadata": {
        "colab": {
          "base_uri": "https://localhost:8080/"
        },
        "id": "d34c8f19-4e79-49ee-99e0-648f7eb2cfa6",
        "outputId": "21e81326-097b-4b53-b1bf-b969d6f875de"
      },
      "outputs": [
        {
          "output_type": "execute_result",
          "data": {
            "text/plain": [
              "0       0\n",
              "1       0\n",
              "2       0\n",
              "3       0\n",
              "4       0\n",
              "       ..\n",
              "1168    2\n",
              "1169    2\n",
              "1170    2\n",
              "1171    2\n",
              "1172    2\n",
              "Name: label, Length: 1173, dtype: int64"
            ]
          },
          "metadata": {},
          "execution_count": 29
        }
      ],
      "source": [
        "train_path_label = pd.DataFrame(None, columns = ['path', 'label'])\n",
        "train_path_label['path'] = train['path']\n",
        "train_path_label['label'] = train['label']\n",
        "train_path_label['label']"
      ]
    },
    {
      "cell_type": "code",
      "execution_count": null,
      "id": "0466b98d-1013-4284-9c53-e6580f58d4c7",
      "metadata": {
        "id": "0466b98d-1013-4284-9c53-e6580f58d4c7"
      },
      "outputs": [],
      "source": [
        "kf = KFold(n_splits=5, shuffle=False)\n",
        "\n",
        "for train_index, test_index in kf.split(train_path_label):\n",
        "    X_train, X_test = train['path'].loc[train_index], train['path'].loc[test_index]\n",
        "    y_train, y_test = train['label'].loc[train_index], train['label'].loc[test_index]\n",
        "\n"
      ]
    },
    {
      "cell_type": "code",
      "execution_count": null,
      "id": "02d71f05-5cf5-432a-a812-eaf81730056f",
      "metadata": {
        "colab": {
          "base_uri": "https://localhost:8080/"
        },
        "id": "02d71f05-5cf5-432a-a812-eaf81730056f",
        "outputId": "af4a6d04-9e7d-4a8b-c1f4-ab85c2466516"
      },
      "outputs": [
        {
          "output_type": "stream",
          "name": "stdout",
          "text": [
            "0      /content/drive/MyDrive/Colab Notebooks/Boardga...\n",
            "1      /content/drive/MyDrive/Colab Notebooks/Boardga...\n",
            "2      /content/drive/MyDrive/Colab Notebooks/Boardga...\n",
            "3      /content/drive/MyDrive/Colab Notebooks/Boardga...\n",
            "4      /content/drive/MyDrive/Colab Notebooks/Boardga...\n",
            "                             ...                        \n",
            "934    /content/drive/MyDrive/Colab Notebooks/Boardga...\n",
            "935    /content/drive/MyDrive/Colab Notebooks/Boardga...\n",
            "936    /content/drive/MyDrive/Colab Notebooks/Boardga...\n",
            "937    /content/drive/MyDrive/Colab Notebooks/Boardga...\n",
            "938    /content/drive/MyDrive/Colab Notebooks/Boardga...\n",
            "Name: path, Length: 939, dtype: object\n",
            "<class 'pandas.core.series.Series'>\n",
            "====================================================================================================\n",
            "0      0\n",
            "1      0\n",
            "2      0\n",
            "3      0\n",
            "4      0\n",
            "      ..\n",
            "934    2\n",
            "935    2\n",
            "936    2\n",
            "937    2\n",
            "938    2\n",
            "Name: label, Length: 939, dtype: int64\n"
          ]
        }
      ],
      "source": [
        "print(X_train)\n",
        "print(type(X_train))\n",
        "print('='*100)\n",
        "print(y_train)"
      ]
    },
    {
      "cell_type": "code",
      "execution_count": null,
      "id": "ba3f0b67-d861-4a7f-88c2-09c2bc733569",
      "metadata": {
        "colab": {
          "base_uri": "https://localhost:8080/",
          "height": 463
        },
        "id": "ba3f0b67-d861-4a7f-88c2-09c2bc733569",
        "outputId": "ece3f1a9-44bc-435b-c030-728ebfcbc721"
      },
      "outputs": [
        {
          "output_type": "stream",
          "name": "stdout",
          "text": [
            "                                                  path  label\n",
            "0    /content/drive/MyDrive/Colab Notebooks/Boardga...      0\n",
            "1    /content/drive/MyDrive/Colab Notebooks/Boardga...      0\n",
            "2    /content/drive/MyDrive/Colab Notebooks/Boardga...      0\n",
            "3    /content/drive/MyDrive/Colab Notebooks/Boardga...      0\n",
            "4    /content/drive/MyDrive/Colab Notebooks/Boardga...      0\n",
            "..                                                 ...    ...\n",
            "934  /content/drive/MyDrive/Colab Notebooks/Boardga...      2\n",
            "935  /content/drive/MyDrive/Colab Notebooks/Boardga...      2\n",
            "936  /content/drive/MyDrive/Colab Notebooks/Boardga...      2\n",
            "937  /content/drive/MyDrive/Colab Notebooks/Boardga...      2\n",
            "938  /content/drive/MyDrive/Colab Notebooks/Boardga...      2\n",
            "\n",
            "[939 rows x 2 columns]\n"
          ]
        },
        {
          "output_type": "execute_result",
          "data": {
            "text/plain": [
              "                                                path  label\n",
              "0  /content/drive/MyDrive/Colab Notebooks/Boardga...      0\n",
              "1  /content/drive/MyDrive/Colab Notebooks/Boardga...      0\n",
              "2  /content/drive/MyDrive/Colab Notebooks/Boardga...      0\n",
              "3  /content/drive/MyDrive/Colab Notebooks/Boardga...      0\n",
              "4  /content/drive/MyDrive/Colab Notebooks/Boardga...      0"
            ],
            "text/html": [
              "\n",
              "  <div id=\"df-ef8237fd-3268-411b-98a9-5fcdb50c394f\">\n",
              "    <div class=\"colab-df-container\">\n",
              "      <div>\n",
              "<style scoped>\n",
              "    .dataframe tbody tr th:only-of-type {\n",
              "        vertical-align: middle;\n",
              "    }\n",
              "\n",
              "    .dataframe tbody tr th {\n",
              "        vertical-align: top;\n",
              "    }\n",
              "\n",
              "    .dataframe thead th {\n",
              "        text-align: right;\n",
              "    }\n",
              "</style>\n",
              "<table border=\"1\" class=\"dataframe\">\n",
              "  <thead>\n",
              "    <tr style=\"text-align: right;\">\n",
              "      <th></th>\n",
              "      <th>path</th>\n",
              "      <th>label</th>\n",
              "    </tr>\n",
              "  </thead>\n",
              "  <tbody>\n",
              "    <tr>\n",
              "      <th>0</th>\n",
              "      <td>/content/drive/MyDrive/Colab Notebooks/Boardga...</td>\n",
              "      <td>0</td>\n",
              "    </tr>\n",
              "    <tr>\n",
              "      <th>1</th>\n",
              "      <td>/content/drive/MyDrive/Colab Notebooks/Boardga...</td>\n",
              "      <td>0</td>\n",
              "    </tr>\n",
              "    <tr>\n",
              "      <th>2</th>\n",
              "      <td>/content/drive/MyDrive/Colab Notebooks/Boardga...</td>\n",
              "      <td>0</td>\n",
              "    </tr>\n",
              "    <tr>\n",
              "      <th>3</th>\n",
              "      <td>/content/drive/MyDrive/Colab Notebooks/Boardga...</td>\n",
              "      <td>0</td>\n",
              "    </tr>\n",
              "    <tr>\n",
              "      <th>4</th>\n",
              "      <td>/content/drive/MyDrive/Colab Notebooks/Boardga...</td>\n",
              "      <td>0</td>\n",
              "    </tr>\n",
              "  </tbody>\n",
              "</table>\n",
              "</div>\n",
              "      <button class=\"colab-df-convert\" onclick=\"convertToInteractive('df-ef8237fd-3268-411b-98a9-5fcdb50c394f')\"\n",
              "              title=\"Convert this dataframe to an interactive table.\"\n",
              "              style=\"display:none;\">\n",
              "        \n",
              "  <svg xmlns=\"http://www.w3.org/2000/svg\" height=\"24px\"viewBox=\"0 0 24 24\"\n",
              "       width=\"24px\">\n",
              "    <path d=\"M0 0h24v24H0V0z\" fill=\"none\"/>\n",
              "    <path d=\"M18.56 5.44l.94 2.06.94-2.06 2.06-.94-2.06-.94-.94-2.06-.94 2.06-2.06.94zm-11 1L8.5 8.5l.94-2.06 2.06-.94-2.06-.94L8.5 2.5l-.94 2.06-2.06.94zm10 10l.94 2.06.94-2.06 2.06-.94-2.06-.94-.94-2.06-.94 2.06-2.06.94z\"/><path d=\"M17.41 7.96l-1.37-1.37c-.4-.4-.92-.59-1.43-.59-.52 0-1.04.2-1.43.59L10.3 9.45l-7.72 7.72c-.78.78-.78 2.05 0 2.83L4 21.41c.39.39.9.59 1.41.59.51 0 1.02-.2 1.41-.59l7.78-7.78 2.81-2.81c.8-.78.8-2.07 0-2.86zM5.41 20L4 18.59l7.72-7.72 1.47 1.35L5.41 20z\"/>\n",
              "  </svg>\n",
              "      </button>\n",
              "      \n",
              "  <style>\n",
              "    .colab-df-container {\n",
              "      display:flex;\n",
              "      flex-wrap:wrap;\n",
              "      gap: 12px;\n",
              "    }\n",
              "\n",
              "    .colab-df-convert {\n",
              "      background-color: #E8F0FE;\n",
              "      border: none;\n",
              "      border-radius: 50%;\n",
              "      cursor: pointer;\n",
              "      display: none;\n",
              "      fill: #1967D2;\n",
              "      height: 32px;\n",
              "      padding: 0 0 0 0;\n",
              "      width: 32px;\n",
              "    }\n",
              "\n",
              "    .colab-df-convert:hover {\n",
              "      background-color: #E2EBFA;\n",
              "      box-shadow: 0px 1px 2px rgba(60, 64, 67, 0.3), 0px 1px 3px 1px rgba(60, 64, 67, 0.15);\n",
              "      fill: #174EA6;\n",
              "    }\n",
              "\n",
              "    [theme=dark] .colab-df-convert {\n",
              "      background-color: #3B4455;\n",
              "      fill: #D2E3FC;\n",
              "    }\n",
              "\n",
              "    [theme=dark] .colab-df-convert:hover {\n",
              "      background-color: #434B5C;\n",
              "      box-shadow: 0px 1px 3px 1px rgba(0, 0, 0, 0.15);\n",
              "      filter: drop-shadow(0px 1px 2px rgba(0, 0, 0, 0.3));\n",
              "      fill: #FFFFFF;\n",
              "    }\n",
              "  </style>\n",
              "\n",
              "      <script>\n",
              "        const buttonEl =\n",
              "          document.querySelector('#df-ef8237fd-3268-411b-98a9-5fcdb50c394f button.colab-df-convert');\n",
              "        buttonEl.style.display =\n",
              "          google.colab.kernel.accessAllowed ? 'block' : 'none';\n",
              "\n",
              "        async function convertToInteractive(key) {\n",
              "          const element = document.querySelector('#df-ef8237fd-3268-411b-98a9-5fcdb50c394f');\n",
              "          const dataTable =\n",
              "            await google.colab.kernel.invokeFunction('convertToInteractive',\n",
              "                                                     [key], {});\n",
              "          if (!dataTable) return;\n",
              "\n",
              "          const docLinkHtml = 'Like what you see? Visit the ' +\n",
              "            '<a target=\"_blank\" href=https://colab.research.google.com/notebooks/data_table.ipynb>data table notebook</a>'\n",
              "            + ' to learn more about interactive tables.';\n",
              "          element.innerHTML = '';\n",
              "          dataTable['output_type'] = 'display_data';\n",
              "          await google.colab.output.renderOutput(dataTable, element);\n",
              "          const docLink = document.createElement('div');\n",
              "          docLink.innerHTML = docLinkHtml;\n",
              "          element.appendChild(docLink);\n",
              "        }\n",
              "      </script>\n",
              "    </div>\n",
              "  </div>\n",
              "  "
            ]
          },
          "metadata": {},
          "execution_count": 32
        }
      ],
      "source": [
        "train_set = pd.concat([X_train, y_train], axis=1)\n",
        "print(train_set)\n",
        "train_set.head()"
      ]
    },
    {
      "cell_type": "code",
      "execution_count": null,
      "id": "7da790ec-4125-40a9-b0f6-b1516b1b4f33",
      "metadata": {
        "colab": {
          "base_uri": "https://localhost:8080/",
          "height": 463
        },
        "id": "7da790ec-4125-40a9-b0f6-b1516b1b4f33",
        "outputId": "31eb5b19-14be-4775-8698-68a545ad92cc"
      },
      "outputs": [
        {
          "output_type": "stream",
          "name": "stdout",
          "text": [
            "                                                   path  label\n",
            "939   /content/drive/MyDrive/Colab Notebooks/Boardga...      2\n",
            "940   /content/drive/MyDrive/Colab Notebooks/Boardga...      2\n",
            "941   /content/drive/MyDrive/Colab Notebooks/Boardga...      2\n",
            "942   /content/drive/MyDrive/Colab Notebooks/Boardga...      2\n",
            "943   /content/drive/MyDrive/Colab Notebooks/Boardga...      2\n",
            "...                                                 ...    ...\n",
            "1168  /content/drive/MyDrive/Colab Notebooks/Boardga...      2\n",
            "1169  /content/drive/MyDrive/Colab Notebooks/Boardga...      2\n",
            "1170  /content/drive/MyDrive/Colab Notebooks/Boardga...      2\n",
            "1171  /content/drive/MyDrive/Colab Notebooks/Boardga...      2\n",
            "1172  /content/drive/MyDrive/Colab Notebooks/Boardga...      2\n",
            "\n",
            "[234 rows x 2 columns]\n"
          ]
        },
        {
          "output_type": "execute_result",
          "data": {
            "text/plain": [
              "                                                  path  label\n",
              "939  /content/drive/MyDrive/Colab Notebooks/Boardga...      2\n",
              "940  /content/drive/MyDrive/Colab Notebooks/Boardga...      2\n",
              "941  /content/drive/MyDrive/Colab Notebooks/Boardga...      2\n",
              "942  /content/drive/MyDrive/Colab Notebooks/Boardga...      2\n",
              "943  /content/drive/MyDrive/Colab Notebooks/Boardga...      2"
            ],
            "text/html": [
              "\n",
              "  <div id=\"df-0108b602-1c5a-4b42-ae14-99d9834144a2\">\n",
              "    <div class=\"colab-df-container\">\n",
              "      <div>\n",
              "<style scoped>\n",
              "    .dataframe tbody tr th:only-of-type {\n",
              "        vertical-align: middle;\n",
              "    }\n",
              "\n",
              "    .dataframe tbody tr th {\n",
              "        vertical-align: top;\n",
              "    }\n",
              "\n",
              "    .dataframe thead th {\n",
              "        text-align: right;\n",
              "    }\n",
              "</style>\n",
              "<table border=\"1\" class=\"dataframe\">\n",
              "  <thead>\n",
              "    <tr style=\"text-align: right;\">\n",
              "      <th></th>\n",
              "      <th>path</th>\n",
              "      <th>label</th>\n",
              "    </tr>\n",
              "  </thead>\n",
              "  <tbody>\n",
              "    <tr>\n",
              "      <th>939</th>\n",
              "      <td>/content/drive/MyDrive/Colab Notebooks/Boardga...</td>\n",
              "      <td>2</td>\n",
              "    </tr>\n",
              "    <tr>\n",
              "      <th>940</th>\n",
              "      <td>/content/drive/MyDrive/Colab Notebooks/Boardga...</td>\n",
              "      <td>2</td>\n",
              "    </tr>\n",
              "    <tr>\n",
              "      <th>941</th>\n",
              "      <td>/content/drive/MyDrive/Colab Notebooks/Boardga...</td>\n",
              "      <td>2</td>\n",
              "    </tr>\n",
              "    <tr>\n",
              "      <th>942</th>\n",
              "      <td>/content/drive/MyDrive/Colab Notebooks/Boardga...</td>\n",
              "      <td>2</td>\n",
              "    </tr>\n",
              "    <tr>\n",
              "      <th>943</th>\n",
              "      <td>/content/drive/MyDrive/Colab Notebooks/Boardga...</td>\n",
              "      <td>2</td>\n",
              "    </tr>\n",
              "  </tbody>\n",
              "</table>\n",
              "</div>\n",
              "      <button class=\"colab-df-convert\" onclick=\"convertToInteractive('df-0108b602-1c5a-4b42-ae14-99d9834144a2')\"\n",
              "              title=\"Convert this dataframe to an interactive table.\"\n",
              "              style=\"display:none;\">\n",
              "        \n",
              "  <svg xmlns=\"http://www.w3.org/2000/svg\" height=\"24px\"viewBox=\"0 0 24 24\"\n",
              "       width=\"24px\">\n",
              "    <path d=\"M0 0h24v24H0V0z\" fill=\"none\"/>\n",
              "    <path d=\"M18.56 5.44l.94 2.06.94-2.06 2.06-.94-2.06-.94-.94-2.06-.94 2.06-2.06.94zm-11 1L8.5 8.5l.94-2.06 2.06-.94-2.06-.94L8.5 2.5l-.94 2.06-2.06.94zm10 10l.94 2.06.94-2.06 2.06-.94-2.06-.94-.94-2.06-.94 2.06-2.06.94z\"/><path d=\"M17.41 7.96l-1.37-1.37c-.4-.4-.92-.59-1.43-.59-.52 0-1.04.2-1.43.59L10.3 9.45l-7.72 7.72c-.78.78-.78 2.05 0 2.83L4 21.41c.39.39.9.59 1.41.59.51 0 1.02-.2 1.41-.59l7.78-7.78 2.81-2.81c.8-.78.8-2.07 0-2.86zM5.41 20L4 18.59l7.72-7.72 1.47 1.35L5.41 20z\"/>\n",
              "  </svg>\n",
              "      </button>\n",
              "      \n",
              "  <style>\n",
              "    .colab-df-container {\n",
              "      display:flex;\n",
              "      flex-wrap:wrap;\n",
              "      gap: 12px;\n",
              "    }\n",
              "\n",
              "    .colab-df-convert {\n",
              "      background-color: #E8F0FE;\n",
              "      border: none;\n",
              "      border-radius: 50%;\n",
              "      cursor: pointer;\n",
              "      display: none;\n",
              "      fill: #1967D2;\n",
              "      height: 32px;\n",
              "      padding: 0 0 0 0;\n",
              "      width: 32px;\n",
              "    }\n",
              "\n",
              "    .colab-df-convert:hover {\n",
              "      background-color: #E2EBFA;\n",
              "      box-shadow: 0px 1px 2px rgba(60, 64, 67, 0.3), 0px 1px 3px 1px rgba(60, 64, 67, 0.15);\n",
              "      fill: #174EA6;\n",
              "    }\n",
              "\n",
              "    [theme=dark] .colab-df-convert {\n",
              "      background-color: #3B4455;\n",
              "      fill: #D2E3FC;\n",
              "    }\n",
              "\n",
              "    [theme=dark] .colab-df-convert:hover {\n",
              "      background-color: #434B5C;\n",
              "      box-shadow: 0px 1px 3px 1px rgba(0, 0, 0, 0.15);\n",
              "      filter: drop-shadow(0px 1px 2px rgba(0, 0, 0, 0.3));\n",
              "      fill: #FFFFFF;\n",
              "    }\n",
              "  </style>\n",
              "\n",
              "      <script>\n",
              "        const buttonEl =\n",
              "          document.querySelector('#df-0108b602-1c5a-4b42-ae14-99d9834144a2 button.colab-df-convert');\n",
              "        buttonEl.style.display =\n",
              "          google.colab.kernel.accessAllowed ? 'block' : 'none';\n",
              "\n",
              "        async function convertToInteractive(key) {\n",
              "          const element = document.querySelector('#df-0108b602-1c5a-4b42-ae14-99d9834144a2');\n",
              "          const dataTable =\n",
              "            await google.colab.kernel.invokeFunction('convertToInteractive',\n",
              "                                                     [key], {});\n",
              "          if (!dataTable) return;\n",
              "\n",
              "          const docLinkHtml = 'Like what you see? Visit the ' +\n",
              "            '<a target=\"_blank\" href=https://colab.research.google.com/notebooks/data_table.ipynb>data table notebook</a>'\n",
              "            + ' to learn more about interactive tables.';\n",
              "          element.innerHTML = '';\n",
              "          dataTable['output_type'] = 'display_data';\n",
              "          await google.colab.output.renderOutput(dataTable, element);\n",
              "          const docLink = document.createElement('div');\n",
              "          docLink.innerHTML = docLinkHtml;\n",
              "          element.appendChild(docLink);\n",
              "        }\n",
              "      </script>\n",
              "    </div>\n",
              "  </div>\n",
              "  "
            ]
          },
          "metadata": {},
          "execution_count": 33
        }
      ],
      "source": [
        "test_set = pd.concat([X_test, y_test], axis=1)\n",
        "print(test_set)\n",
        "test_set.head()"
      ]
    },
    {
      "cell_type": "code",
      "source": [
        "train_set"
      ],
      "metadata": {
        "colab": {
          "base_uri": "https://localhost:8080/",
          "height": 955
        },
        "id": "gSVfnyD0y5BN",
        "outputId": "8b05d5ee-badb-4045-c2ff-dec5590695c2"
      },
      "id": "gSVfnyD0y5BN",
      "execution_count": null,
      "outputs": [
        {
          "output_type": "execute_result",
          "data": {
            "text/plain": [
              "                                                   path  label\n",
              "0     /content/drive/MyDrive/Colab Notebooks/Boardga...      0\n",
              "1     /content/drive/MyDrive/Colab Notebooks/Boardga...      0\n",
              "2     /content/drive/MyDrive/Colab Notebooks/Boardga...      0\n",
              "3     /content/drive/MyDrive/Colab Notebooks/Boardga...      0\n",
              "4     /content/drive/MyDrive/Colab Notebooks/Boardga...      0\n",
              "...                                                 ...    ...\n",
              "1089  /content/drive/MyDrive/Colab Notebooks/Boardga...      2\n",
              "1090  /content/drive/MyDrive/Colab Notebooks/Boardga...      2\n",
              "1091  /content/drive/MyDrive/Colab Notebooks/Boardga...      2\n",
              "1092  /content/drive/MyDrive/Colab Notebooks/Boardga...      2\n",
              "1093  /content/drive/MyDrive/Colab Notebooks/Boardga...      2\n",
              "\n",
              "[939 rows x 2 columns]"
            ],
            "text/html": [
              "\n",
              "  <div id=\"df-0aeefff1-a76a-4c2a-a8f9-f4aa1d00cbf6\">\n",
              "    <div class=\"colab-df-container\">\n",
              "      <div>\n",
              "<style scoped>\n",
              "    .dataframe tbody tr th:only-of-type {\n",
              "        vertical-align: middle;\n",
              "    }\n",
              "\n",
              "    .dataframe tbody tr th {\n",
              "        vertical-align: top;\n",
              "    }\n",
              "\n",
              "    .dataframe thead th {\n",
              "        text-align: right;\n",
              "    }\n",
              "</style>\n",
              "<table border=\"1\" class=\"dataframe\">\n",
              "  <thead>\n",
              "    <tr style=\"text-align: right;\">\n",
              "      <th></th>\n",
              "      <th>path</th>\n",
              "      <th>label</th>\n",
              "    </tr>\n",
              "  </thead>\n",
              "  <tbody>\n",
              "    <tr>\n",
              "      <th>0</th>\n",
              "      <td>/content/drive/MyDrive/Colab Notebooks/Boardga...</td>\n",
              "      <td>0</td>\n",
              "    </tr>\n",
              "    <tr>\n",
              "      <th>1</th>\n",
              "      <td>/content/drive/MyDrive/Colab Notebooks/Boardga...</td>\n",
              "      <td>0</td>\n",
              "    </tr>\n",
              "    <tr>\n",
              "      <th>2</th>\n",
              "      <td>/content/drive/MyDrive/Colab Notebooks/Boardga...</td>\n",
              "      <td>0</td>\n",
              "    </tr>\n",
              "    <tr>\n",
              "      <th>3</th>\n",
              "      <td>/content/drive/MyDrive/Colab Notebooks/Boardga...</td>\n",
              "      <td>0</td>\n",
              "    </tr>\n",
              "    <tr>\n",
              "      <th>4</th>\n",
              "      <td>/content/drive/MyDrive/Colab Notebooks/Boardga...</td>\n",
              "      <td>0</td>\n",
              "    </tr>\n",
              "    <tr>\n",
              "      <th>...</th>\n",
              "      <td>...</td>\n",
              "      <td>...</td>\n",
              "    </tr>\n",
              "    <tr>\n",
              "      <th>1089</th>\n",
              "      <td>/content/drive/MyDrive/Colab Notebooks/Boardga...</td>\n",
              "      <td>2</td>\n",
              "    </tr>\n",
              "    <tr>\n",
              "      <th>1090</th>\n",
              "      <td>/content/drive/MyDrive/Colab Notebooks/Boardga...</td>\n",
              "      <td>2</td>\n",
              "    </tr>\n",
              "    <tr>\n",
              "      <th>1091</th>\n",
              "      <td>/content/drive/MyDrive/Colab Notebooks/Boardga...</td>\n",
              "      <td>2</td>\n",
              "    </tr>\n",
              "    <tr>\n",
              "      <th>1092</th>\n",
              "      <td>/content/drive/MyDrive/Colab Notebooks/Boardga...</td>\n",
              "      <td>2</td>\n",
              "    </tr>\n",
              "    <tr>\n",
              "      <th>1093</th>\n",
              "      <td>/content/drive/MyDrive/Colab Notebooks/Boardga...</td>\n",
              "      <td>2</td>\n",
              "    </tr>\n",
              "  </tbody>\n",
              "</table>\n",
              "<p>939 rows × 2 columns</p>\n",
              "</div>\n",
              "      <button class=\"colab-df-convert\" onclick=\"convertToInteractive('df-0aeefff1-a76a-4c2a-a8f9-f4aa1d00cbf6')\"\n",
              "              title=\"Convert this dataframe to an interactive table.\"\n",
              "              style=\"display:none;\">\n",
              "        \n",
              "  <svg xmlns=\"http://www.w3.org/2000/svg\" height=\"24px\"viewBox=\"0 0 24 24\"\n",
              "       width=\"24px\">\n",
              "    <path d=\"M0 0h24v24H0V0z\" fill=\"none\"/>\n",
              "    <path d=\"M18.56 5.44l.94 2.06.94-2.06 2.06-.94-2.06-.94-.94-2.06-.94 2.06-2.06.94zm-11 1L8.5 8.5l.94-2.06 2.06-.94-2.06-.94L8.5 2.5l-.94 2.06-2.06.94zm10 10l.94 2.06.94-2.06 2.06-.94-2.06-.94-.94-2.06-.94 2.06-2.06.94z\"/><path d=\"M17.41 7.96l-1.37-1.37c-.4-.4-.92-.59-1.43-.59-.52 0-1.04.2-1.43.59L10.3 9.45l-7.72 7.72c-.78.78-.78 2.05 0 2.83L4 21.41c.39.39.9.59 1.41.59.51 0 1.02-.2 1.41-.59l7.78-7.78 2.81-2.81c.8-.78.8-2.07 0-2.86zM5.41 20L4 18.59l7.72-7.72 1.47 1.35L5.41 20z\"/>\n",
              "  </svg>\n",
              "      </button>\n",
              "      \n",
              "  <style>\n",
              "    .colab-df-container {\n",
              "      display:flex;\n",
              "      flex-wrap:wrap;\n",
              "      gap: 12px;\n",
              "    }\n",
              "\n",
              "    .colab-df-convert {\n",
              "      background-color: #E8F0FE;\n",
              "      border: none;\n",
              "      border-radius: 50%;\n",
              "      cursor: pointer;\n",
              "      display: none;\n",
              "      fill: #1967D2;\n",
              "      height: 32px;\n",
              "      padding: 0 0 0 0;\n",
              "      width: 32px;\n",
              "    }\n",
              "\n",
              "    .colab-df-convert:hover {\n",
              "      background-color: #E2EBFA;\n",
              "      box-shadow: 0px 1px 2px rgba(60, 64, 67, 0.3), 0px 1px 3px 1px rgba(60, 64, 67, 0.15);\n",
              "      fill: #174EA6;\n",
              "    }\n",
              "\n",
              "    [theme=dark] .colab-df-convert {\n",
              "      background-color: #3B4455;\n",
              "      fill: #D2E3FC;\n",
              "    }\n",
              "\n",
              "    [theme=dark] .colab-df-convert:hover {\n",
              "      background-color: #434B5C;\n",
              "      box-shadow: 0px 1px 3px 1px rgba(0, 0, 0, 0.15);\n",
              "      filter: drop-shadow(0px 1px 2px rgba(0, 0, 0, 0.3));\n",
              "      fill: #FFFFFF;\n",
              "    }\n",
              "  </style>\n",
              "\n",
              "      <script>\n",
              "        const buttonEl =\n",
              "          document.querySelector('#df-0aeefff1-a76a-4c2a-a8f9-f4aa1d00cbf6 button.colab-df-convert');\n",
              "        buttonEl.style.display =\n",
              "          google.colab.kernel.accessAllowed ? 'block' : 'none';\n",
              "\n",
              "        async function convertToInteractive(key) {\n",
              "          const element = document.querySelector('#df-0aeefff1-a76a-4c2a-a8f9-f4aa1d00cbf6');\n",
              "          const dataTable =\n",
              "            await google.colab.kernel.invokeFunction('convertToInteractive',\n",
              "                                                     [key], {});\n",
              "          if (!dataTable) return;\n",
              "\n",
              "          const docLinkHtml = 'Like what you see? Visit the ' +\n",
              "            '<a target=\"_blank\" href=https://colab.research.google.com/notebooks/data_table.ipynb>data table notebook</a>'\n",
              "            + ' to learn more about interactive tables.';\n",
              "          element.innerHTML = '';\n",
              "          dataTable['output_type'] = 'display_data';\n",
              "          await google.colab.output.renderOutput(dataTable, element);\n",
              "          const docLink = document.createElement('div');\n",
              "          docLink.innerHTML = docLinkHtml;\n",
              "          element.appendChild(docLink);\n",
              "        }\n",
              "      </script>\n",
              "    </div>\n",
              "  </div>\n",
              "  "
            ]
          },
          "metadata": {},
          "execution_count": 64
        }
      ]
    },
    {
      "cell_type": "code",
      "source": [
        "test_set"
      ],
      "metadata": {
        "colab": {
          "base_uri": "https://localhost:8080/",
          "height": 310
        },
        "id": "_uANo_X4zDQU",
        "outputId": "11abd8fd-6bd5-4579-856f-b17e396e9d01"
      },
      "id": "_uANo_X4zDQU",
      "execution_count": null,
      "outputs": [
        {
          "output_type": "execute_result",
          "data": {
            "text/plain": [
              "                                                   path  label\n",
              "348   /content/drive/MyDrive/Colab Notebooks/Boardga...      0\n",
              "349   /content/drive/MyDrive/Colab Notebooks/Boardga...      0\n",
              "350   /content/drive/MyDrive/Colab Notebooks/Boardga...      0\n",
              "351   /content/drive/MyDrive/Colab Notebooks/Boardga...      0\n",
              "352   /content/drive/MyDrive/Colab Notebooks/Boardga...      0\n",
              "...                                                 ...    ...\n",
              "1168  /content/drive/MyDrive/Colab Notebooks/Boardga...      2\n",
              "1169  /content/drive/MyDrive/Colab Notebooks/Boardga...      2\n",
              "1170  /content/drive/MyDrive/Colab Notebooks/Boardga...      2\n",
              "1171  /content/drive/MyDrive/Colab Notebooks/Boardga...      2\n",
              "1172  /content/drive/MyDrive/Colab Notebooks/Boardga...      2\n",
              "\n",
              "[234 rows x 2 columns]"
            ],
            "text/html": [
              "\n",
              "  <div id=\"df-c52c81e5-4a8c-4da5-afbb-037b2a573f6c\">\n",
              "    <div class=\"colab-df-container\">\n",
              "      <div>\n",
              "<style scoped>\n",
              "    .dataframe tbody tr th:only-of-type {\n",
              "        vertical-align: middle;\n",
              "    }\n",
              "\n",
              "    .dataframe tbody tr th {\n",
              "        vertical-align: top;\n",
              "    }\n",
              "\n",
              "    .dataframe thead th {\n",
              "        text-align: right;\n",
              "    }\n",
              "</style>\n",
              "<table border=\"1\" class=\"dataframe\">\n",
              "  <thead>\n",
              "    <tr style=\"text-align: right;\">\n",
              "      <th></th>\n",
              "      <th>path</th>\n",
              "      <th>label</th>\n",
              "    </tr>\n",
              "  </thead>\n",
              "  <tbody>\n",
              "    <tr>\n",
              "      <th>348</th>\n",
              "      <td>/content/drive/MyDrive/Colab Notebooks/Boardga...</td>\n",
              "      <td>0</td>\n",
              "    </tr>\n",
              "    <tr>\n",
              "      <th>349</th>\n",
              "      <td>/content/drive/MyDrive/Colab Notebooks/Boardga...</td>\n",
              "      <td>0</td>\n",
              "    </tr>\n",
              "    <tr>\n",
              "      <th>350</th>\n",
              "      <td>/content/drive/MyDrive/Colab Notebooks/Boardga...</td>\n",
              "      <td>0</td>\n",
              "    </tr>\n",
              "    <tr>\n",
              "      <th>351</th>\n",
              "      <td>/content/drive/MyDrive/Colab Notebooks/Boardga...</td>\n",
              "      <td>0</td>\n",
              "    </tr>\n",
              "    <tr>\n",
              "      <th>352</th>\n",
              "      <td>/content/drive/MyDrive/Colab Notebooks/Boardga...</td>\n",
              "      <td>0</td>\n",
              "    </tr>\n",
              "    <tr>\n",
              "      <th>...</th>\n",
              "      <td>...</td>\n",
              "      <td>...</td>\n",
              "    </tr>\n",
              "    <tr>\n",
              "      <th>1168</th>\n",
              "      <td>/content/drive/MyDrive/Colab Notebooks/Boardga...</td>\n",
              "      <td>2</td>\n",
              "    </tr>\n",
              "    <tr>\n",
              "      <th>1169</th>\n",
              "      <td>/content/drive/MyDrive/Colab Notebooks/Boardga...</td>\n",
              "      <td>2</td>\n",
              "    </tr>\n",
              "    <tr>\n",
              "      <th>1170</th>\n",
              "      <td>/content/drive/MyDrive/Colab Notebooks/Boardga...</td>\n",
              "      <td>2</td>\n",
              "    </tr>\n",
              "    <tr>\n",
              "      <th>1171</th>\n",
              "      <td>/content/drive/MyDrive/Colab Notebooks/Boardga...</td>\n",
              "      <td>2</td>\n",
              "    </tr>\n",
              "    <tr>\n",
              "      <th>1172</th>\n",
              "      <td>/content/drive/MyDrive/Colab Notebooks/Boardga...</td>\n",
              "      <td>2</td>\n",
              "    </tr>\n",
              "  </tbody>\n",
              "</table>\n",
              "<p>234 rows × 2 columns</p>\n",
              "</div>\n",
              "      <button class=\"colab-df-convert\" onclick=\"convertToInteractive('df-c52c81e5-4a8c-4da5-afbb-037b2a573f6c')\"\n",
              "              title=\"Convert this dataframe to an interactive table.\"\n",
              "              style=\"display:none;\">\n",
              "        \n",
              "  <svg xmlns=\"http://www.w3.org/2000/svg\" height=\"24px\"viewBox=\"0 0 24 24\"\n",
              "       width=\"24px\">\n",
              "    <path d=\"M0 0h24v24H0V0z\" fill=\"none\"/>\n",
              "    <path d=\"M18.56 5.44l.94 2.06.94-2.06 2.06-.94-2.06-.94-.94-2.06-.94 2.06-2.06.94zm-11 1L8.5 8.5l.94-2.06 2.06-.94-2.06-.94L8.5 2.5l-.94 2.06-2.06.94zm10 10l.94 2.06.94-2.06 2.06-.94-2.06-.94-.94-2.06-.94 2.06-2.06.94z\"/><path d=\"M17.41 7.96l-1.37-1.37c-.4-.4-.92-.59-1.43-.59-.52 0-1.04.2-1.43.59L10.3 9.45l-7.72 7.72c-.78.78-.78 2.05 0 2.83L4 21.41c.39.39.9.59 1.41.59.51 0 1.02-.2 1.41-.59l7.78-7.78 2.81-2.81c.8-.78.8-2.07 0-2.86zM5.41 20L4 18.59l7.72-7.72 1.47 1.35L5.41 20z\"/>\n",
              "  </svg>\n",
              "      </button>\n",
              "      \n",
              "  <style>\n",
              "    .colab-df-container {\n",
              "      display:flex;\n",
              "      flex-wrap:wrap;\n",
              "      gap: 12px;\n",
              "    }\n",
              "\n",
              "    .colab-df-convert {\n",
              "      background-color: #E8F0FE;\n",
              "      border: none;\n",
              "      border-radius: 50%;\n",
              "      cursor: pointer;\n",
              "      display: none;\n",
              "      fill: #1967D2;\n",
              "      height: 32px;\n",
              "      padding: 0 0 0 0;\n",
              "      width: 32px;\n",
              "    }\n",
              "\n",
              "    .colab-df-convert:hover {\n",
              "      background-color: #E2EBFA;\n",
              "      box-shadow: 0px 1px 2px rgba(60, 64, 67, 0.3), 0px 1px 3px 1px rgba(60, 64, 67, 0.15);\n",
              "      fill: #174EA6;\n",
              "    }\n",
              "\n",
              "    [theme=dark] .colab-df-convert {\n",
              "      background-color: #3B4455;\n",
              "      fill: #D2E3FC;\n",
              "    }\n",
              "\n",
              "    [theme=dark] .colab-df-convert:hover {\n",
              "      background-color: #434B5C;\n",
              "      box-shadow: 0px 1px 3px 1px rgba(0, 0, 0, 0.15);\n",
              "      filter: drop-shadow(0px 1px 2px rgba(0, 0, 0, 0.3));\n",
              "      fill: #FFFFFF;\n",
              "    }\n",
              "  </style>\n",
              "\n",
              "      <script>\n",
              "        const buttonEl =\n",
              "          document.querySelector('#df-c52c81e5-4a8c-4da5-afbb-037b2a573f6c button.colab-df-convert');\n",
              "        buttonEl.style.display =\n",
              "          google.colab.kernel.accessAllowed ? 'block' : 'none';\n",
              "\n",
              "        async function convertToInteractive(key) {\n",
              "          const element = document.querySelector('#df-c52c81e5-4a8c-4da5-afbb-037b2a573f6c');\n",
              "          const dataTable =\n",
              "            await google.colab.kernel.invokeFunction('convertToInteractive',\n",
              "                                                     [key], {});\n",
              "          if (!dataTable) return;\n",
              "\n",
              "          const docLinkHtml = 'Like what you see? Visit the ' +\n",
              "            '<a target=\"_blank\" href=https://colab.research.google.com/notebooks/data_table.ipynb>data table notebook</a>'\n",
              "            + ' to learn more about interactive tables.';\n",
              "          element.innerHTML = '';\n",
              "          dataTable['output_type'] = 'display_data';\n",
              "          await google.colab.output.renderOutput(dataTable, element);\n",
              "          const docLink = document.createElement('div');\n",
              "          docLink.innerHTML = docLinkHtml;\n",
              "          element.appendChild(docLink);\n",
              "        }\n",
              "      </script>\n",
              "    </div>\n",
              "  </div>\n",
              "  "
            ]
          },
          "metadata": {},
          "execution_count": 65
        }
      ]
    },
    {
      "cell_type": "code",
      "execution_count": null,
      "id": "a0cd5d70-ca73-467e-a42f-9c1afaadfaea",
      "metadata": {
        "colab": {
          "base_uri": "https://localhost:8080/"
        },
        "id": "a0cd5d70-ca73-467e-a42f-9c1afaadfaea",
        "outputId": "47cfe446-5975-4bb4-bce0-31b5def3f943"
      },
      "outputs": [
        {
          "output_type": "execute_result",
          "data": {
            "text/plain": [
              "((939, 2), (234, 2))"
            ]
          },
          "metadata": {},
          "execution_count": 34
        }
      ],
      "source": [
        "train_set.shape, test_set.shape"
      ]
    },
    {
      "cell_type": "code",
      "execution_count": null,
      "id": "bb7d2d1d-762e-4a5f-a0ec-ac8b60f9ed36",
      "metadata": {
        "colab": {
          "base_uri": "https://localhost:8080/",
          "height": 161,
          "referenced_widgets": [
            "c970ee500b8e4035b3fc638bc82eb5ae",
            "69348ae9c565494bb385a45c6894c4c9",
            "c484acc314ac4e3ebef6af7d54d96674",
            "0373c4254cc8408299b3d647a9321019",
            "5e9d3bd461014ee3a2ec639494c5c016",
            "6706b9f3dcfc42c5be2a6ca31ede4e1e",
            "08a982cd963f414695e02abcb2ee2545",
            "7825160c9a38458a8a520323394ee68b",
            "210894bc545b4125b1ceadc89166c29c",
            "b5ef498480ce47edaf89ec0bcc92e501",
            "7340067534204e89bf7e856ef33f5aae"
          ]
        },
        "id": "bb7d2d1d-762e-4a5f-a0ec-ac8b60f9ed36",
        "outputId": "91f08a3f-8eec-4432-e132-12d75e1fcd29"
      },
      "outputs": [
        {
          "output_type": "stream",
          "name": "stderr",
          "text": [
            "/usr/local/lib/python3.9/dist-packages/torchvision/models/_utils.py:208: UserWarning: The parameter 'pretrained' is deprecated since 0.13 and may be removed in the future, please use 'weights' instead.\n",
            "  warnings.warn(\n",
            "/usr/local/lib/python3.9/dist-packages/torchvision/models/_utils.py:223: UserWarning: Arguments other than a weight enum or `None` for 'weights' are deprecated since 0.13 and may be removed in the future. The current behavior is equivalent to passing `weights=ResNet18_Weights.IMAGENET1K_V1`. You can also use `weights=ResNet18_Weights.DEFAULT` to get the most up-to-date weights.\n",
            "  warnings.warn(msg)\n",
            "Downloading: \"https://download.pytorch.org/models/resnet18-f37072fd.pth\" to /root/.cache/torch/hub/checkpoints/resnet18-f37072fd.pth\n"
          ]
        },
        {
          "output_type": "display_data",
          "data": {
            "text/plain": [
              "  0%|          | 0.00/44.7M [00:00<?, ?B/s]"
            ],
            "application/vnd.jupyter.widget-view+json": {
              "version_major": 2,
              "version_minor": 0,
              "model_id": "c970ee500b8e4035b3fc638bc82eb5ae"
            }
          },
          "metadata": {}
        }
      ],
      "source": [
        "resnet18 = torchvision.models.resnet18(pretrained=True)\n",
        "# print(resnet18)"
      ]
    },
    {
      "cell_type": "code",
      "execution_count": null,
      "id": "99e9efd1-b4a4-4798-ad39-4cb072184974",
      "metadata": {
        "colab": {
          "base_uri": "https://localhost:8080/"
        },
        "id": "99e9efd1-b4a4-4798-ad39-4cb072184974",
        "outputId": "d7839e41-da0f-45a1-ac45-ed6c4208b9f0"
      },
      "outputs": [
        {
          "output_type": "execute_result",
          "data": {
            "text/plain": [
              "3"
            ]
          },
          "metadata": {},
          "execution_count": 36
        }
      ],
      "source": [
        "import math\n",
        "OUTPUT = 3\n",
        "resnet18.fc = torch.nn.Linear(in_features=512, out_features=OUTPUT, bias=True)\n",
        "torch.nn.init.xavier_uniform_(resnet18.fc.weight)\n",
        "stdv = 1 / math.sqrt(resnet18.fc.weight.size(1))\n",
        "resnet18.fc.bias.data.uniform_(-stdv, stdv)\n",
        "\n",
        "resnet18.fc.weight.shape[0]"
      ]
    },
    {
      "cell_type": "code",
      "execution_count": null,
      "id": "19e5bc47-50f2-46af-81b9-4f8dcfe78cae",
      "metadata": {
        "colab": {
          "base_uri": "https://localhost:8080/"
        },
        "id": "19e5bc47-50f2-46af-81b9-4f8dcfe78cae",
        "outputId": "ce85164d-1403-4ec5-93cb-314ebb3ff7b3"
      },
      "outputs": [
        {
          "output_type": "execute_result",
          "data": {
            "text/plain": [
              "device(type='cuda', index=0)"
            ]
          },
          "metadata": {},
          "execution_count": 37
        }
      ],
      "source": [
        "device = torch.device(\"cuda:0\" if torch.cuda.is_available() else \"cpu\")\n",
        "# device = torch.device(\"cuda:0\")\n",
        "device"
      ]
    },
    {
      "cell_type": "code",
      "execution_count": null,
      "id": "bdcd02fd-dd98-4362-9c31-0ee15764f093",
      "metadata": {
        "id": "bdcd02fd-dd98-4362-9c31-0ee15764f093"
      },
      "outputs": [],
      "source": [
        "# from torch.utils.tensorboard import SummaryWriter\n",
        "#logger = SummaryWriter(log_dir=f'results/{name}')"
      ]
    },
    {
      "cell_type": "code",
      "execution_count": null,
      "id": "0affde47-a68e-4c36-9717-b356f6694327",
      "metadata": {
        "colab": {
          "base_uri": "https://localhost:8080/",
          "height": 35
        },
        "id": "0affde47-a68e-4c36-9717-b356f6694327",
        "outputId": "72e8a1ae-e417-4958-d317-455cc06bca56"
      },
      "outputs": [
        {
          "output_type": "execute_result",
          "data": {
            "text/plain": [
              "'multiclass'"
            ],
            "application/vnd.google.colaboratory.intrinsic+json": {
              "type": "string"
            }
          },
          "metadata": {},
          "execution_count": 39
        }
      ],
      "source": [
        "from sklearn.preprocessing import LabelEncoder\n",
        "from sklearn.utils.multiclass import type_of_target\n",
        "label_encoder = LabelEncoder()\n",
        "y = label_encoder.fit_transform(train['label'])\n",
        "\n",
        "skf = StratifiedKFold(n_splits=5, shuffle=False)\n",
        "for train_index, test_index in skf.split(train_path_label, y):\n",
        "    X_train, X_test = train['path'].loc[train_index], train['path'].loc[test_index]\n",
        "    y_train, y_test = train['label'].loc[train_index], train['label'].loc[test_index]\n",
        "\n",
        "type_of_target(y)"
      ]
    },
    {
      "cell_type": "code",
      "execution_count": null,
      "id": "5c469696-dc57-42c6-bb59-d43f7682d66e",
      "metadata": {
        "id": "5c469696-dc57-42c6-bb59-d43f7682d66e"
      },
      "outputs": [],
      "source": [
        "BATCH_SIZE = 16"
      ]
    },
    {
      "cell_type": "code",
      "execution_count": null,
      "id": "dd48747f-2cae-4676-b6ca-b0a1b5a4c57f",
      "metadata": {
        "id": "dd48747f-2cae-4676-b6ca-b0a1b5a4c57f"
      },
      "outputs": [],
      "source": [
        "train_set = pd.concat([X_train, y_train], axis=1)\n",
        "test_set = pd.concat([X_test, y_test], axis=1)\n",
        "\n",
        "train_dataset = CustomDataset(train_set, transform, transform2, transform3)\n",
        "train_loader = DataLoader(train_dataset, batch_size=BATCH_SIZE, shuffle=True, num_workers=1)\n",
        "\n",
        "valid_dataset = CustomDataset(test_set, transform, transform2, transform3)\n",
        "valid_loader = DataLoader(valid_dataset, batch_size=BATCH_SIZE, shuffle=True, num_workers=1)"
      ]
    },
    {
      "cell_type": "code",
      "execution_count": null,
      "id": "b8e3fb72-9421-407a-92ac-645cf7c3c5f5",
      "metadata": {
        "id": "b8e3fb72-9421-407a-92ac-645cf7c3c5f5"
      },
      "outputs": [],
      "source": [
        "resnet18.to(device)\n",
        "\n",
        "LEARNING_RATE = (1e-3)\n",
        "EPOCH = 20\n",
        "\n",
        "loss_func = torch.nn.CrossEntropyLoss()\n",
        "optimizer = optim.Adam(resnet18.parameters(), lr=LEARNING_RATE)\n",
        "scheduler = optim.lr_scheduler.StepLR(optimizer, step_size=2, gamma=0.1)\n",
        "#scheduler = optim.lr_scheduler.CosineAnnealingLR(optimizer, T_max=10, eta_min=0)\n",
        "# scheduler = optim.lr_scheduler.ReduceLROnPlateau(optimizer, 'min')\n",
        "# scheduler.step() epoch 다 돌고 마지막에 넣어주면 댐\n",
        "\n",
        "dataloaders = {\n",
        "    'Train' : train_loader,\n",
        "    'Valid' : valid_loader\n",
        "}"
      ]
    },
    {
      "cell_type": "code",
      "execution_count": null,
      "id": "6bf67f9c-abae-47f7-b9f0-d6484e10d426",
      "metadata": {
        "id": "6bf67f9c-abae-47f7-b9f0-d6484e10d426"
      },
      "outputs": [],
      "source": [
        "from tqdm import tqdm"
      ]
    },
    {
      "cell_type": "code",
      "execution_count": null,
      "id": "ded18e30-95d1-4416-b199-f5e457fe2e4a",
      "metadata": {
        "colab": {
          "base_uri": "https://localhost:8080/"
        },
        "id": "ded18e30-95d1-4416-b199-f5e457fe2e4a",
        "outputId": "4ecd1fa9-d721-4f33-d12e-c33143e97fad"
      },
      "outputs": [
        {
          "output_type": "stream",
          "name": "stderr",
          "text": [
            "100%|██████████| 59/59 [08:20<00:00,  8.49s/it]\n"
          ]
        },
        {
          "output_type": "stream",
          "name": "stdout",
          "text": [
            "[Epoch 1 | Train] 평균 loss: 1.128, 평균 acc: 0.625\n"
          ]
        },
        {
          "output_type": "stream",
          "name": "stderr",
          "text": [
            "100%|██████████| 15/15 [01:55<00:00,  7.68s/it]\n"
          ]
        },
        {
          "output_type": "stream",
          "name": "stdout",
          "text": [
            "[Epoch 1 | Valid] 평균 loss: 0.739, 평균 acc: 0.735\n"
          ]
        },
        {
          "output_type": "stream",
          "name": "stderr",
          "text": [
            "100%|██████████| 59/59 [03:43<00:00,  3.79s/it]\n"
          ]
        },
        {
          "output_type": "stream",
          "name": "stdout",
          "text": [
            "[Epoch 2 | Train] 평균 loss: 0.568, 평균 acc: 0.757\n"
          ]
        },
        {
          "output_type": "stream",
          "name": "stderr",
          "text": [
            "100%|██████████| 15/15 [00:55<00:00,  3.69s/it]\n"
          ]
        },
        {
          "output_type": "stream",
          "name": "stdout",
          "text": [
            "[Epoch 2 | Valid] 평균 loss: 0.632, 평균 acc: 0.786\n"
          ]
        },
        {
          "output_type": "stream",
          "name": "stderr",
          "text": [
            "100%|██████████| 59/59 [03:44<00:00,  3.80s/it]\n"
          ]
        },
        {
          "output_type": "stream",
          "name": "stdout",
          "text": [
            "[Epoch 3 | Train] 평균 loss: 0.464, 평균 acc: 0.808\n"
          ]
        },
        {
          "output_type": "stream",
          "name": "stderr",
          "text": [
            "100%|██████████| 15/15 [00:55<00:00,  3.71s/it]\n"
          ]
        },
        {
          "output_type": "stream",
          "name": "stdout",
          "text": [
            "[Epoch 3 | Valid] 평균 loss: 0.497, 평균 acc: 0.816\n"
          ]
        },
        {
          "output_type": "stream",
          "name": "stderr",
          "text": [
            "100%|██████████| 59/59 [03:43<00:00,  3.78s/it]\n"
          ]
        },
        {
          "output_type": "stream",
          "name": "stdout",
          "text": [
            "[Epoch 4 | Train] 평균 loss: 0.382, 평균 acc: 0.862\n"
          ]
        },
        {
          "output_type": "stream",
          "name": "stderr",
          "text": [
            "100%|██████████| 15/15 [00:55<00:00,  3.69s/it]\n"
          ]
        },
        {
          "output_type": "stream",
          "name": "stdout",
          "text": [
            "[Epoch 4 | Valid] 평균 loss: 0.497, 평균 acc: 0.833\n"
          ]
        },
        {
          "output_type": "stream",
          "name": "stderr",
          "text": [
            "100%|██████████| 59/59 [03:41<00:00,  3.76s/it]\n"
          ]
        },
        {
          "output_type": "stream",
          "name": "stdout",
          "text": [
            "[Epoch 5 | Train] 평균 loss: 0.335, 평균 acc: 0.874\n"
          ]
        },
        {
          "output_type": "stream",
          "name": "stderr",
          "text": [
            "100%|██████████| 15/15 [00:55<00:00,  3.72s/it]\n"
          ]
        },
        {
          "output_type": "stream",
          "name": "stdout",
          "text": [
            "[Epoch 5 | Valid] 평균 loss: 0.489, 평균 acc: 0.812\n"
          ]
        },
        {
          "output_type": "stream",
          "name": "stderr",
          "text": [
            "100%|██████████| 59/59 [03:44<00:00,  3.80s/it]\n"
          ]
        },
        {
          "output_type": "stream",
          "name": "stdout",
          "text": [
            "[Epoch 6 | Train] 평균 loss: 0.317, 평균 acc: 0.884\n"
          ]
        },
        {
          "output_type": "stream",
          "name": "stderr",
          "text": [
            "100%|██████████| 15/15 [00:55<00:00,  3.71s/it]\n"
          ]
        },
        {
          "output_type": "stream",
          "name": "stdout",
          "text": [
            "[Epoch 6 | Valid] 평균 loss: 0.484, 평균 acc: 0.821\n"
          ]
        },
        {
          "output_type": "stream",
          "name": "stderr",
          "text": [
            "100%|██████████| 59/59 [03:43<00:00,  3.79s/it]\n"
          ]
        },
        {
          "output_type": "stream",
          "name": "stdout",
          "text": [
            "[Epoch 7 | Train] 평균 loss: 0.340, 평균 acc: 0.859\n"
          ]
        },
        {
          "output_type": "stream",
          "name": "stderr",
          "text": [
            "100%|██████████| 15/15 [00:55<00:00,  3.73s/it]\n"
          ]
        },
        {
          "output_type": "stream",
          "name": "stdout",
          "text": [
            "[Epoch 7 | Valid] 평균 loss: 0.476, 평균 acc: 0.825\n"
          ]
        },
        {
          "output_type": "stream",
          "name": "stderr",
          "text": [
            "100%|██████████| 59/59 [03:41<00:00,  3.76s/it]\n"
          ]
        },
        {
          "output_type": "stream",
          "name": "stdout",
          "text": [
            "[Epoch 8 | Train] 평균 loss: 0.326, 평균 acc: 0.880\n"
          ]
        },
        {
          "output_type": "stream",
          "name": "stderr",
          "text": [
            "100%|██████████| 15/15 [00:55<00:00,  3.70s/it]\n"
          ]
        },
        {
          "output_type": "stream",
          "name": "stdout",
          "text": [
            "[Epoch 8 | Valid] 평균 loss: 0.474, 평균 acc: 0.833\n"
          ]
        },
        {
          "output_type": "stream",
          "name": "stderr",
          "text": [
            "100%|██████████| 59/59 [03:42<00:00,  3.78s/it]\n"
          ]
        },
        {
          "output_type": "stream",
          "name": "stdout",
          "text": [
            "[Epoch 9 | Train] 평균 loss: 0.331, 평균 acc: 0.870\n"
          ]
        },
        {
          "output_type": "stream",
          "name": "stderr",
          "text": [
            "100%|██████████| 15/15 [00:55<00:00,  3.70s/it]\n"
          ]
        },
        {
          "output_type": "stream",
          "name": "stdout",
          "text": [
            "[Epoch 9 | Valid] 평균 loss: 0.527, 평균 acc: 0.825\n"
          ]
        },
        {
          "output_type": "stream",
          "name": "stderr",
          "text": [
            "100%|██████████| 59/59 [03:42<00:00,  3.78s/it]\n"
          ]
        },
        {
          "output_type": "stream",
          "name": "stdout",
          "text": [
            "[Epoch 10 | Train] 평균 loss: 0.324, 평균 acc: 0.869\n"
          ]
        },
        {
          "output_type": "stream",
          "name": "stderr",
          "text": [
            "100%|██████████| 15/15 [00:55<00:00,  3.70s/it]\n"
          ]
        },
        {
          "output_type": "stream",
          "name": "stdout",
          "text": [
            "[Epoch 10 | Valid] 평균 loss: 0.493, 평균 acc: 0.812\n"
          ]
        },
        {
          "output_type": "stream",
          "name": "stderr",
          "text": [
            "100%|██████████| 59/59 [03:43<00:00,  3.78s/it]\n"
          ]
        },
        {
          "output_type": "stream",
          "name": "stdout",
          "text": [
            "[Epoch 11 | Train] 평균 loss: 0.307, 평균 acc: 0.882\n"
          ]
        },
        {
          "output_type": "stream",
          "name": "stderr",
          "text": [
            "100%|██████████| 15/15 [00:55<00:00,  3.72s/it]\n"
          ]
        },
        {
          "output_type": "stream",
          "name": "stdout",
          "text": [
            "[Epoch 11 | Valid] 평균 loss: 0.479, 평균 acc: 0.825\n"
          ]
        },
        {
          "output_type": "stream",
          "name": "stderr",
          "text": [
            "100%|██████████| 59/59 [03:41<00:00,  3.75s/it]\n"
          ]
        },
        {
          "output_type": "stream",
          "name": "stdout",
          "text": [
            "[Epoch 12 | Train] 평균 loss: 0.320, 평균 acc: 0.874\n"
          ]
        },
        {
          "output_type": "stream",
          "name": "stderr",
          "text": [
            "100%|██████████| 15/15 [00:55<00:00,  3.71s/it]\n"
          ]
        },
        {
          "output_type": "stream",
          "name": "stdout",
          "text": [
            "[Epoch 12 | Valid] 평균 loss: 0.486, 평균 acc: 0.825\n"
          ]
        },
        {
          "output_type": "stream",
          "name": "stderr",
          "text": [
            "100%|██████████| 59/59 [03:43<00:00,  3.79s/it]\n"
          ]
        },
        {
          "output_type": "stream",
          "name": "stdout",
          "text": [
            "[Epoch 13 | Train] 평균 loss: 0.317, 평균 acc: 0.885\n"
          ]
        },
        {
          "output_type": "stream",
          "name": "stderr",
          "text": [
            "100%|██████████| 15/15 [00:55<00:00,  3.69s/it]\n"
          ]
        },
        {
          "output_type": "stream",
          "name": "stdout",
          "text": [
            "[Epoch 13 | Valid] 평균 loss: 0.485, 평균 acc: 0.816\n"
          ]
        },
        {
          "output_type": "stream",
          "name": "stderr",
          "text": [
            "100%|██████████| 59/59 [03:43<00:00,  3.78s/it]\n"
          ]
        },
        {
          "output_type": "stream",
          "name": "stdout",
          "text": [
            "[Epoch 14 | Train] 평균 loss: 0.321, 평균 acc: 0.881\n"
          ]
        },
        {
          "output_type": "stream",
          "name": "stderr",
          "text": [
            "100%|██████████| 15/15 [00:55<00:00,  3.70s/it]\n"
          ]
        },
        {
          "output_type": "stream",
          "name": "stdout",
          "text": [
            "[Epoch 14 | Valid] 평균 loss: 0.477, 평균 acc: 0.829\n"
          ]
        },
        {
          "output_type": "stream",
          "name": "stderr",
          "text": [
            "100%|██████████| 59/59 [03:43<00:00,  3.79s/it]\n"
          ]
        },
        {
          "output_type": "stream",
          "name": "stdout",
          "text": [
            "[Epoch 15 | Train] 평균 loss: 0.354, 평균 acc: 0.881\n"
          ]
        },
        {
          "output_type": "stream",
          "name": "stderr",
          "text": [
            "100%|██████████| 15/15 [00:55<00:00,  3.70s/it]\n"
          ]
        },
        {
          "output_type": "stream",
          "name": "stdout",
          "text": [
            "[Epoch 15 | Valid] 평균 loss: 0.483, 평균 acc: 0.825\n"
          ]
        },
        {
          "output_type": "stream",
          "name": "stderr",
          "text": [
            "100%|██████████| 59/59 [03:43<00:00,  3.79s/it]\n"
          ]
        },
        {
          "output_type": "stream",
          "name": "stdout",
          "text": [
            "[Epoch 16 | Train] 평균 loss: 0.318, 평균 acc: 0.873\n"
          ]
        },
        {
          "output_type": "stream",
          "name": "stderr",
          "text": [
            "100%|██████████| 15/15 [00:55<00:00,  3.71s/it]\n"
          ]
        },
        {
          "output_type": "stream",
          "name": "stdout",
          "text": [
            "[Epoch 16 | Valid] 평균 loss: 0.488, 평균 acc: 0.821\n"
          ]
        },
        {
          "output_type": "stream",
          "name": "stderr",
          "text": [
            "100%|██████████| 59/59 [03:45<00:00,  3.81s/it]\n"
          ]
        },
        {
          "output_type": "stream",
          "name": "stdout",
          "text": [
            "[Epoch 17 | Train] 평균 loss: 0.324, 평균 acc: 0.871\n"
          ]
        },
        {
          "output_type": "stream",
          "name": "stderr",
          "text": [
            "100%|██████████| 15/15 [00:55<00:00,  3.72s/it]\n"
          ]
        },
        {
          "output_type": "stream",
          "name": "stdout",
          "text": [
            "[Epoch 17 | Valid] 평균 loss: 0.474, 평균 acc: 0.825\n"
          ]
        },
        {
          "output_type": "stream",
          "name": "stderr",
          "text": [
            "100%|██████████| 59/59 [03:44<00:00,  3.81s/it]\n"
          ]
        },
        {
          "output_type": "stream",
          "name": "stdout",
          "text": [
            "[Epoch 18 | Train] 평균 loss: 0.313, 평균 acc: 0.883\n"
          ]
        },
        {
          "output_type": "stream",
          "name": "stderr",
          "text": [
            "100%|██████████| 15/15 [00:55<00:00,  3.70s/it]\n"
          ]
        },
        {
          "output_type": "stream",
          "name": "stdout",
          "text": [
            "[Epoch 18 | Valid] 평균 loss: 0.502, 평균 acc: 0.821\n"
          ]
        },
        {
          "output_type": "stream",
          "name": "stderr",
          "text": [
            "100%|██████████| 59/59 [03:45<00:00,  3.82s/it]\n"
          ]
        },
        {
          "output_type": "stream",
          "name": "stdout",
          "text": [
            "[Epoch 19 | Train] 평균 loss: 0.311, 평균 acc: 0.880\n"
          ]
        },
        {
          "output_type": "stream",
          "name": "stderr",
          "text": [
            "100%|██████████| 15/15 [00:56<00:00,  3.78s/it]\n"
          ]
        },
        {
          "output_type": "stream",
          "name": "stdout",
          "text": [
            "[Epoch 19 | Valid] 평균 loss: 0.492, 평균 acc: 0.812\n"
          ]
        },
        {
          "output_type": "stream",
          "name": "stderr",
          "text": [
            "100%|██████████| 59/59 [03:44<00:00,  3.80s/it]\n"
          ]
        },
        {
          "output_type": "stream",
          "name": "stdout",
          "text": [
            "[Epoch 20 | Train] 평균 loss: 0.318, 평균 acc: 0.874\n"
          ]
        },
        {
          "output_type": "stream",
          "name": "stderr",
          "text": [
            "100%|██████████| 15/15 [00:55<00:00,  3.69s/it]"
          ]
        },
        {
          "output_type": "stream",
          "name": "stdout",
          "text": [
            "[Epoch 20 | Valid] 평균 loss: 0.503, 평균 acc: 0.825\n",
            "끝\n"
          ]
        },
        {
          "output_type": "stream",
          "name": "stderr",
          "text": [
            "\n"
          ]
        }
      ],
      "source": [
        "for epoch in range(EPOCH):\n",
        "    for phase in ['Train', 'Valid']:\n",
        "        running_loss = 0\n",
        "        running_acc = 0\n",
        "        \n",
        "        if phase == 'Train':\n",
        "            resnet18.train()\n",
        "        elif phase == 'Valid':\n",
        "            resnet18.eval()\n",
        "            \n",
        "        for i, (image, label) in enumerate(tqdm(dataloaders[phase])):\n",
        "            image = image.to(device)\n",
        "            label = label.to(device)\n",
        "            \n",
        "            optimizer.zero_grad()\n",
        "            \n",
        "            with torch.set_grad_enabled(phase == 'Train'):\n",
        "                logits = resnet18(image)\n",
        "                _, preds = torch.max(logits, 1)\n",
        "                loss = loss_func(logits, label)\n",
        "                \n",
        "                if phase == 'Train':\n",
        "                    loss.backward()\n",
        "                    optimizer.step()\n",
        "            running_loss += loss.item() * image.size(0)\n",
        "            running_acc += torch.sum(preds == label.data)\n",
        "            \n",
        "        epoch_loss = running_loss / len(dataloaders[phase].dataset)\n",
        "        epoch_acc = running_acc / len(dataloaders[phase].dataset) \n",
        "\n",
        "        print(f\"[Epoch {epoch+1} | {phase:5}] 평균 loss: {epoch_loss:.3f}, 평균 acc: {epoch_acc:.3f}\")\n",
        "    \n",
        "    scheduler.step()\n",
        "\n",
        "print('끝')"
      ]
    },
    {
      "cell_type": "code",
      "execution_count": null,
      "id": "cd929a92-4860-4be0-a8f9-0ee19a1fe3be",
      "metadata": {
        "id": "cd929a92-4860-4be0-a8f9-0ee19a1fe3be"
      },
      "outputs": [],
      "source": [
        "def check_eval(raw_data, dataloader, model, device):\n",
        "    result = []\n",
        "    with torch.no_grad():\n",
        "        model.eval()\n",
        "        for i, (X, y) in enumerate(dataloader):\n",
        "            model_pred = model.forward(X.to(device))\n",
        "            _, y_pred = torch.max(model_pred, 1)\n",
        "            \n",
        "            result.append([valid_set.iloc[i]['path'], y_pred.cpu().numpy()[0], y.cpu().numpy()[0]])\n",
        "        result = pd.DataFrame(result, columns=['path', 'pred', 'target'])\n",
        "        return result"
      ]
    },
    {
      "cell_type": "code",
      "execution_count": null,
      "id": "7c98f07a-9203-4a14-913c-85e56e044403",
      "metadata": {
        "colab": {
          "base_uri": "https://localhost:8080/",
          "height": 424
        },
        "id": "7c98f07a-9203-4a14-913c-85e56e044403",
        "outputId": "5635f620-c751-4b66-eb0a-6d72a3d8896a"
      },
      "outputs": [
        {
          "output_type": "execute_result",
          "data": {
            "text/plain": [
              "                                                  path  pred  target\n",
              "0    /content/drive/MyDrive/Colab Notebooks/Boardga...     0       0\n",
              "1    /content/drive/MyDrive/Colab Notebooks/Boardga...     0       0\n",
              "2    /content/drive/MyDrive/Colab Notebooks/Boardga...     2       0\n",
              "3    /content/drive/MyDrive/Colab Notebooks/Boardga...     0       0\n",
              "4    /content/drive/MyDrive/Colab Notebooks/Boardga...     0       0\n",
              "..                                                 ...   ...     ...\n",
              "229  /content/drive/MyDrive/Colab Notebooks/Boardga...     2       2\n",
              "230  /content/drive/MyDrive/Colab Notebooks/Boardga...     2       2\n",
              "231  /content/drive/MyDrive/Colab Notebooks/Boardga...     2       2\n",
              "232  /content/drive/MyDrive/Colab Notebooks/Boardga...     1       2\n",
              "233  /content/drive/MyDrive/Colab Notebooks/Boardga...     2       2\n",
              "\n",
              "[234 rows x 3 columns]"
            ],
            "text/html": [
              "\n",
              "  <div id=\"df-4df76304-1531-41cc-8c41-731e9b515746\">\n",
              "    <div class=\"colab-df-container\">\n",
              "      <div>\n",
              "<style scoped>\n",
              "    .dataframe tbody tr th:only-of-type {\n",
              "        vertical-align: middle;\n",
              "    }\n",
              "\n",
              "    .dataframe tbody tr th {\n",
              "        vertical-align: top;\n",
              "    }\n",
              "\n",
              "    .dataframe thead th {\n",
              "        text-align: right;\n",
              "    }\n",
              "</style>\n",
              "<table border=\"1\" class=\"dataframe\">\n",
              "  <thead>\n",
              "    <tr style=\"text-align: right;\">\n",
              "      <th></th>\n",
              "      <th>path</th>\n",
              "      <th>pred</th>\n",
              "      <th>target</th>\n",
              "    </tr>\n",
              "  </thead>\n",
              "  <tbody>\n",
              "    <tr>\n",
              "      <th>0</th>\n",
              "      <td>/content/drive/MyDrive/Colab Notebooks/Boardga...</td>\n",
              "      <td>0</td>\n",
              "      <td>0</td>\n",
              "    </tr>\n",
              "    <tr>\n",
              "      <th>1</th>\n",
              "      <td>/content/drive/MyDrive/Colab Notebooks/Boardga...</td>\n",
              "      <td>0</td>\n",
              "      <td>0</td>\n",
              "    </tr>\n",
              "    <tr>\n",
              "      <th>2</th>\n",
              "      <td>/content/drive/MyDrive/Colab Notebooks/Boardga...</td>\n",
              "      <td>2</td>\n",
              "      <td>0</td>\n",
              "    </tr>\n",
              "    <tr>\n",
              "      <th>3</th>\n",
              "      <td>/content/drive/MyDrive/Colab Notebooks/Boardga...</td>\n",
              "      <td>0</td>\n",
              "      <td>0</td>\n",
              "    </tr>\n",
              "    <tr>\n",
              "      <th>4</th>\n",
              "      <td>/content/drive/MyDrive/Colab Notebooks/Boardga...</td>\n",
              "      <td>0</td>\n",
              "      <td>0</td>\n",
              "    </tr>\n",
              "    <tr>\n",
              "      <th>...</th>\n",
              "      <td>...</td>\n",
              "      <td>...</td>\n",
              "      <td>...</td>\n",
              "    </tr>\n",
              "    <tr>\n",
              "      <th>229</th>\n",
              "      <td>/content/drive/MyDrive/Colab Notebooks/Boardga...</td>\n",
              "      <td>2</td>\n",
              "      <td>2</td>\n",
              "    </tr>\n",
              "    <tr>\n",
              "      <th>230</th>\n",
              "      <td>/content/drive/MyDrive/Colab Notebooks/Boardga...</td>\n",
              "      <td>2</td>\n",
              "      <td>2</td>\n",
              "    </tr>\n",
              "    <tr>\n",
              "      <th>231</th>\n",
              "      <td>/content/drive/MyDrive/Colab Notebooks/Boardga...</td>\n",
              "      <td>2</td>\n",
              "      <td>2</td>\n",
              "    </tr>\n",
              "    <tr>\n",
              "      <th>232</th>\n",
              "      <td>/content/drive/MyDrive/Colab Notebooks/Boardga...</td>\n",
              "      <td>1</td>\n",
              "      <td>2</td>\n",
              "    </tr>\n",
              "    <tr>\n",
              "      <th>233</th>\n",
              "      <td>/content/drive/MyDrive/Colab Notebooks/Boardga...</td>\n",
              "      <td>2</td>\n",
              "      <td>2</td>\n",
              "    </tr>\n",
              "  </tbody>\n",
              "</table>\n",
              "<p>234 rows × 3 columns</p>\n",
              "</div>\n",
              "      <button class=\"colab-df-convert\" onclick=\"convertToInteractive('df-4df76304-1531-41cc-8c41-731e9b515746')\"\n",
              "              title=\"Convert this dataframe to an interactive table.\"\n",
              "              style=\"display:none;\">\n",
              "        \n",
              "  <svg xmlns=\"http://www.w3.org/2000/svg\" height=\"24px\"viewBox=\"0 0 24 24\"\n",
              "       width=\"24px\">\n",
              "    <path d=\"M0 0h24v24H0V0z\" fill=\"none\"/>\n",
              "    <path d=\"M18.56 5.44l.94 2.06.94-2.06 2.06-.94-2.06-.94-.94-2.06-.94 2.06-2.06.94zm-11 1L8.5 8.5l.94-2.06 2.06-.94-2.06-.94L8.5 2.5l-.94 2.06-2.06.94zm10 10l.94 2.06.94-2.06 2.06-.94-2.06-.94-.94-2.06-.94 2.06-2.06.94z\"/><path d=\"M17.41 7.96l-1.37-1.37c-.4-.4-.92-.59-1.43-.59-.52 0-1.04.2-1.43.59L10.3 9.45l-7.72 7.72c-.78.78-.78 2.05 0 2.83L4 21.41c.39.39.9.59 1.41.59.51 0 1.02-.2 1.41-.59l7.78-7.78 2.81-2.81c.8-.78.8-2.07 0-2.86zM5.41 20L4 18.59l7.72-7.72 1.47 1.35L5.41 20z\"/>\n",
              "  </svg>\n",
              "      </button>\n",
              "      \n",
              "  <style>\n",
              "    .colab-df-container {\n",
              "      display:flex;\n",
              "      flex-wrap:wrap;\n",
              "      gap: 12px;\n",
              "    }\n",
              "\n",
              "    .colab-df-convert {\n",
              "      background-color: #E8F0FE;\n",
              "      border: none;\n",
              "      border-radius: 50%;\n",
              "      cursor: pointer;\n",
              "      display: none;\n",
              "      fill: #1967D2;\n",
              "      height: 32px;\n",
              "      padding: 0 0 0 0;\n",
              "      width: 32px;\n",
              "    }\n",
              "\n",
              "    .colab-df-convert:hover {\n",
              "      background-color: #E2EBFA;\n",
              "      box-shadow: 0px 1px 2px rgba(60, 64, 67, 0.3), 0px 1px 3px 1px rgba(60, 64, 67, 0.15);\n",
              "      fill: #174EA6;\n",
              "    }\n",
              "\n",
              "    [theme=dark] .colab-df-convert {\n",
              "      background-color: #3B4455;\n",
              "      fill: #D2E3FC;\n",
              "    }\n",
              "\n",
              "    [theme=dark] .colab-df-convert:hover {\n",
              "      background-color: #434B5C;\n",
              "      box-shadow: 0px 1px 3px 1px rgba(0, 0, 0, 0.15);\n",
              "      filter: drop-shadow(0px 1px 2px rgba(0, 0, 0, 0.3));\n",
              "      fill: #FFFFFF;\n",
              "    }\n",
              "  </style>\n",
              "\n",
              "      <script>\n",
              "        const buttonEl =\n",
              "          document.querySelector('#df-4df76304-1531-41cc-8c41-731e9b515746 button.colab-df-convert');\n",
              "        buttonEl.style.display =\n",
              "          google.colab.kernel.accessAllowed ? 'block' : 'none';\n",
              "\n",
              "        async function convertToInteractive(key) {\n",
              "          const element = document.querySelector('#df-4df76304-1531-41cc-8c41-731e9b515746');\n",
              "          const dataTable =\n",
              "            await google.colab.kernel.invokeFunction('convertToInteractive',\n",
              "                                                     [key], {});\n",
              "          if (!dataTable) return;\n",
              "\n",
              "          const docLinkHtml = 'Like what you see? Visit the ' +\n",
              "            '<a target=\"_blank\" href=https://colab.research.google.com/notebooks/data_table.ipynb>data table notebook</a>'\n",
              "            + ' to learn more about interactive tables.';\n",
              "          element.innerHTML = '';\n",
              "          dataTable['output_type'] = 'display_data';\n",
              "          await google.colab.output.renderOutput(dataTable, element);\n",
              "          const docLink = document.createElement('div');\n",
              "          docLink.innerHTML = docLinkHtml;\n",
              "          element.appendChild(docLink);\n",
              "        }\n",
              "      </script>\n",
              "    </div>\n",
              "  </div>\n",
              "  "
            ]
          },
          "metadata": {},
          "execution_count": 49
        }
      ],
      "source": [
        "valid_testing_dataloader = DataLoader(valid_dataset, shuffle = False)\n",
        "check_eval_df = check_eval(valid_set, valid_testing_dataloader, resnet18, device)\n",
        "check_eval_df"
      ]
    },
    {
      "cell_type": "code",
      "execution_count": null,
      "id": "8a75945f-96f5-4d20-a647-a6d3f206df8f",
      "metadata": {
        "colab": {
          "base_uri": "https://localhost:8080/",
          "height": 988
        },
        "id": "8a75945f-96f5-4d20-a647-a6d3f206df8f",
        "outputId": "625b5fa6-1a62-4c52-b969-ee482415be0a"
      },
      "outputs": [
        {
          "output_type": "execute_result",
          "data": {
            "text/plain": [
              "                                                 path  pred  target\n",
              "0   /content/drive/MyDrive/Colab Notebooks/Boardga...     2       0\n",
              "1   /content/drive/MyDrive/Colab Notebooks/Boardga...     1       0\n",
              "2   /content/drive/MyDrive/Colab Notebooks/Boardga...     2       0\n",
              "3   /content/drive/MyDrive/Colab Notebooks/Boardga...     2       0\n",
              "4   /content/drive/MyDrive/Colab Notebooks/Boardga...     1       0\n",
              "5   /content/drive/MyDrive/Colab Notebooks/Boardga...     1       0\n",
              "6   /content/drive/MyDrive/Colab Notebooks/Boardga...     1       0\n",
              "7   /content/drive/MyDrive/Colab Notebooks/Boardga...     1       0\n",
              "8   /content/drive/MyDrive/Colab Notebooks/Boardga...     1       0\n",
              "9   /content/drive/MyDrive/Colab Notebooks/Boardga...     1       0\n",
              "10  /content/drive/MyDrive/Colab Notebooks/Boardga...     2       0\n",
              "11  /content/drive/MyDrive/Colab Notebooks/Boardga...     2       0\n",
              "12  /content/drive/MyDrive/Colab Notebooks/Boardga...     0       1\n",
              "13  /content/drive/MyDrive/Colab Notebooks/Boardga...     0       1\n",
              "14  /content/drive/MyDrive/Colab Notebooks/Boardga...     2       1\n",
              "15  /content/drive/MyDrive/Colab Notebooks/Boardga...     0       1\n",
              "16  /content/drive/MyDrive/Colab Notebooks/Boardga...     2       1\n",
              "17  /content/drive/MyDrive/Colab Notebooks/Boardga...     2       1\n",
              "18  /content/drive/MyDrive/Colab Notebooks/Boardga...     0       2\n",
              "19  /content/drive/MyDrive/Colab Notebooks/Boardga...     0       2\n",
              "20  /content/drive/MyDrive/Colab Notebooks/Boardga...     0       2\n",
              "21  /content/drive/MyDrive/Colab Notebooks/Boardga...     0       2\n",
              "22  /content/drive/MyDrive/Colab Notebooks/Boardga...     1       2\n",
              "23  /content/drive/MyDrive/Colab Notebooks/Boardga...     1       2\n",
              "24  /content/drive/MyDrive/Colab Notebooks/Boardga...     0       2\n",
              "25  /content/drive/MyDrive/Colab Notebooks/Boardga...     0       2\n",
              "26  /content/drive/MyDrive/Colab Notebooks/Boardga...     1       2\n",
              "27  /content/drive/MyDrive/Colab Notebooks/Boardga...     0       2\n",
              "28  /content/drive/MyDrive/Colab Notebooks/Boardga...     0       2\n",
              "29  /content/drive/MyDrive/Colab Notebooks/Boardga...     0       2\n",
              "30  /content/drive/MyDrive/Colab Notebooks/Boardga...     1       2\n",
              "31  /content/drive/MyDrive/Colab Notebooks/Boardga...     1       2\n",
              "32  /content/drive/MyDrive/Colab Notebooks/Boardga...     1       2\n",
              "33  /content/drive/MyDrive/Colab Notebooks/Boardga...     0       2\n",
              "34  /content/drive/MyDrive/Colab Notebooks/Boardga...     0       2\n",
              "35  /content/drive/MyDrive/Colab Notebooks/Boardga...     0       2\n",
              "36  /content/drive/MyDrive/Colab Notebooks/Boardga...     1       2\n",
              "37  /content/drive/MyDrive/Colab Notebooks/Boardga...     0       2\n",
              "38  /content/drive/MyDrive/Colab Notebooks/Boardga...     0       2\n",
              "39  /content/drive/MyDrive/Colab Notebooks/Boardga...     0       2\n",
              "40  /content/drive/MyDrive/Colab Notebooks/Boardga...     1       2"
            ],
            "text/html": [
              "\n",
              "  <div id=\"df-91a0c7c2-bf64-4d5f-b46a-a0f77549ccde\">\n",
              "    <div class=\"colab-df-container\">\n",
              "      <div>\n",
              "<style scoped>\n",
              "    .dataframe tbody tr th:only-of-type {\n",
              "        vertical-align: middle;\n",
              "    }\n",
              "\n",
              "    .dataframe tbody tr th {\n",
              "        vertical-align: top;\n",
              "    }\n",
              "\n",
              "    .dataframe thead th {\n",
              "        text-align: right;\n",
              "    }\n",
              "</style>\n",
              "<table border=\"1\" class=\"dataframe\">\n",
              "  <thead>\n",
              "    <tr style=\"text-align: right;\">\n",
              "      <th></th>\n",
              "      <th>path</th>\n",
              "      <th>pred</th>\n",
              "      <th>target</th>\n",
              "    </tr>\n",
              "  </thead>\n",
              "  <tbody>\n",
              "    <tr>\n",
              "      <th>0</th>\n",
              "      <td>/content/drive/MyDrive/Colab Notebooks/Boardga...</td>\n",
              "      <td>2</td>\n",
              "      <td>0</td>\n",
              "    </tr>\n",
              "    <tr>\n",
              "      <th>1</th>\n",
              "      <td>/content/drive/MyDrive/Colab Notebooks/Boardga...</td>\n",
              "      <td>1</td>\n",
              "      <td>0</td>\n",
              "    </tr>\n",
              "    <tr>\n",
              "      <th>2</th>\n",
              "      <td>/content/drive/MyDrive/Colab Notebooks/Boardga...</td>\n",
              "      <td>2</td>\n",
              "      <td>0</td>\n",
              "    </tr>\n",
              "    <tr>\n",
              "      <th>3</th>\n",
              "      <td>/content/drive/MyDrive/Colab Notebooks/Boardga...</td>\n",
              "      <td>2</td>\n",
              "      <td>0</td>\n",
              "    </tr>\n",
              "    <tr>\n",
              "      <th>4</th>\n",
              "      <td>/content/drive/MyDrive/Colab Notebooks/Boardga...</td>\n",
              "      <td>1</td>\n",
              "      <td>0</td>\n",
              "    </tr>\n",
              "    <tr>\n",
              "      <th>5</th>\n",
              "      <td>/content/drive/MyDrive/Colab Notebooks/Boardga...</td>\n",
              "      <td>1</td>\n",
              "      <td>0</td>\n",
              "    </tr>\n",
              "    <tr>\n",
              "      <th>6</th>\n",
              "      <td>/content/drive/MyDrive/Colab Notebooks/Boardga...</td>\n",
              "      <td>1</td>\n",
              "      <td>0</td>\n",
              "    </tr>\n",
              "    <tr>\n",
              "      <th>7</th>\n",
              "      <td>/content/drive/MyDrive/Colab Notebooks/Boardga...</td>\n",
              "      <td>1</td>\n",
              "      <td>0</td>\n",
              "    </tr>\n",
              "    <tr>\n",
              "      <th>8</th>\n",
              "      <td>/content/drive/MyDrive/Colab Notebooks/Boardga...</td>\n",
              "      <td>1</td>\n",
              "      <td>0</td>\n",
              "    </tr>\n",
              "    <tr>\n",
              "      <th>9</th>\n",
              "      <td>/content/drive/MyDrive/Colab Notebooks/Boardga...</td>\n",
              "      <td>1</td>\n",
              "      <td>0</td>\n",
              "    </tr>\n",
              "    <tr>\n",
              "      <th>10</th>\n",
              "      <td>/content/drive/MyDrive/Colab Notebooks/Boardga...</td>\n",
              "      <td>2</td>\n",
              "      <td>0</td>\n",
              "    </tr>\n",
              "    <tr>\n",
              "      <th>11</th>\n",
              "      <td>/content/drive/MyDrive/Colab Notebooks/Boardga...</td>\n",
              "      <td>2</td>\n",
              "      <td>0</td>\n",
              "    </tr>\n",
              "    <tr>\n",
              "      <th>12</th>\n",
              "      <td>/content/drive/MyDrive/Colab Notebooks/Boardga...</td>\n",
              "      <td>0</td>\n",
              "      <td>1</td>\n",
              "    </tr>\n",
              "    <tr>\n",
              "      <th>13</th>\n",
              "      <td>/content/drive/MyDrive/Colab Notebooks/Boardga...</td>\n",
              "      <td>0</td>\n",
              "      <td>1</td>\n",
              "    </tr>\n",
              "    <tr>\n",
              "      <th>14</th>\n",
              "      <td>/content/drive/MyDrive/Colab Notebooks/Boardga...</td>\n",
              "      <td>2</td>\n",
              "      <td>1</td>\n",
              "    </tr>\n",
              "    <tr>\n",
              "      <th>15</th>\n",
              "      <td>/content/drive/MyDrive/Colab Notebooks/Boardga...</td>\n",
              "      <td>0</td>\n",
              "      <td>1</td>\n",
              "    </tr>\n",
              "    <tr>\n",
              "      <th>16</th>\n",
              "      <td>/content/drive/MyDrive/Colab Notebooks/Boardga...</td>\n",
              "      <td>2</td>\n",
              "      <td>1</td>\n",
              "    </tr>\n",
              "    <tr>\n",
              "      <th>17</th>\n",
              "      <td>/content/drive/MyDrive/Colab Notebooks/Boardga...</td>\n",
              "      <td>2</td>\n",
              "      <td>1</td>\n",
              "    </tr>\n",
              "    <tr>\n",
              "      <th>18</th>\n",
              "      <td>/content/drive/MyDrive/Colab Notebooks/Boardga...</td>\n",
              "      <td>0</td>\n",
              "      <td>2</td>\n",
              "    </tr>\n",
              "    <tr>\n",
              "      <th>19</th>\n",
              "      <td>/content/drive/MyDrive/Colab Notebooks/Boardga...</td>\n",
              "      <td>0</td>\n",
              "      <td>2</td>\n",
              "    </tr>\n",
              "    <tr>\n",
              "      <th>20</th>\n",
              "      <td>/content/drive/MyDrive/Colab Notebooks/Boardga...</td>\n",
              "      <td>0</td>\n",
              "      <td>2</td>\n",
              "    </tr>\n",
              "    <tr>\n",
              "      <th>21</th>\n",
              "      <td>/content/drive/MyDrive/Colab Notebooks/Boardga...</td>\n",
              "      <td>0</td>\n",
              "      <td>2</td>\n",
              "    </tr>\n",
              "    <tr>\n",
              "      <th>22</th>\n",
              "      <td>/content/drive/MyDrive/Colab Notebooks/Boardga...</td>\n",
              "      <td>1</td>\n",
              "      <td>2</td>\n",
              "    </tr>\n",
              "    <tr>\n",
              "      <th>23</th>\n",
              "      <td>/content/drive/MyDrive/Colab Notebooks/Boardga...</td>\n",
              "      <td>1</td>\n",
              "      <td>2</td>\n",
              "    </tr>\n",
              "    <tr>\n",
              "      <th>24</th>\n",
              "      <td>/content/drive/MyDrive/Colab Notebooks/Boardga...</td>\n",
              "      <td>0</td>\n",
              "      <td>2</td>\n",
              "    </tr>\n",
              "    <tr>\n",
              "      <th>25</th>\n",
              "      <td>/content/drive/MyDrive/Colab Notebooks/Boardga...</td>\n",
              "      <td>0</td>\n",
              "      <td>2</td>\n",
              "    </tr>\n",
              "    <tr>\n",
              "      <th>26</th>\n",
              "      <td>/content/drive/MyDrive/Colab Notebooks/Boardga...</td>\n",
              "      <td>1</td>\n",
              "      <td>2</td>\n",
              "    </tr>\n",
              "    <tr>\n",
              "      <th>27</th>\n",
              "      <td>/content/drive/MyDrive/Colab Notebooks/Boardga...</td>\n",
              "      <td>0</td>\n",
              "      <td>2</td>\n",
              "    </tr>\n",
              "    <tr>\n",
              "      <th>28</th>\n",
              "      <td>/content/drive/MyDrive/Colab Notebooks/Boardga...</td>\n",
              "      <td>0</td>\n",
              "      <td>2</td>\n",
              "    </tr>\n",
              "    <tr>\n",
              "      <th>29</th>\n",
              "      <td>/content/drive/MyDrive/Colab Notebooks/Boardga...</td>\n",
              "      <td>0</td>\n",
              "      <td>2</td>\n",
              "    </tr>\n",
              "    <tr>\n",
              "      <th>30</th>\n",
              "      <td>/content/drive/MyDrive/Colab Notebooks/Boardga...</td>\n",
              "      <td>1</td>\n",
              "      <td>2</td>\n",
              "    </tr>\n",
              "    <tr>\n",
              "      <th>31</th>\n",
              "      <td>/content/drive/MyDrive/Colab Notebooks/Boardga...</td>\n",
              "      <td>1</td>\n",
              "      <td>2</td>\n",
              "    </tr>\n",
              "    <tr>\n",
              "      <th>32</th>\n",
              "      <td>/content/drive/MyDrive/Colab Notebooks/Boardga...</td>\n",
              "      <td>1</td>\n",
              "      <td>2</td>\n",
              "    </tr>\n",
              "    <tr>\n",
              "      <th>33</th>\n",
              "      <td>/content/drive/MyDrive/Colab Notebooks/Boardga...</td>\n",
              "      <td>0</td>\n",
              "      <td>2</td>\n",
              "    </tr>\n",
              "    <tr>\n",
              "      <th>34</th>\n",
              "      <td>/content/drive/MyDrive/Colab Notebooks/Boardga...</td>\n",
              "      <td>0</td>\n",
              "      <td>2</td>\n",
              "    </tr>\n",
              "    <tr>\n",
              "      <th>35</th>\n",
              "      <td>/content/drive/MyDrive/Colab Notebooks/Boardga...</td>\n",
              "      <td>0</td>\n",
              "      <td>2</td>\n",
              "    </tr>\n",
              "    <tr>\n",
              "      <th>36</th>\n",
              "      <td>/content/drive/MyDrive/Colab Notebooks/Boardga...</td>\n",
              "      <td>1</td>\n",
              "      <td>2</td>\n",
              "    </tr>\n",
              "    <tr>\n",
              "      <th>37</th>\n",
              "      <td>/content/drive/MyDrive/Colab Notebooks/Boardga...</td>\n",
              "      <td>0</td>\n",
              "      <td>2</td>\n",
              "    </tr>\n",
              "    <tr>\n",
              "      <th>38</th>\n",
              "      <td>/content/drive/MyDrive/Colab Notebooks/Boardga...</td>\n",
              "      <td>0</td>\n",
              "      <td>2</td>\n",
              "    </tr>\n",
              "    <tr>\n",
              "      <th>39</th>\n",
              "      <td>/content/drive/MyDrive/Colab Notebooks/Boardga...</td>\n",
              "      <td>0</td>\n",
              "      <td>2</td>\n",
              "    </tr>\n",
              "    <tr>\n",
              "      <th>40</th>\n",
              "      <td>/content/drive/MyDrive/Colab Notebooks/Boardga...</td>\n",
              "      <td>1</td>\n",
              "      <td>2</td>\n",
              "    </tr>\n",
              "  </tbody>\n",
              "</table>\n",
              "</div>\n",
              "      <button class=\"colab-df-convert\" onclick=\"convertToInteractive('df-91a0c7c2-bf64-4d5f-b46a-a0f77549ccde')\"\n",
              "              title=\"Convert this dataframe to an interactive table.\"\n",
              "              style=\"display:none;\">\n",
              "        \n",
              "  <svg xmlns=\"http://www.w3.org/2000/svg\" height=\"24px\"viewBox=\"0 0 24 24\"\n",
              "       width=\"24px\">\n",
              "    <path d=\"M0 0h24v24H0V0z\" fill=\"none\"/>\n",
              "    <path d=\"M18.56 5.44l.94 2.06.94-2.06 2.06-.94-2.06-.94-.94-2.06-.94 2.06-2.06.94zm-11 1L8.5 8.5l.94-2.06 2.06-.94-2.06-.94L8.5 2.5l-.94 2.06-2.06.94zm10 10l.94 2.06.94-2.06 2.06-.94-2.06-.94-.94-2.06-.94 2.06-2.06.94z\"/><path d=\"M17.41 7.96l-1.37-1.37c-.4-.4-.92-.59-1.43-.59-.52 0-1.04.2-1.43.59L10.3 9.45l-7.72 7.72c-.78.78-.78 2.05 0 2.83L4 21.41c.39.39.9.59 1.41.59.51 0 1.02-.2 1.41-.59l7.78-7.78 2.81-2.81c.8-.78.8-2.07 0-2.86zM5.41 20L4 18.59l7.72-7.72 1.47 1.35L5.41 20z\"/>\n",
              "  </svg>\n",
              "      </button>\n",
              "      \n",
              "  <style>\n",
              "    .colab-df-container {\n",
              "      display:flex;\n",
              "      flex-wrap:wrap;\n",
              "      gap: 12px;\n",
              "    }\n",
              "\n",
              "    .colab-df-convert {\n",
              "      background-color: #E8F0FE;\n",
              "      border: none;\n",
              "      border-radius: 50%;\n",
              "      cursor: pointer;\n",
              "      display: none;\n",
              "      fill: #1967D2;\n",
              "      height: 32px;\n",
              "      padding: 0 0 0 0;\n",
              "      width: 32px;\n",
              "    }\n",
              "\n",
              "    .colab-df-convert:hover {\n",
              "      background-color: #E2EBFA;\n",
              "      box-shadow: 0px 1px 2px rgba(60, 64, 67, 0.3), 0px 1px 3px 1px rgba(60, 64, 67, 0.15);\n",
              "      fill: #174EA6;\n",
              "    }\n",
              "\n",
              "    [theme=dark] .colab-df-convert {\n",
              "      background-color: #3B4455;\n",
              "      fill: #D2E3FC;\n",
              "    }\n",
              "\n",
              "    [theme=dark] .colab-df-convert:hover {\n",
              "      background-color: #434B5C;\n",
              "      box-shadow: 0px 1px 3px 1px rgba(0, 0, 0, 0.15);\n",
              "      filter: drop-shadow(0px 1px 2px rgba(0, 0, 0, 0.3));\n",
              "      fill: #FFFFFF;\n",
              "    }\n",
              "  </style>\n",
              "\n",
              "      <script>\n",
              "        const buttonEl =\n",
              "          document.querySelector('#df-91a0c7c2-bf64-4d5f-b46a-a0f77549ccde button.colab-df-convert');\n",
              "        buttonEl.style.display =\n",
              "          google.colab.kernel.accessAllowed ? 'block' : 'none';\n",
              "\n",
              "        async function convertToInteractive(key) {\n",
              "          const element = document.querySelector('#df-91a0c7c2-bf64-4d5f-b46a-a0f77549ccde');\n",
              "          const dataTable =\n",
              "            await google.colab.kernel.invokeFunction('convertToInteractive',\n",
              "                                                     [key], {});\n",
              "          if (!dataTable) return;\n",
              "\n",
              "          const docLinkHtml = 'Like what you see? Visit the ' +\n",
              "            '<a target=\"_blank\" href=https://colab.research.google.com/notebooks/data_table.ipynb>data table notebook</a>'\n",
              "            + ' to learn more about interactive tables.';\n",
              "          element.innerHTML = '';\n",
              "          dataTable['output_type'] = 'display_data';\n",
              "          await google.colab.output.renderOutput(dataTable, element);\n",
              "          const docLink = document.createElement('div');\n",
              "          docLink.innerHTML = docLinkHtml;\n",
              "          element.appendChild(docLink);\n",
              "        }\n",
              "      </script>\n",
              "    </div>\n",
              "  </div>\n",
              "  "
            ]
          },
          "metadata": {},
          "execution_count": 50
        }
      ],
      "source": [
        "wrong_df = check_eval_df[check_eval_df['pred'] != check_eval_df['target']]\n",
        "wrong_df = wrong_df.reset_index(drop=True)\n",
        "wrong_df"
      ]
    },
    {
      "cell_type": "code",
      "source": [
        "wrong_df.iloc[18]['path']"
      ],
      "metadata": {
        "colab": {
          "base_uri": "https://localhost:8080/",
          "height": 35
        },
        "id": "v6v6fmQRrQgB",
        "outputId": "224b21d3-4dc4-42ee-85e4-0f5da07120fb"
      },
      "id": "v6v6fmQRrQgB",
      "execution_count": null,
      "outputs": [
        {
          "output_type": "execute_result",
          "data": {
            "text/plain": [
              "'/content/drive/MyDrive/Colab Notebooks/Boardgame/data/웰컴백투더던전/점수카드3/웰컴백투더던전_점수카드3_8_label2.jpg'"
            ],
            "application/vnd.google.colaboratory.intrinsic+json": {
              "type": "string"
            }
          },
          "metadata": {},
          "execution_count": 63
        }
      ]
    },
    {
      "cell_type": "code",
      "execution_count": null,
      "id": "b7d8c1d3-43bd-4da6-a0f1-b9e1f69d669f",
      "metadata": {
        "id": "b7d8c1d3-43bd-4da6-a0f1-b9e1f69d669f"
      },
      "outputs": [],
      "source": [
        "def draw(df):\n",
        "    plt.figure(figsize = (15, 30))\n",
        "    row = 7\n",
        "    for i in range(df.shape[0]):\n",
        "        plt.subplot(row+1, df.shape[0]//row, i+1)\n",
        "        plt.imshow(Image.open(df['path'][i]))\n",
        "        pathes = df['path'][i].split('_')\n",
        "        gender = pathes[1][0]\n",
        "        age = pathes[3]\n",
        "        result = 'pred:' + str(df['pred'][i]) + ' ans: ' + str(df['target'][i]) # gender + age + ' ' + \n",
        "#         print(result)\n",
        "        plt.title(result)\n",
        "        plt.axis('off')\n",
        "    plt.tight_layout()\n",
        "    plt.show()"
      ]
    },
    {
      "cell_type": "code",
      "execution_count": null,
      "id": "4a3d943b-f774-4b76-9b86-30595ead7833",
      "metadata": {
        "id": "4a3d943b-f774-4b76-9b86-30595ead7833",
        "outputId": "78e14564-1137-4ca3-953b-63815b4ae110"
      },
      "outputs": [
        {
          "name": "stderr",
          "output_type": "stream",
          "text": [
            "<ipython-input-77-cb5d398602c5>:14: UserWarning: Tight layout not applied. tight_layout cannot make axes width small enough to accommodate all axes decorations\n",
            "  plt.tight_layout()\n"
          ]
        },
        {
          "data": {
            "image/png": "[encoded data removed]",
            "text/plain": [
              "<Figure size 1080x2160 with 164 Axes>"
            ]
          },
          "metadata": {
            "needs_background": "light"
          },
          "output_type": "display_data"
        }
      ],
      "source": [
        "draw(wrong_df)"
      ]
    },
    {
      "cell_type": "code",
      "execution_count": null,
      "id": "7bf0b3d5-07fb-4f98-aa02-7b7c0d5d4a51",
      "metadata": {
        "id": "7bf0b3d5-07fb-4f98-aa02-7b7c0d5d4a51",
        "outputId": "2324bdca-5cff-4d43-aac3-852d4827521f"
      },
      "outputs": [
        {
          "data": {
            "text/plain": [
              "0.9577748896884659"
            ]
          },
          "execution_count": 79,
          "metadata": {},
          "output_type": "execute_result"
        }
      ],
      "source": [
        "from sklearn.metrics import accuracy_score, recall_score, precision_score, f1_score\n",
        "f1_score(check_eval_df['target'], check_eval_df['pred'], average = 'macro')"
      ]
    },
    {
      "cell_type": "code",
      "execution_count": null,
      "id": "593ca90f-d258-41f1-a835-0eb7cb6ef70c",
      "metadata": {
        "id": "593ca90f-d258-41f1-a835-0eb7cb6ef70c"
      },
      "outputs": [],
      "source": [
        "# 테스트 데이터셋 폴더 경로를 지정해주세요.\n",
        "test_dir = './input/data/eval'"
      ]
    },
    {
      "cell_type": "code",
      "execution_count": null,
      "id": "46a45d4d-3dd3-4f44-a698-e1544b34ccb1",
      "metadata": {
        "id": "46a45d4d-3dd3-4f44-a698-e1544b34ccb1"
      },
      "outputs": [],
      "source": [
        "class TestDataset(Dataset):\n",
        "    def __init__(self, img_paths, transform):\n",
        "        self.img_paths = img_paths\n",
        "        self.transform = transform\n",
        "\n",
        "    def __getitem__(self, index):\n",
        "        image = Image.open(self.img_paths[index])\n",
        "\n",
        "        if self.transform:\n",
        "            image = self.transform(image)\n",
        "        return image\n",
        "\n",
        "    def __len__(self):\n",
        "        return len(self.img_paths)"
      ]
    },
    {
      "cell_type": "code",
      "execution_count": null,
      "id": "6a2c1ad7-3dd4-480c-8aaf-a85cde2769a6",
      "metadata": {
        "id": "6a2c1ad7-3dd4-480c-8aaf-a85cde2769a6",
        "outputId": "cabbb4e3-71fa-434e-c989-6ae8c37b537c"
      },
      "outputs": [
        {
          "name": "stdout",
          "output_type": "stream",
          "text": [
            "test inference is done!\n"
          ]
        }
      ],
      "source": [
        "submission = pd.read_csv(os.path.join(test_dir, 'info.csv'))\n",
        "image_dir = os.path.join(test_dir, 'images')\n",
        "\n",
        "# Test Dataset 클래스 객체를 생성하고 DataLoader를 만듭니다.\n",
        "image_paths = [os.path.join(image_dir, img_id) for img_id in submission.ImageID]\n",
        "transform = transforms.Compose([\n",
        "    transforms.Resize((512, 384), Image.BILINEAR),\n",
        "    transforms.ToTensor(),\n",
        "    transforms.Normalize(mean=(0.5, 0.5, 0.5), std=(0.2, 0.2, 0.2)),\n",
        "])\n",
        "dataset = TestDataset(image_paths, transform)\n",
        "\n",
        "loader = DataLoader(\n",
        "    dataset,\n",
        "    shuffle=False,\n",
        "    num_workers=2\n",
        ")\n",
        "\n",
        "# # 모델을 정의합니다. (학습한 모델이 있다면 torch.load로 모델을 불러주세요!)\n",
        "# device = torch.device('cuda')\n",
        "# model = MyModel(num_classes=18).to(device)\n",
        "# model.eval()\n",
        "\n",
        "# 모델이 테스트 데이터셋을 예측하고 결과를 저장합니다.\n",
        "all_predictions = []\n",
        "for images in loader:\n",
        "    with torch.no_grad():\n",
        "        images = images.to(device)\n",
        "        pred = resnet18(images)\n",
        "        pred = pred.argmax(dim=-1)\n",
        "        all_predictions.extend(pred.cpu().numpy())\n",
        "submission['ans'] = all_predictions\n",
        "\n",
        "# 제출할 파일을 저장합니다.\n",
        "submission.to_csv(os.path.join(test_dir, 'submission.csv'), index=False)\n",
        "print('test inference is done!')"
      ]
    },
    {
      "cell_type": "code",
      "execution_count": null,
      "id": "c710ed84-1a5e-43d3-ab5f-693a9786f49a",
      "metadata": {
        "id": "c710ed84-1a5e-43d3-ab5f-693a9786f49a"
      },
      "outputs": [],
      "source": [
        "submission_v1 = pd.read_csv('./input/data/eval/submission_v1.csv')\n",
        "submission_v2 = pd.read_csv('./input/data/eval/submission_v2.csv')\n",
        "submission_v3 = pd.read_csv('./input/data/eval/submission_v3.csv')\n",
        "submission_v4 = pd.read_csv('./input/data/eval/submission_v4.csv')"
      ]
    },
    {
      "cell_type": "code",
      "execution_count": null,
      "id": "db90ef7e-89c9-4293-b16b-507b5c47d6d1",
      "metadata": {
        "id": "db90ef7e-89c9-4293-b16b-507b5c47d6d1",
        "outputId": "0dc844aa-b2a8-4799-aacb-ed7f5a155b73"
      },
      "outputs": [
        {
          "data": {
            "text/plain": [
              "12600"
            ]
          },
          "execution_count": 85,
          "metadata": {},
          "output_type": "execute_result"
        }
      ],
      "source": [
        "submission.shape[0]"
      ]
    },
    {
      "cell_type": "code",
      "execution_count": null,
      "id": "dab359ca-bef7-49e8-a35d-2e7822f55448",
      "metadata": {
        "id": "dab359ca-bef7-49e8-a35d-2e7822f55448"
      },
      "outputs": [],
      "source": [
        "import os\n",
        "import numpy as np\n",
        "import pandas as pd\n",
        "import matplotlib.pyplot as plt\n",
        "import matplotlib.image as img"
      ]
    },
    {
      "cell_type": "code",
      "execution_count": null,
      "id": "5cf265ca-a33b-40cd-adf0-6dbb3c2412b4",
      "metadata": {
        "id": "5cf265ca-a33b-40cd-adf0-6dbb3c2412b4",
        "outputId": "a0d00acd-e3a8-40ec-ae06-e76648bb8c76"
      },
      "outputs": [
        {
          "ename": "FileNotFoundError",
          "evalue": "[Errno 2] No such file or directory: './input/data/eval/submission.csv'",
          "output_type": "error",
          "traceback": [
            "\u001b[0;31m---------------------------------------------------------------------------\u001b[0m",
            "\u001b[0;31mFileNotFoundError\u001b[0m                         Traceback (most recent call last)",
            "\u001b[0;32m<ipython-input-87-bce9f598dcb5>\u001b[0m in \u001b[0;36m<module>\u001b[0;34m\u001b[0m\n\u001b[1;32m      1\u001b[0m \u001b[0mEVAL_IMAGE_PATH\u001b[0m \u001b[0;34m=\u001b[0m \u001b[0;34m\"/opt/ml/input/data/eval/images/\"\u001b[0m\u001b[0;34m\u001b[0m\u001b[0;34m\u001b[0m\u001b[0m\n\u001b[0;32m----> 2\u001b[0;31m \u001b[0mdata\u001b[0m \u001b[0;34m=\u001b[0m \u001b[0mpd\u001b[0m\u001b[0;34m.\u001b[0m\u001b[0mread_csv\u001b[0m\u001b[0;34m(\u001b[0m\u001b[0;34m\"./input/data/eval/submission.csv\"\u001b[0m\u001b[0;34m)\u001b[0m\u001b[0;34m\u001b[0m\u001b[0;34m\u001b[0m\u001b[0m\n\u001b[0m\u001b[1;32m      3\u001b[0m \u001b[0;34m\u001b[0m\u001b[0m\n\u001b[1;32m      4\u001b[0m \u001b[0mmask\u001b[0m \u001b[0;34m=\u001b[0m \u001b[0;34m[\u001b[0m\u001b[0;34m\"Wear\"\u001b[0m\u001b[0;34m,\u001b[0m \u001b[0;34m\"Incorrect\"\u001b[0m\u001b[0;34m,\u001b[0m \u001b[0;34m\"Not wear\"\u001b[0m\u001b[0;34m]\u001b[0m\u001b[0;34m\u001b[0m\u001b[0;34m\u001b[0m\u001b[0m\n\u001b[1;32m      5\u001b[0m \u001b[0mgender\u001b[0m \u001b[0;34m=\u001b[0m \u001b[0;34m[\u001b[0m\u001b[0;34m\"Male\"\u001b[0m\u001b[0;34m,\u001b[0m \u001b[0;34m\"Female\"\u001b[0m\u001b[0;34m]\u001b[0m\u001b[0;34m\u001b[0m\u001b[0;34m\u001b[0m\u001b[0m\n",
            "\u001b[0;32m/opt/conda/lib/python3.8/site-packages/pandas/io/parsers.py\u001b[0m in \u001b[0;36mread_csv\u001b[0;34m(filepath_or_buffer, sep, delimiter, header, names, index_col, usecols, squeeze, prefix, mangle_dupe_cols, dtype, engine, converters, true_values, false_values, skipinitialspace, skiprows, skipfooter, nrows, na_values, keep_default_na, na_filter, verbose, skip_blank_lines, parse_dates, infer_datetime_format, keep_date_col, date_parser, dayfirst, cache_dates, iterator, chunksize, compression, thousands, decimal, lineterminator, quotechar, quoting, doublequote, escapechar, comment, encoding, dialect, error_bad_lines, warn_bad_lines, delim_whitespace, low_memory, memory_map, float_precision)\u001b[0m\n\u001b[1;32m    686\u001b[0m     )\n\u001b[1;32m    687\u001b[0m \u001b[0;34m\u001b[0m\u001b[0m\n\u001b[0;32m--> 688\u001b[0;31m     \u001b[0;32mreturn\u001b[0m \u001b[0m_read\u001b[0m\u001b[0;34m(\u001b[0m\u001b[0mfilepath_or_buffer\u001b[0m\u001b[0;34m,\u001b[0m \u001b[0mkwds\u001b[0m\u001b[0;34m)\u001b[0m\u001b[0;34m\u001b[0m\u001b[0;34m\u001b[0m\u001b[0m\n\u001b[0m\u001b[1;32m    689\u001b[0m \u001b[0;34m\u001b[0m\u001b[0m\n\u001b[1;32m    690\u001b[0m \u001b[0;34m\u001b[0m\u001b[0m\n",
            "\u001b[0;32m/opt/conda/lib/python3.8/site-packages/pandas/io/parsers.py\u001b[0m in \u001b[0;36m_read\u001b[0;34m(filepath_or_buffer, kwds)\u001b[0m\n\u001b[1;32m    452\u001b[0m \u001b[0;34m\u001b[0m\u001b[0m\n\u001b[1;32m    453\u001b[0m     \u001b[0;31m# Create the parser.\u001b[0m\u001b[0;34m\u001b[0m\u001b[0;34m\u001b[0m\u001b[0;34m\u001b[0m\u001b[0m\n\u001b[0;32m--> 454\u001b[0;31m     \u001b[0mparser\u001b[0m \u001b[0;34m=\u001b[0m \u001b[0mTextFileReader\u001b[0m\u001b[0;34m(\u001b[0m\u001b[0mfp_or_buf\u001b[0m\u001b[0;34m,\u001b[0m \u001b[0;34m**\u001b[0m\u001b[0mkwds\u001b[0m\u001b[0;34m)\u001b[0m\u001b[0;34m\u001b[0m\u001b[0;34m\u001b[0m\u001b[0m\n\u001b[0m\u001b[1;32m    455\u001b[0m \u001b[0;34m\u001b[0m\u001b[0m\n\u001b[1;32m    456\u001b[0m     \u001b[0;32mif\u001b[0m \u001b[0mchunksize\u001b[0m \u001b[0;32mor\u001b[0m \u001b[0miterator\u001b[0m\u001b[0;34m:\u001b[0m\u001b[0;34m\u001b[0m\u001b[0;34m\u001b[0m\u001b[0m\n",
            "\u001b[0;32m/opt/conda/lib/python3.8/site-packages/pandas/io/parsers.py\u001b[0m in \u001b[0;36m__init__\u001b[0;34m(self, f, engine, **kwds)\u001b[0m\n\u001b[1;32m    946\u001b[0m             \u001b[0mself\u001b[0m\u001b[0;34m.\u001b[0m\u001b[0moptions\u001b[0m\u001b[0;34m[\u001b[0m\u001b[0;34m\"has_index_names\"\u001b[0m\u001b[0;34m]\u001b[0m \u001b[0;34m=\u001b[0m \u001b[0mkwds\u001b[0m\u001b[0;34m[\u001b[0m\u001b[0;34m\"has_index_names\"\u001b[0m\u001b[0;34m]\u001b[0m\u001b[0;34m\u001b[0m\u001b[0;34m\u001b[0m\u001b[0m\n\u001b[1;32m    947\u001b[0m \u001b[0;34m\u001b[0m\u001b[0m\n\u001b[0;32m--> 948\u001b[0;31m         \u001b[0mself\u001b[0m\u001b[0;34m.\u001b[0m\u001b[0m_make_engine\u001b[0m\u001b[0;34m(\u001b[0m\u001b[0mself\u001b[0m\u001b[0;34m.\u001b[0m\u001b[0mengine\u001b[0m\u001b[0;34m)\u001b[0m\u001b[0;34m\u001b[0m\u001b[0;34m\u001b[0m\u001b[0m\n\u001b[0m\u001b[1;32m    949\u001b[0m \u001b[0;34m\u001b[0m\u001b[0m\n\u001b[1;32m    950\u001b[0m     \u001b[0;32mdef\u001b[0m \u001b[0mclose\u001b[0m\u001b[0;34m(\u001b[0m\u001b[0mself\u001b[0m\u001b[0;34m)\u001b[0m\u001b[0;34m:\u001b[0m\u001b[0;34m\u001b[0m\u001b[0;34m\u001b[0m\u001b[0m\n",
            "\u001b[0;32m/opt/conda/lib/python3.8/site-packages/pandas/io/parsers.py\u001b[0m in \u001b[0;36m_make_engine\u001b[0;34m(self, engine)\u001b[0m\n\u001b[1;32m   1178\u001b[0m     \u001b[0;32mdef\u001b[0m \u001b[0m_make_engine\u001b[0m\u001b[0;34m(\u001b[0m\u001b[0mself\u001b[0m\u001b[0;34m,\u001b[0m \u001b[0mengine\u001b[0m\u001b[0;34m=\u001b[0m\u001b[0;34m\"c\"\u001b[0m\u001b[0;34m)\u001b[0m\u001b[0;34m:\u001b[0m\u001b[0;34m\u001b[0m\u001b[0;34m\u001b[0m\u001b[0m\n\u001b[1;32m   1179\u001b[0m         \u001b[0;32mif\u001b[0m \u001b[0mengine\u001b[0m \u001b[0;34m==\u001b[0m \u001b[0;34m\"c\"\u001b[0m\u001b[0;34m:\u001b[0m\u001b[0;34m\u001b[0m\u001b[0;34m\u001b[0m\u001b[0m\n\u001b[0;32m-> 1180\u001b[0;31m             \u001b[0mself\u001b[0m\u001b[0;34m.\u001b[0m\u001b[0m_engine\u001b[0m \u001b[0;34m=\u001b[0m \u001b[0mCParserWrapper\u001b[0m\u001b[0;34m(\u001b[0m\u001b[0mself\u001b[0m\u001b[0;34m.\u001b[0m\u001b[0mf\u001b[0m\u001b[0;34m,\u001b[0m \u001b[0;34m**\u001b[0m\u001b[0mself\u001b[0m\u001b[0;34m.\u001b[0m\u001b[0moptions\u001b[0m\u001b[0;34m)\u001b[0m\u001b[0;34m\u001b[0m\u001b[0;34m\u001b[0m\u001b[0m\n\u001b[0m\u001b[1;32m   1181\u001b[0m         \u001b[0;32melse\u001b[0m\u001b[0;34m:\u001b[0m\u001b[0;34m\u001b[0m\u001b[0;34m\u001b[0m\u001b[0m\n\u001b[1;32m   1182\u001b[0m             \u001b[0;32mif\u001b[0m \u001b[0mengine\u001b[0m \u001b[0;34m==\u001b[0m \u001b[0;34m\"python\"\u001b[0m\u001b[0;34m:\u001b[0m\u001b[0;34m\u001b[0m\u001b[0;34m\u001b[0m\u001b[0m\n",
            "\u001b[0;32m/opt/conda/lib/python3.8/site-packages/pandas/io/parsers.py\u001b[0m in \u001b[0;36m__init__\u001b[0;34m(self, src, **kwds)\u001b[0m\n\u001b[1;32m   2008\u001b[0m         \u001b[0mkwds\u001b[0m\u001b[0;34m[\u001b[0m\u001b[0;34m\"usecols\"\u001b[0m\u001b[0;34m]\u001b[0m \u001b[0;34m=\u001b[0m \u001b[0mself\u001b[0m\u001b[0;34m.\u001b[0m\u001b[0musecols\u001b[0m\u001b[0;34m\u001b[0m\u001b[0;34m\u001b[0m\u001b[0m\n\u001b[1;32m   2009\u001b[0m \u001b[0;34m\u001b[0m\u001b[0m\n\u001b[0;32m-> 2010\u001b[0;31m         \u001b[0mself\u001b[0m\u001b[0;34m.\u001b[0m\u001b[0m_reader\u001b[0m \u001b[0;34m=\u001b[0m \u001b[0mparsers\u001b[0m\u001b[0;34m.\u001b[0m\u001b[0mTextReader\u001b[0m\u001b[0;34m(\u001b[0m\u001b[0msrc\u001b[0m\u001b[0;34m,\u001b[0m \u001b[0;34m**\u001b[0m\u001b[0mkwds\u001b[0m\u001b[0;34m)\u001b[0m\u001b[0;34m\u001b[0m\u001b[0;34m\u001b[0m\u001b[0m\n\u001b[0m\u001b[1;32m   2011\u001b[0m         \u001b[0mself\u001b[0m\u001b[0;34m.\u001b[0m\u001b[0munnamed_cols\u001b[0m \u001b[0;34m=\u001b[0m \u001b[0mself\u001b[0m\u001b[0;34m.\u001b[0m\u001b[0m_reader\u001b[0m\u001b[0;34m.\u001b[0m\u001b[0munnamed_cols\u001b[0m\u001b[0;34m\u001b[0m\u001b[0;34m\u001b[0m\u001b[0m\n\u001b[1;32m   2012\u001b[0m \u001b[0;34m\u001b[0m\u001b[0m\n",
            "\u001b[0;32mpandas/_libs/parsers.pyx\u001b[0m in \u001b[0;36mpandas._libs.parsers.TextReader.__cinit__\u001b[0;34m()\u001b[0m\n",
            "\u001b[0;32mpandas/_libs/parsers.pyx\u001b[0m in \u001b[0;36mpandas._libs.parsers.TextReader._setup_parser_source\u001b[0;34m()\u001b[0m\n",
            "\u001b[0;31mFileNotFoundError\u001b[0m: [Errno 2] No such file or directory: './input/data/eval/submission.csv'"
          ]
        }
      ],
      "source": [
        "EVAL_IMAGE_PATH = \"/opt/ml/input/data/eval/images/\"\n",
        "data = pd.read_csv(\"./input/data/eval/submission.csv\")\n",
        "\n",
        "mask = [\"Wear\", \"Incorrect\", \"Not wear\"]\n",
        "gender = [\"Male\", \"Female\"]\n",
        "age = [\"Young\", \"Middle\", \"Old\"]\n",
        "\n",
        "cls_dict = {}\n",
        "\n",
        "i = 0\n",
        "\n",
        "for m in mask:\n",
        "    for g in gender:\n",
        "        for a in age:\n",
        "            cls_dict[i] = (m, g, a)\n",
        "            i += 1\n",
        "\n",
        "num_of_sample = 20\n",
        "n, m = 5, num_of_sample//5\n",
        "\n",
        "fig, axes = plt.subplots(n, m, figsize=(n*3, m*3))\n",
        "\n",
        "sample = data.sample(num_of_sample)\n",
        "\n",
        "for i, ax in enumerate(axes.flatten()):\n",
        "    c = cls_dict[list(sample.ans)[i]]\n",
        "    ax.set_title(c)\n",
        "    ax.axis('off')\n",
        "    im = img.imread(EVAL_IMAGE_PATH + list(sample.ImageID)[i])\n",
        "    ax.imshow(im)"
      ]
    },
    {
      "cell_type": "code",
      "execution_count": null,
      "id": "eaacb26d-0fa1-4902-86b5-bbfd43121e4f",
      "metadata": {
        "id": "eaacb26d-0fa1-4902-86b5-bbfd43121e4f"
      },
      "outputs": [],
      "source": [
        "submission_v1['v2_ans'] = submission_v2['ans']\n",
        "submission_v1['v3_ans'] = submission_v3['ans']\n",
        "submission_v1['v4_ans'] = submission_v4['ans']"
      ]
    },
    {
      "cell_type": "code",
      "execution_count": null,
      "id": "d47f5009-27a5-4744-abc4-96c60dc7826e",
      "metadata": {
        "id": "d47f5009-27a5-4744-abc4-96c60dc7826e",
        "outputId": "0fd85527-750a-445c-eb2a-402c262fff0f"
      },
      "outputs": [
        {
          "data": {
            "text/html": [
              "<div>\n",
              "<style scoped>\n",
              "    .dataframe tbody tr th:only-of-type {\n",
              "        vertical-align: middle;\n",
              "    }\n",
              "\n",
              "    .dataframe tbody tr th {\n",
              "        vertical-align: top;\n",
              "    }\n",
              "\n",
              "    .dataframe thead th {\n",
              "        text-align: right;\n",
              "    }\n",
              "</style>\n",
              "<table border=\"1\" class=\"dataframe\">\n",
              "  <thead>\n",
              "    <tr style=\"text-align: right;\">\n",
              "      <th></th>\n",
              "      <th>ImageID</th>\n",
              "      <th>ans</th>\n",
              "      <th>v2_ans</th>\n",
              "      <th>v3_ans</th>\n",
              "      <th>v4_ans</th>\n",
              "    </tr>\n",
              "  </thead>\n",
              "  <tbody>\n",
              "    <tr>\n",
              "      <th>12026</th>\n",
              "      <td>3ccb7e4b880787c09a41efc1ad0e49206ae22030.jpg</td>\n",
              "      <td>9</td>\n",
              "      <td>9</td>\n",
              "      <td>9</td>\n",
              "      <td>3</td>\n",
              "    </tr>\n",
              "    <tr>\n",
              "      <th>3104</th>\n",
              "      <td>421c904971e506fd642b47ff342f89aa8e21bc75.jpg</td>\n",
              "      <td>1</td>\n",
              "      <td>1</td>\n",
              "      <td>1</td>\n",
              "      <td>2</td>\n",
              "    </tr>\n",
              "    <tr>\n",
              "      <th>1602</th>\n",
              "      <td>85cdb0cb83b3f76f1c675db1ba9d641184ee8031.jpg</td>\n",
              "      <td>1</td>\n",
              "      <td>1</td>\n",
              "      <td>1</td>\n",
              "      <td>2</td>\n",
              "    </tr>\n",
              "    <tr>\n",
              "      <th>4918</th>\n",
              "      <td>a57f71692eb673ea610962c6d3a826fb9b243bf9.jpg</td>\n",
              "      <td>5</td>\n",
              "      <td>5</td>\n",
              "      <td>2</td>\n",
              "      <td>3</td>\n",
              "    </tr>\n",
              "    <tr>\n",
              "      <th>5142</th>\n",
              "      <td>72f1dfc9199428f820cf8b61148b27187767b970.jpg</td>\n",
              "      <td>0</td>\n",
              "      <td>0</td>\n",
              "      <td>2</td>\n",
              "      <td>2</td>\n",
              "    </tr>\n",
              "    <tr>\n",
              "      <th>8909</th>\n",
              "      <td>a55801aac34058f0bc9a48144ef3db162e220ff2.jpg</td>\n",
              "      <td>7</td>\n",
              "      <td>7</td>\n",
              "      <td>7</td>\n",
              "      <td>3</td>\n",
              "    </tr>\n",
              "    <tr>\n",
              "      <th>651</th>\n",
              "      <td>2d3f706ec5533224bbe7acf43d898f6c6b7ae21b.jpg</td>\n",
              "      <td>4</td>\n",
              "      <td>4</td>\n",
              "      <td>5</td>\n",
              "      <td>2</td>\n",
              "    </tr>\n",
              "    <tr>\n",
              "      <th>5108</th>\n",
              "      <td>6a7a095f98f3a1dff726e18bcd5fe1cf7fe84526.jpg</td>\n",
              "      <td>2</td>\n",
              "      <td>2</td>\n",
              "      <td>1</td>\n",
              "      <td>2</td>\n",
              "    </tr>\n",
              "    <tr>\n",
              "      <th>6564</th>\n",
              "      <td>081408683df382e3a75a27e6d95a7d43804717f0.jpg</td>\n",
              "      <td>13</td>\n",
              "      <td>13</td>\n",
              "      <td>13</td>\n",
              "      <td>3</td>\n",
              "    </tr>\n",
              "    <tr>\n",
              "      <th>10843</th>\n",
              "      <td>3befbd93c22c97b1f5278ef204daaf3f75f7bf1d.jpg</td>\n",
              "      <td>1</td>\n",
              "      <td>1</td>\n",
              "      <td>2</td>\n",
              "      <td>3</td>\n",
              "    </tr>\n",
              "    <tr>\n",
              "      <th>9009</th>\n",
              "      <td>ba5e6944e7037f00a30387ef4ca2fb5c46d418c6.jpg</td>\n",
              "      <td>1</td>\n",
              "      <td>1</td>\n",
              "      <td>1</td>\n",
              "      <td>2</td>\n",
              "    </tr>\n",
              "    <tr>\n",
              "      <th>11816</th>\n",
              "      <td>b425fa925b88c0d37c23a44becd8a406c35fc7c4.jpg</td>\n",
              "      <td>4</td>\n",
              "      <td>4</td>\n",
              "      <td>4</td>\n",
              "      <td>0</td>\n",
              "    </tr>\n",
              "    <tr>\n",
              "      <th>1391</th>\n",
              "      <td>4e4acf8e666150ffe6697fceb29ef51d31fe15c8.jpg</td>\n",
              "      <td>1</td>\n",
              "      <td>1</td>\n",
              "      <td>1</td>\n",
              "      <td>3</td>\n",
              "    </tr>\n",
              "    <tr>\n",
              "      <th>286</th>\n",
              "      <td>bde7aad76aad752c2ae6b262ce8ea3ca814434a0.jpg</td>\n",
              "      <td>1</td>\n",
              "      <td>1</td>\n",
              "      <td>1</td>\n",
              "      <td>2</td>\n",
              "    </tr>\n",
              "    <tr>\n",
              "      <th>9107</th>\n",
              "      <td>5a62c734a6961718b4d2241e29d76ada1406a51c.jpg</td>\n",
              "      <td>4</td>\n",
              "      <td>4</td>\n",
              "      <td>4</td>\n",
              "      <td>11</td>\n",
              "    </tr>\n",
              "    <tr>\n",
              "      <th>7854</th>\n",
              "      <td>555c385dbe66862b48df41a123b6ef548d93e537.jpg</td>\n",
              "      <td>0</td>\n",
              "      <td>0</td>\n",
              "      <td>0</td>\n",
              "      <td>0</td>\n",
              "    </tr>\n",
              "    <tr>\n",
              "      <th>7761</th>\n",
              "      <td>71034129d98d96767001065b73639ab25653d10f.jpg</td>\n",
              "      <td>1</td>\n",
              "      <td>1</td>\n",
              "      <td>1</td>\n",
              "      <td>2</td>\n",
              "    </tr>\n",
              "    <tr>\n",
              "      <th>10557</th>\n",
              "      <td>00ff47b7e84b7680ec107132753e113606c16199.jpg</td>\n",
              "      <td>0</td>\n",
              "      <td>0</td>\n",
              "      <td>0</td>\n",
              "      <td>0</td>\n",
              "    </tr>\n",
              "    <tr>\n",
              "      <th>4561</th>\n",
              "      <td>c914aee836d9789d219bfeaec9f5c6c727d1d81e.jpg</td>\n",
              "      <td>1</td>\n",
              "      <td>1</td>\n",
              "      <td>1</td>\n",
              "      <td>2</td>\n",
              "    </tr>\n",
              "    <tr>\n",
              "      <th>1922</th>\n",
              "      <td>573f3e0037690b74dcea7f741164d2a8d29680fa.jpg</td>\n",
              "      <td>9</td>\n",
              "      <td>9</td>\n",
              "      <td>9</td>\n",
              "      <td>2</td>\n",
              "    </tr>\n",
              "    <tr>\n",
              "      <th>7410</th>\n",
              "      <td>d8d0d677353727235f64e02d49552a0d6162f498.jpg</td>\n",
              "      <td>0</td>\n",
              "      <td>0</td>\n",
              "      <td>0</td>\n",
              "      <td>0</td>\n",
              "    </tr>\n",
              "    <tr>\n",
              "      <th>2161</th>\n",
              "      <td>ee221d83b30a158d99514075bc139b2f66bb1470.jpg</td>\n",
              "      <td>2</td>\n",
              "      <td>2</td>\n",
              "      <td>1</td>\n",
              "      <td>2</td>\n",
              "    </tr>\n",
              "    <tr>\n",
              "      <th>7291</th>\n",
              "      <td>7b1464bd28ab355691ccda0dd016b985fb9bdbc2.jpg</td>\n",
              "      <td>12</td>\n",
              "      <td>12</td>\n",
              "      <td>12</td>\n",
              "      <td>0</td>\n",
              "    </tr>\n",
              "    <tr>\n",
              "      <th>11087</th>\n",
              "      <td>6a52a246d64caea290144f34f8b4f68325b2a074.jpg</td>\n",
              "      <td>6</td>\n",
              "      <td>6</td>\n",
              "      <td>6</td>\n",
              "      <td>0</td>\n",
              "    </tr>\n",
              "    <tr>\n",
              "      <th>7331</th>\n",
              "      <td>b6fc1ed2517de79822d0e4d97615bd8a87a84497.jpg</td>\n",
              "      <td>3</td>\n",
              "      <td>3</td>\n",
              "      <td>3</td>\n",
              "      <td>2</td>\n",
              "    </tr>\n",
              "    <tr>\n",
              "      <th>2386</th>\n",
              "      <td>e723e11b83353da3ccad35f3cfc7373c0fc4470d.jpg</td>\n",
              "      <td>8</td>\n",
              "      <td>7</td>\n",
              "      <td>7</td>\n",
              "      <td>3</td>\n",
              "    </tr>\n",
              "    <tr>\n",
              "      <th>99</th>\n",
              "      <td>94cde3ef6bf7fa424930de397d3a4d54ab3f549c.jpg</td>\n",
              "      <td>0</td>\n",
              "      <td>0</td>\n",
              "      <td>3</td>\n",
              "      <td>0</td>\n",
              "    </tr>\n",
              "    <tr>\n",
              "      <th>12365</th>\n",
              "      <td>c78ed87e3308a2850c21a176df5f1f94584b56e5.jpg</td>\n",
              "      <td>10</td>\n",
              "      <td>10</td>\n",
              "      <td>9</td>\n",
              "      <td>2</td>\n",
              "    </tr>\n",
              "    <tr>\n",
              "      <th>8509</th>\n",
              "      <td>028898284e1eec0157c4a39d2af823cf7fbdf381.jpg</td>\n",
              "      <td>0</td>\n",
              "      <td>0</td>\n",
              "      <td>0</td>\n",
              "      <td>0</td>\n",
              "    </tr>\n",
              "    <tr>\n",
              "      <th>721</th>\n",
              "      <td>4326567f27470b1e350e711cf2ae873b736395af.jpg</td>\n",
              "      <td>1</td>\n",
              "      <td>1</td>\n",
              "      <td>1</td>\n",
              "      <td>3</td>\n",
              "    </tr>\n",
              "  </tbody>\n",
              "</table>\n",
              "</div>"
            ],
            "text/plain": [
              "                                            ImageID  ans  v2_ans  v3_ans  \\\n",
              "12026  3ccb7e4b880787c09a41efc1ad0e49206ae22030.jpg    9       9       9   \n",
              "3104   421c904971e506fd642b47ff342f89aa8e21bc75.jpg    1       1       1   \n",
              "1602   85cdb0cb83b3f76f1c675db1ba9d641184ee8031.jpg    1       1       1   \n",
              "4918   a57f71692eb673ea610962c6d3a826fb9b243bf9.jpg    5       5       2   \n",
              "5142   72f1dfc9199428f820cf8b61148b27187767b970.jpg    0       0       2   \n",
              "8909   a55801aac34058f0bc9a48144ef3db162e220ff2.jpg    7       7       7   \n",
              "651    2d3f706ec5533224bbe7acf43d898f6c6b7ae21b.jpg    4       4       5   \n",
              "5108   6a7a095f98f3a1dff726e18bcd5fe1cf7fe84526.jpg    2       2       1   \n",
              "6564   081408683df382e3a75a27e6d95a7d43804717f0.jpg   13      13      13   \n",
              "10843  3befbd93c22c97b1f5278ef204daaf3f75f7bf1d.jpg    1       1       2   \n",
              "9009   ba5e6944e7037f00a30387ef4ca2fb5c46d418c6.jpg    1       1       1   \n",
              "11816  b425fa925b88c0d37c23a44becd8a406c35fc7c4.jpg    4       4       4   \n",
              "1391   4e4acf8e666150ffe6697fceb29ef51d31fe15c8.jpg    1       1       1   \n",
              "286    bde7aad76aad752c2ae6b262ce8ea3ca814434a0.jpg    1       1       1   \n",
              "9107   5a62c734a6961718b4d2241e29d76ada1406a51c.jpg    4       4       4   \n",
              "7854   555c385dbe66862b48df41a123b6ef548d93e537.jpg    0       0       0   \n",
              "7761   71034129d98d96767001065b73639ab25653d10f.jpg    1       1       1   \n",
              "10557  00ff47b7e84b7680ec107132753e113606c16199.jpg    0       0       0   \n",
              "4561   c914aee836d9789d219bfeaec9f5c6c727d1d81e.jpg    1       1       1   \n",
              "1922   573f3e0037690b74dcea7f741164d2a8d29680fa.jpg    9       9       9   \n",
              "7410   d8d0d677353727235f64e02d49552a0d6162f498.jpg    0       0       0   \n",
              "2161   ee221d83b30a158d99514075bc139b2f66bb1470.jpg    2       2       1   \n",
              "7291   7b1464bd28ab355691ccda0dd016b985fb9bdbc2.jpg   12      12      12   \n",
              "11087  6a52a246d64caea290144f34f8b4f68325b2a074.jpg    6       6       6   \n",
              "7331   b6fc1ed2517de79822d0e4d97615bd8a87a84497.jpg    3       3       3   \n",
              "2386   e723e11b83353da3ccad35f3cfc7373c0fc4470d.jpg    8       7       7   \n",
              "99     94cde3ef6bf7fa424930de397d3a4d54ab3f549c.jpg    0       0       3   \n",
              "12365  c78ed87e3308a2850c21a176df5f1f94584b56e5.jpg   10      10       9   \n",
              "8509   028898284e1eec0157c4a39d2af823cf7fbdf381.jpg    0       0       0   \n",
              "721    4326567f27470b1e350e711cf2ae873b736395af.jpg    1       1       1   \n",
              "\n",
              "       v4_ans  \n",
              "12026       3  \n",
              "3104        2  \n",
              "1602        2  \n",
              "4918        3  \n",
              "5142        2  \n",
              "8909        3  \n",
              "651         2  \n",
              "5108        2  \n",
              "6564        3  \n",
              "10843       3  \n",
              "9009        2  \n",
              "11816       0  \n",
              "1391        3  \n",
              "286         2  \n",
              "9107       11  \n",
              "7854        0  \n",
              "7761        2  \n",
              "10557       0  \n",
              "4561        2  \n",
              "1922        2  \n",
              "7410        0  \n",
              "2161        2  \n",
              "7291        0  \n",
              "11087       0  \n",
              "7331        2  \n",
              "2386        3  \n",
              "99          0  \n",
              "12365       2  \n",
              "8509        0  \n",
              "721         3  "
            ]
          },
          "execution_count": 89,
          "metadata": {},
          "output_type": "execute_result"
        }
      ],
      "source": [
        "submission_v1.sample(30)"
      ]
    },
    {
      "cell_type": "code",
      "execution_count": null,
      "id": "9a408366-d754-4f65-8697-43205a9cb238",
      "metadata": {
        "id": "9a408366-d754-4f65-8697-43205a9cb238",
        "outputId": "5e8a31ce-3acf-4c0b-dff1-0ab71efd0694"
      },
      "outputs": [
        {
          "data": {
            "text/plain": [
              "0        NaN\n",
              "1        2.0\n",
              "2        NaN\n",
              "3        NaN\n",
              "4        NaN\n",
              "        ... \n",
              "12595    NaN\n",
              "12596    NaN\n",
              "12597    NaN\n",
              "12598    NaN\n",
              "12599    NaN\n",
              "Name: v2_ans, Length: 12600, dtype: float64"
            ]
          },
          "execution_count": 62,
          "metadata": {},
          "output_type": "execute_result"
        }
      ],
      "source": [
        "submission_v1['v2_ans'].where(submission_v1['v2_ans'] == 2)"
      ]
    },
    {
      "cell_type": "code",
      "execution_count": null,
      "id": "e87f2d9c-d5f5-4857-88e9-7a53aeaf6b8a",
      "metadata": {
        "id": "e87f2d9c-d5f5-4857-88e9-7a53aeaf6b8a"
      },
      "outputs": [],
      "source": []
    }
  ],
  "metadata": {
    "kernelspec": {
      "display_name": "Python 3.9.7 ('base')",
      "language": "python",
      "name": "python3"
    },
    "language_info": {
      "codemirror_mode": {
        "name": "ipython",
        "version": 3
      },
      "file_extension": ".py",
      "mimetype": "text/x-python",
      "name": "python",
      "nbconvert_exporter": "python",
      "pygments_lexer": "ipython3",
      "version": "3.9.7"
    },
    "vscode": {
      "interpreter": {
        "hash": "9776916b6bd887bbe7a04c3df0b0bc2242114fdcce2080d8f1f93377e382804b"
      }
    },
    "colab": {
      "provenance": [],
      "include_colab_link": true
    },
    "accelerator": "GPU",
    "gpuClass": "standard",
    "widgets": {
      "application/vnd.jupyter.widget-state+json": {
        "c970ee500b8e4035b3fc638bc82eb5ae": {
          "model_module": "@jupyter-widgets/controls",
          "model_name": "HBoxModel",
          "model_module_version": "1.5.0",
          "state": {
            "_dom_classes": [],
            "_model_module": "@jupyter-widgets/controls",
            "_model_module_version": "1.5.0",
            "_model_name": "HBoxModel",
            "_view_count": null,
            "_view_module": "@jupyter-widgets/controls",
            "_view_module_version": "1.5.0",
            "_view_name": "HBoxView",
            "box_style": "",
            "children": [
              "IPY_MODEL_69348ae9c565494bb385a45c6894c4c9",
              "IPY_MODEL_c484acc314ac4e3ebef6af7d54d96674",
              "IPY_MODEL_0373c4254cc8408299b3d647a9321019"
            ],
            "layout": "IPY_MODEL_5e9d3bd461014ee3a2ec639494c5c016"
          }
        },
        "69348ae9c565494bb385a45c6894c4c9": {
          "model_module": "@jupyter-widgets/controls",
          "model_name": "HTMLModel",
          "model_module_version": "1.5.0",
          "state": {
            "_dom_classes": [],
            "_model_module": "@jupyter-widgets/controls",
            "_model_module_version": "1.5.0",
            "_model_name": "HTMLModel",
            "_view_count": null,
            "_view_module": "@jupyter-widgets/controls",
            "_view_module_version": "1.5.0",
            "_view_name": "HTMLView",
            "description": "",
            "description_tooltip": null,
            "layout": "IPY_MODEL_6706b9f3dcfc42c5be2a6ca31ede4e1e",
            "placeholder": "​",
            "style": "IPY_MODEL_08a982cd963f414695e02abcb2ee2545",
            "value": "100%"
          }
        },
        "c484acc314ac4e3ebef6af7d54d96674": {
          "model_module": "@jupyter-widgets/controls",
          "model_name": "FloatProgressModel",
          "model_module_version": "1.5.0",
          "state": {
            "_dom_classes": [],
            "_model_module": "@jupyter-widgets/controls",
            "_model_module_version": "1.5.0",
            "_model_name": "FloatProgressModel",
            "_view_count": null,
            "_view_module": "@jupyter-widgets/controls",
            "_view_module_version": "1.5.0",
            "_view_name": "ProgressView",
            "bar_style": "success",
            "description": "",
            "description_tooltip": null,
            "layout": "IPY_MODEL_7825160c9a38458a8a520323394ee68b",
            "max": 46830571,
            "min": 0,
            "orientation": "horizontal",
            "style": "IPY_MODEL_210894bc545b4125b1ceadc89166c29c",
            "value": 46830571
          }
        },
        "0373c4254cc8408299b3d647a9321019": {
          "model_module": "@jupyter-widgets/controls",
          "model_name": "HTMLModel",
          "model_module_version": "1.5.0",
          "state": {
            "_dom_classes": [],
            "_model_module": "@jupyter-widgets/controls",
            "_model_module_version": "1.5.0",
            "_model_name": "HTMLModel",
            "_view_count": null,
            "_view_module": "@jupyter-widgets/controls",
            "_view_module_version": "1.5.0",
            "_view_name": "HTMLView",
            "description": "",
            "description_tooltip": null,
            "layout": "IPY_MODEL_b5ef498480ce47edaf89ec0bcc92e501",
            "placeholder": "​",
            "style": "IPY_MODEL_7340067534204e89bf7e856ef33f5aae",
            "value": " 44.7M/44.7M [00:00&lt;00:00, 178MB/s]"
          }
        },
        "5e9d3bd461014ee3a2ec639494c5c016": {
          "model_module": "@jupyter-widgets/base",
          "model_name": "LayoutModel",
          "model_module_version": "1.2.0",
          "state": {
            "_model_module": "@jupyter-widgets/base",
            "_model_module_version": "1.2.0",
            "_model_name": "LayoutModel",
            "_view_count": null,
            "_view_module": "@jupyter-widgets/base",
            "_view_module_version": "1.2.0",
            "_view_name": "LayoutView",
            "align_content": null,
            "align_items": null,
            "align_self": null,
            "border": null,
            "bottom": null,
            "display": null,
            "flex": null,
            "flex_flow": null,
            "grid_area": null,
            "grid_auto_columns": null,
            "grid_auto_flow": null,
            "grid_auto_rows": null,
            "grid_column": null,
            "grid_gap": null,
            "grid_row": null,
            "grid_template_areas": null,
            "grid_template_columns": null,
            "grid_template_rows": null,
            "height": null,
            "justify_content": null,
            "justify_items": null,
            "left": null,
            "margin": null,
            "max_height": null,
            "max_width": null,
            "min_height": null,
            "min_width": null,
            "object_fit": null,
            "object_position": null,
            "order": null,
            "overflow": null,
            "overflow_x": null,
            "overflow_y": null,
            "padding": null,
            "right": null,
            "top": null,
            "visibility": null,
            "width": null
          }
        },
        "6706b9f3dcfc42c5be2a6ca31ede4e1e": {
          "model_module": "@jupyter-widgets/base",
          "model_name": "LayoutModel",
          "model_module_version": "1.2.0",
          "state": {
            "_model_module": "@jupyter-widgets/base",
            "_model_module_version": "1.2.0",
            "_model_name": "LayoutModel",
            "_view_count": null,
            "_view_module": "@jupyter-widgets/base",
            "_view_module_version": "1.2.0",
            "_view_name": "LayoutView",
            "align_content": null,
            "align_items": null,
            "align_self": null,
            "border": null,
            "bottom": null,
            "display": null,
            "flex": null,
            "flex_flow": null,
            "grid_area": null,
            "grid_auto_columns": null,
            "grid_auto_flow": null,
            "grid_auto_rows": null,
            "grid_column": null,
            "grid_gap": null,
            "grid_row": null,
            "grid_template_areas": null,
            "grid_template_columns": null,
            "grid_template_rows": null,
            "height": null,
            "justify_content": null,
            "justify_items": null,
            "left": null,
            "margin": null,
            "max_height": null,
            "max_width": null,
            "min_height": null,
            "min_width": null,
            "object_fit": null,
            "object_position": null,
            "order": null,
            "overflow": null,
            "overflow_x": null,
            "overflow_y": null,
            "padding": null,
            "right": null,
            "top": null,
            "visibility": null,
            "width": null
          }
        },
        "08a982cd963f414695e02abcb2ee2545": {
          "model_module": "@jupyter-widgets/controls",
          "model_name": "DescriptionStyleModel",
          "model_module_version": "1.5.0",
          "state": {
            "_model_module": "@jupyter-widgets/controls",
            "_model_module_version": "1.5.0",
            "_model_name": "DescriptionStyleModel",
            "_view_count": null,
            "_view_module": "@jupyter-widgets/base",
            "_view_module_version": "1.2.0",
            "_view_name": "StyleView",
            "description_width": ""
          }
        },
        "7825160c9a38458a8a520323394ee68b": {
          "model_module": "@jupyter-widgets/base",
          "model_name": "LayoutModel",
          "model_module_version": "1.2.0",
          "state": {
            "_model_module": "@jupyter-widgets/base",
            "_model_module_version": "1.2.0",
            "_model_name": "LayoutModel",
            "_view_count": null,
            "_view_module": "@jupyter-widgets/base",
            "_view_module_version": "1.2.0",
            "_view_name": "LayoutView",
            "align_content": null,
            "align_items": null,
            "align_self": null,
            "border": null,
            "bottom": null,
            "display": null,
            "flex": null,
            "flex_flow": null,
            "grid_area": null,
            "grid_auto_columns": null,
            "grid_auto_flow": null,
            "grid_auto_rows": null,
            "grid_column": null,
            "grid_gap": null,
            "grid_row": null,
            "grid_template_areas": null,
            "grid_template_columns": null,
            "grid_template_rows": null,
            "height": null,
            "justify_content": null,
            "justify_items": null,
            "left": null,
            "margin": null,
            "max_height": null,
            "max_width": null,
            "min_height": null,
            "min_width": null,
            "object_fit": null,
            "object_position": null,
            "order": null,
            "overflow": null,
            "overflow_x": null,
            "overflow_y": null,
            "padding": null,
            "right": null,
            "top": null,
            "visibility": null,
            "width": null
          }
        },
        "210894bc545b4125b1ceadc89166c29c": {
          "model_module": "@jupyter-widgets/controls",
          "model_name": "ProgressStyleModel",
          "model_module_version": "1.5.0",
          "state": {
            "_model_module": "@jupyter-widgets/controls",
            "_model_module_version": "1.5.0",
            "_model_name": "ProgressStyleModel",
            "_view_count": null,
            "_view_module": "@jupyter-widgets/base",
            "_view_module_version": "1.2.0",
            "_view_name": "StyleView",
            "bar_color": null,
            "description_width": ""
          }
        },
        "b5ef498480ce47edaf89ec0bcc92e501": {
          "model_module": "@jupyter-widgets/base",
          "model_name": "LayoutModel",
          "model_module_version": "1.2.0",
          "state": {
            "_model_module": "@jupyter-widgets/base",
            "_model_module_version": "1.2.0",
            "_model_name": "LayoutModel",
            "_view_count": null,
            "_view_module": "@jupyter-widgets/base",
            "_view_module_version": "1.2.0",
            "_view_name": "LayoutView",
            "align_content": null,
            "align_items": null,
            "align_self": null,
            "border": null,
            "bottom": null,
            "display": null,
            "flex": null,
            "flex_flow": null,
            "grid_area": null,
            "grid_auto_columns": null,
            "grid_auto_flow": null,
            "grid_auto_rows": null,
            "grid_column": null,
            "grid_gap": null,
            "grid_row": null,
            "grid_template_areas": null,
            "grid_template_columns": null,
            "grid_template_rows": null,
            "height": null,
            "justify_content": null,
            "justify_items": null,
            "left": null,
            "margin": null,
            "max_height": null,
            "max_width": null,
            "min_height": null,
            "min_width": null,
            "object_fit": null,
            "object_position": null,
            "order": null,
            "overflow": null,
            "overflow_x": null,
            "overflow_y": null,
            "padding": null,
            "right": null,
            "top": null,
            "visibility": null,
            "width": null
          }
        },
        "7340067534204e89bf7e856ef33f5aae": {
          "model_module": "@jupyter-widgets/controls",
          "model_name": "DescriptionStyleModel",
          "model_module_version": "1.5.0",
          "state": {
            "_model_module": "@jupyter-widgets/controls",
            "_model_module_version": "1.5.0",
            "_model_name": "DescriptionStyleModel",
            "_view_count": null,
            "_view_module": "@jupyter-widgets/base",
            "_view_module_version": "1.2.0",
            "_view_name": "StyleView",
            "description_width": ""
          }
        }
      }
    }
  },
  "nbformat": 4,
  "nbformat_minor": 5
}